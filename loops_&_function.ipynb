{
  "nbformat": 4,
  "nbformat_minor": 0,
  "metadata": {
    "colab": {
      "provenance": []
    },
    "kernelspec": {
      "name": "python3",
      "display_name": "Python 3"
    },
    "language_info": {
      "name": "python"
    }
  },
  "cells": [
    {
      "cell_type": "markdown",
      "source": [
        "# while loop=\n",
        "while condition:\n",
        "\n",
        "statement1\n",
        "\n",
        "statement2\n",
        "\n",
        "...\n",
        "\n",
        "statement n\n",
        "\n",
        "\n",
        "\n"
      ],
      "metadata": {
        "id": "KlOZaTe_iEEx"
      }
    },
    {
      "cell_type": "code",
      "execution_count": null,
      "metadata": {
        "colab": {
          "base_uri": "https://localhost:8080/"
        },
        "id": "W7px_xj4hZmg",
        "outputId": "6bf952f4-7302-4542-9575-eaa47422a83b"
      },
      "outputs": [
        {
          "output_type": "stream",
          "name": "stdout",
          "text": [
            "hello world\n",
            "hello world\n",
            "hello world\n",
            "hello world\n",
            "hello world\n"
          ]
        }
      ],
      "source": [
        "i=1\n",
        "while i<=5:\n",
        "  print(\"hello world\")\n",
        "  i=i+1"
      ]
    },
    {
      "cell_type": "markdown",
      "source": [
        "print nos. from 1 to 100"
      ],
      "metadata": {
        "id": "4DOrYgCPkZTR"
      }
    },
    {
      "cell_type": "code",
      "source": [
        "i=1\n",
        "while i<=100:\n",
        "  print(i)\n",
        "  i=i+1"
      ],
      "metadata": {
        "colab": {
          "base_uri": "https://localhost:8080/"
        },
        "id": "Lu0N89dik3Tq",
        "outputId": "328af227-4245-4146-bbd8-e75cf78c6e9e"
      },
      "execution_count": null,
      "outputs": [
        {
          "output_type": "stream",
          "name": "stdout",
          "text": [
            "1\n",
            "2\n",
            "3\n",
            "4\n",
            "5\n",
            "6\n",
            "7\n",
            "8\n",
            "9\n",
            "10\n",
            "11\n",
            "12\n",
            "13\n",
            "14\n",
            "15\n",
            "16\n",
            "17\n",
            "18\n",
            "19\n",
            "20\n",
            "21\n",
            "22\n",
            "23\n",
            "24\n",
            "25\n",
            "26\n",
            "27\n",
            "28\n",
            "29\n",
            "30\n",
            "31\n",
            "32\n",
            "33\n",
            "34\n",
            "35\n",
            "36\n",
            "37\n",
            "38\n",
            "39\n",
            "40\n",
            "41\n",
            "42\n",
            "43\n",
            "44\n",
            "45\n",
            "46\n",
            "47\n",
            "48\n",
            "49\n",
            "50\n",
            "51\n",
            "52\n",
            "53\n",
            "54\n",
            "55\n",
            "56\n",
            "57\n",
            "58\n",
            "59\n",
            "60\n",
            "61\n",
            "62\n",
            "63\n",
            "64\n",
            "65\n",
            "66\n",
            "67\n",
            "68\n",
            "69\n",
            "70\n",
            "71\n",
            "72\n",
            "73\n",
            "74\n",
            "75\n",
            "76\n",
            "77\n",
            "78\n",
            "79\n",
            "80\n",
            "81\n",
            "82\n",
            "83\n",
            "84\n",
            "85\n",
            "86\n",
            "87\n",
            "88\n",
            "89\n",
            "90\n",
            "91\n",
            "92\n",
            "93\n",
            "94\n",
            "95\n",
            "96\n",
            "97\n",
            "98\n",
            "99\n",
            "100\n"
          ]
        }
      ]
    },
    {
      "cell_type": "markdown",
      "source": [
        "print the multiplication table of a number 'n'"
      ],
      "metadata": {
        "id": "BGIxHCgJlEbB"
      }
    },
    {
      "cell_type": "code",
      "source": [
        "i=1\n",
        "while i<=10:\n",
        "  print(\"2 x\",i,\"=\",2*i)\n",
        "  i=i+1"
      ],
      "metadata": {
        "colab": {
          "base_uri": "https://localhost:8080/"
        },
        "id": "OkmOVslclmX_",
        "outputId": "3f99c426-e0b3-4cc1-8ee5-a9ad520ca0da"
      },
      "execution_count": null,
      "outputs": [
        {
          "output_type": "stream",
          "name": "stdout",
          "text": [
            "2 x 1 = 2\n",
            "2 x 2 = 4\n",
            "2 x 3 = 6\n",
            "2 x 4 = 8\n",
            "2 x 5 = 10\n",
            "2 x 6 = 12\n",
            "2 x 7 = 14\n",
            "2 x 8 = 16\n",
            "2 x 9 = 18\n",
            "2 x 10 = 20\n"
          ]
        }
      ]
    },
    {
      "cell_type": "code",
      "source": [
        "i=1\n",
        "while i<=10:\n",
        "  print(\"17 x\",i,\"=\",17*i)\n",
        "  i=i+1"
      ],
      "metadata": {
        "colab": {
          "base_uri": "https://localhost:8080/"
        },
        "id": "ix7AQSezmTrp",
        "outputId": "28fa765a-ac89-4566-f8e9-4d7d9d2030ae"
      },
      "execution_count": null,
      "outputs": [
        {
          "output_type": "stream",
          "name": "stdout",
          "text": [
            "17 x 1 = 17\n",
            "17 x 2 = 34\n",
            "17 x 3 = 51\n",
            "17 x 4 = 68\n",
            "17 x 5 = 85\n",
            "17 x 6 = 102\n",
            "17 x 7 = 119\n",
            "17 x 8 = 136\n",
            "17 x 9 = 153\n",
            "17 x 10 = 170\n"
          ]
        }
      ]
    },
    {
      "cell_type": "markdown",
      "source": [
        "print the elements [12,78,34,65,100,85,46,89]"
      ],
      "metadata": {
        "id": "np7EBQyjmudo"
      }
    },
    {
      "cell_type": "code",
      "source": [
        "list=[12,78,34,65,100,85,46,89]\n",
        "i=0\n",
        "while i<len(list):\n",
        "  print(list[i])\n",
        "  i=i+1"
      ],
      "metadata": {
        "colab": {
          "base_uri": "https://localhost:8080/"
        },
        "id": "wgXZRRhym3zx",
        "outputId": "3655901f-7b6f-4ad8-f46b-2ef74bcf61ad"
      },
      "execution_count": null,
      "outputs": [
        {
          "output_type": "stream",
          "name": "stdout",
          "text": [
            "12\n",
            "78\n",
            "34\n",
            "65\n",
            "100\n",
            "85\n",
            "46\n",
            "89\n"
          ]
        }
      ]
    },
    {
      "cell_type": "markdown",
      "source": [
        "search if string has \"m\""
      ],
      "metadata": {
        "id": "zEWxTJ9UoBy0"
      }
    },
    {
      "cell_type": "code",
      "source": [
        "string=\"matermelon\"\n",
        "i=0\n",
        "while i<len(string):\n",
        "  if string[i]==\"m\":\n",
        "    print(True)\n",
        "  else:\n",
        "      print(False)\n",
        "  i=i+1"
      ],
      "metadata": {
        "colab": {
          "base_uri": "https://localhost:8080/"
        },
        "id": "WOI_Ore4p7_9",
        "outputId": "c8c416f1-2749-4952-b991-abc07858a444"
      },
      "execution_count": null,
      "outputs": [
        {
          "output_type": "stream",
          "name": "stdout",
          "text": [
            "True\n",
            "False\n",
            "False\n",
            "False\n",
            "False\n",
            "True\n",
            "False\n",
            "False\n",
            "False\n",
            "False\n"
          ]
        }
      ]
    },
    {
      "cell_type": "code",
      "source": [
        "i=100;\n",
        "while i>=1:\n",
        "  print(i)\n",
        "  i=i-1"
      ],
      "metadata": {
        "colab": {
          "base_uri": "https://localhost:8080/"
        },
        "id": "d14ExKOfBn3w",
        "outputId": "4fca5bcd-b95d-4160-9fb1-9bfb6b73f1aa"
      },
      "execution_count": null,
      "outputs": [
        {
          "output_type": "stream",
          "name": "stdout",
          "text": [
            "100\n",
            "99\n",
            "98\n",
            "97\n",
            "96\n",
            "95\n",
            "94\n",
            "93\n",
            "92\n",
            "91\n",
            "90\n",
            "89\n",
            "88\n",
            "87\n",
            "86\n",
            "85\n",
            "84\n",
            "83\n",
            "82\n",
            "81\n",
            "80\n",
            "79\n",
            "78\n",
            "77\n",
            "76\n",
            "75\n",
            "74\n",
            "73\n",
            "72\n",
            "71\n",
            "70\n",
            "69\n",
            "68\n",
            "67\n",
            "66\n",
            "65\n",
            "64\n",
            "63\n",
            "62\n",
            "61\n",
            "60\n",
            "59\n",
            "58\n",
            "57\n",
            "56\n",
            "55\n",
            "54\n",
            "53\n",
            "52\n",
            "51\n",
            "50\n",
            "49\n",
            "48\n",
            "47\n",
            "46\n",
            "45\n",
            "44\n",
            "43\n",
            "42\n",
            "41\n",
            "40\n",
            "39\n",
            "38\n",
            "37\n",
            "36\n",
            "35\n",
            "34\n",
            "33\n",
            "32\n",
            "31\n",
            "30\n",
            "29\n",
            "28\n",
            "27\n",
            "26\n",
            "25\n",
            "24\n",
            "23\n",
            "22\n",
            "21\n",
            "20\n",
            "19\n",
            "18\n",
            "17\n",
            "16\n",
            "15\n",
            "14\n",
            "13\n",
            "12\n",
            "11\n",
            "10\n",
            "9\n",
            "8\n",
            "7\n",
            "6\n",
            "5\n",
            "4\n",
            "3\n",
            "2\n",
            "1\n"
          ]
        }
      ]
    },
    {
      "cell_type": "markdown",
      "source": [
        "# for loop:"
      ],
      "metadata": {
        "id": "Qbc-o9LM-elc"
      }
    },
    {
      "cell_type": "code",
      "source": [
        "l=[12,14,16,18,30]\n",
        "for i in l:\n",
        "  print(i)"
      ],
      "metadata": {
        "colab": {
          "base_uri": "https://localhost:8080/"
        },
        "id": "h3Bnal7I-_r8",
        "outputId": "7fa86f5f-7249-4f1f-af46-50a80fcebdaa"
      },
      "execution_count": null,
      "outputs": [
        {
          "output_type": "stream",
          "name": "stdout",
          "text": [
            "12\n",
            "14\n",
            "16\n",
            "18\n",
            "30\n"
          ]
        }
      ]
    },
    {
      "cell_type": "code",
      "source": [
        "fruits=['apple','banana','mango','pear']\n",
        "for fruit in fruits:\n",
        "  print(fruit)"
      ],
      "metadata": {
        "colab": {
          "base_uri": "https://localhost:8080/"
        },
        "id": "XQ79tpFQAteK",
        "outputId": "4549c245-ce46-46f5-f3d7-ac10df341832"
      },
      "execution_count": null,
      "outputs": [
        {
          "output_type": "stream",
          "name": "stdout",
          "text": [
            "apple\n",
            "banana\n",
            "mango\n",
            "pear\n"
          ]
        }
      ]
    },
    {
      "cell_type": "code",
      "source": [
        "fruits=['apple','banana','mango','pear']\n",
        "for fruit in fruits:\n",
        "  if len(fruit)==5:\n",
        "    print(fruit);\n",
        "  else:\n",
        "    print(\"no fruit found\");"
      ],
      "metadata": {
        "colab": {
          "base_uri": "https://localhost:8080/"
        },
        "id": "dJVkXHw7BA6k",
        "outputId": "1b35534b-8f13-4048-ef0f-3d32b1b8802e"
      },
      "execution_count": null,
      "outputs": [
        {
          "output_type": "stream",
          "name": "stdout",
          "text": [
            "apple\n",
            "no fruit found\n",
            "mango\n",
            "no fruit found\n"
          ]
        }
      ]
    },
    {
      "cell_type": "code",
      "source": [
        "for i in range(1,11):\n",
        "  print(i)"
      ],
      "metadata": {
        "colab": {
          "base_uri": "https://localhost:8080/"
        },
        "id": "GFWJrK9hCPHe",
        "outputId": "eada82f4-b209-4dbd-9d3b-01d3bba5959c"
      },
      "execution_count": null,
      "outputs": [
        {
          "output_type": "stream",
          "name": "stdout",
          "text": [
            "1\n",
            "2\n",
            "3\n",
            "4\n",
            "5\n",
            "6\n",
            "7\n",
            "8\n",
            "9\n",
            "10\n"
          ]
        }
      ]
    },
    {
      "cell_type": "code",
      "source": [
        "for i in range(100,0,-1):\n",
        "  print(i)"
      ],
      "metadata": {
        "colab": {
          "base_uri": "https://localhost:8080/"
        },
        "id": "tFKgQuNbEDOB",
        "outputId": "00641356-a40b-4fac-a13b-3c1e5001a4b2"
      },
      "execution_count": null,
      "outputs": [
        {
          "output_type": "stream",
          "name": "stdout",
          "text": [
            "100\n",
            "99\n",
            "98\n",
            "97\n",
            "96\n",
            "95\n",
            "94\n",
            "93\n",
            "92\n",
            "91\n",
            "90\n",
            "89\n",
            "88\n",
            "87\n",
            "86\n",
            "85\n",
            "84\n",
            "83\n",
            "82\n",
            "81\n",
            "80\n",
            "79\n",
            "78\n",
            "77\n",
            "76\n",
            "75\n",
            "74\n",
            "73\n",
            "72\n",
            "71\n",
            "70\n",
            "69\n",
            "68\n",
            "67\n",
            "66\n",
            "65\n",
            "64\n",
            "63\n",
            "62\n",
            "61\n",
            "60\n",
            "59\n",
            "58\n",
            "57\n",
            "56\n",
            "55\n",
            "54\n",
            "53\n",
            "52\n",
            "51\n",
            "50\n",
            "49\n",
            "48\n",
            "47\n",
            "46\n",
            "45\n",
            "44\n",
            "43\n",
            "42\n",
            "41\n",
            "40\n",
            "39\n",
            "38\n",
            "37\n",
            "36\n",
            "35\n",
            "34\n",
            "33\n",
            "32\n",
            "31\n",
            "30\n",
            "29\n",
            "28\n",
            "27\n",
            "26\n",
            "25\n",
            "24\n",
            "23\n",
            "22\n",
            "21\n",
            "20\n",
            "19\n",
            "18\n",
            "17\n",
            "16\n",
            "15\n",
            "14\n",
            "13\n",
            "12\n",
            "11\n",
            "10\n",
            "9\n",
            "8\n",
            "7\n",
            "6\n",
            "5\n",
            "4\n",
            "3\n",
            "2\n",
            "1\n"
          ]
        }
      ]
    },
    {
      "cell_type": "code",
      "source": [
        "for i in range(1,11):\n",
        "  print(\"7 x\",i,\"=\",7*i)"
      ],
      "metadata": {
        "colab": {
          "base_uri": "https://localhost:8080/"
        },
        "id": "WO-A2DtIEcf-",
        "outputId": "d0ff5924-5c34-4aef-bdcc-83527c6bc65d"
      },
      "execution_count": null,
      "outputs": [
        {
          "output_type": "stream",
          "name": "stdout",
          "text": [
            "7 x 1 = 7\n",
            "7 x 2 = 14\n",
            "7 x 3 = 21\n",
            "7 x 4 = 28\n",
            "7 x 5 = 35\n",
            "7 x 6 = 42\n",
            "7 x 7 = 49\n",
            "7 x 8 = 56\n",
            "7 x 9 = 63\n",
            "7 x 10 = 70\n"
          ]
        }
      ]
    },
    {
      "cell_type": "code",
      "source": [
        "sum=0\n",
        "for i in range(10,30):\n",
        "  sum=sum+i\n",
        "  print(sum)"
      ],
      "metadata": {
        "colab": {
          "base_uri": "https://localhost:8080/"
        },
        "id": "ouIsGeXZFD5Z",
        "outputId": "8ee391cc-e671-44e8-8d38-e772d5050cbc"
      },
      "execution_count": null,
      "outputs": [
        {
          "output_type": "stream",
          "name": "stdout",
          "text": [
            "10\n",
            "21\n",
            "33\n",
            "46\n",
            "60\n",
            "75\n",
            "91\n",
            "108\n",
            "126\n",
            "145\n",
            "165\n",
            "186\n",
            "208\n",
            "231\n",
            "255\n",
            "280\n",
            "306\n",
            "333\n",
            "361\n",
            "390\n"
          ]
        }
      ]
    },
    {
      "cell_type": "markdown",
      "source": [
        "# Control Statements in Loops:\n",
        "1.continue(skip):\n",
        "it returns the control to the begining of the loop\n",
        "\n",
        "2.break: it brings control out of the loop\n",
        "\n",
        "3.pass:we use pass statements to write empty loops\n"
      ],
      "metadata": {
        "id": "C8DD4meMmd8W"
      }
    },
    {
      "cell_type": "markdown",
      "source": [
        "search for number 'X' in a given list."
      ],
      "metadata": {
        "id": "4uR-3YfPnoYK"
      }
    },
    {
      "cell_type": "code",
      "source": [
        "l=[12,13,14,45,65,76]\n",
        "n=65\n",
        "for i in l:\n",
        " print(i)\n",
        " if i==n:\n",
        "  break"
      ],
      "metadata": {
        "colab": {
          "base_uri": "https://localhost:8080/"
        },
        "id": "rCG3x4WJokM-",
        "outputId": "dbeecfd2-9478-4ded-c4d3-630e8cea886e"
      },
      "execution_count": null,
      "outputs": [
        {
          "output_type": "stream",
          "name": "stdout",
          "text": [
            "12\n",
            "13\n",
            "14\n",
            "45\n",
            "65\n"
          ]
        }
      ]
    },
    {
      "cell_type": "code",
      "source": [
        "l=[12,13,14,45,65,76]\n",
        "n=65\n",
        "for i in l:\n",
        " print(i)\n",
        " if i==n:\n",
        "   continue"
      ],
      "metadata": {
        "colab": {
          "base_uri": "https://localhost:8080/"
        },
        "id": "71Te15wwo9J5",
        "outputId": "f9a31218-3761-453c-88c6-f1d6a2dca0e9"
      },
      "execution_count": null,
      "outputs": [
        {
          "output_type": "stream",
          "name": "stdout",
          "text": [
            "12\n",
            "13\n",
            "14\n",
            "45\n",
            "65\n",
            "76\n"
          ]
        }
      ]
    },
    {
      "cell_type": "markdown",
      "source": [
        "2)Print all letters of a sentence except 'e' and 'n'"
      ],
      "metadata": {
        "id": "ES705T2UpFcP"
      }
    },
    {
      "cell_type": "code",
      "source": [
        "string='hello neha'\n",
        "for i in string:\n",
        "   if i=='e' or i=='n':\n",
        "     continue\n",
        "   else:\n",
        "      print(i)"
      ],
      "metadata": {
        "colab": {
          "base_uri": "https://localhost:8080/"
        },
        "id": "vwPipuI1pZ4F",
        "outputId": "a86edc42-0eef-4519-96fc-53f48d543b95"
      },
      "execution_count": null,
      "outputs": [
        {
          "output_type": "stream",
          "name": "stdout",
          "text": [
            "h\n",
            "l\n",
            "l\n",
            "o\n",
            " \n",
            "h\n",
            "a\n"
          ]
        }
      ]
    },
    {
      "cell_type": "markdown",
      "source": [
        "3) Given a nested list of citizens having their age,name,adress,show citizens eligible for voting"
      ],
      "metadata": {
        "id": "Aas_GrZorQjG"
      }
    },
    {
      "cell_type": "code",
      "source": [
        "citizens=[[20,'siddhi','pune'],[19,'seeta','mumbai'],[12,'geeta','karad'],[15,'rahul','jammu']]\n",
        "for citizen in citizens:\n",
        "   if citizen[0]>18: #here we take [0] becoz age is at 0th posn in lis\n",
        "    print(citizen[1],\"is eligible for voting\")\n",
        "   else:\n",
        "    print(citizen[1],\"is not eligible for voting\")\n"
      ],
      "metadata": {
        "colab": {
          "base_uri": "https://localhost:8080/"
        },
        "id": "71ES6IO2r8LS",
        "outputId": "a16455d2-f369-4c1d-adc1-18eb8ff4c403"
      },
      "execution_count": null,
      "outputs": [
        {
          "output_type": "stream",
          "name": "stdout",
          "text": [
            "siddhi is eligible for voting\n",
            "seeta is eligible for voting\n",
            "geeta is not eligible for voting\n",
            "rahul is not eligible for voting\n"
          ]
        }
      ]
    },
    {
      "cell_type": "code",
      "source": [
        "citizens=[[20,'siddhi','pune'],[19,'seeta','mumbai'],[12,'geeta','karad'],[15,'rahul','jammu']]\n",
        "for citizen in citizens:\n",
        "   if citizen[0]>18: #here we take [0] becoz age is at 0th posn in lis\n",
        "    print(citizen[1],\"is eligible for voting\")\n",
        "   else:\n",
        "    break"
      ],
      "metadata": {
        "colab": {
          "base_uri": "https://localhost:8080/"
        },
        "id": "RY-U3MCcu9lt",
        "outputId": "06cfca52-b7d9-4e32-f6f5-e23732cd6494"
      },
      "execution_count": null,
      "outputs": [
        {
          "output_type": "stream",
          "name": "stdout",
          "text": [
            "siddhi is eligible for voting\n",
            "seeta is eligible for voting\n"
          ]
        }
      ]
    },
    {
      "cell_type": "markdown",
      "source": [
        "4)Create a code implementing pass statement"
      ],
      "metadata": {
        "id": "Dj3DfPlyvFlg"
      }
    },
    {
      "cell_type": "code",
      "source": [
        "for i in range(1,11):\n",
        "  print(i)\n",
        "  if i==5:\n"
      ],
      "metadata": {
        "colab": {
          "base_uri": "https://localhost:8080/",
          "height": 106
        },
        "id": "CgPzoxhuvS6O",
        "outputId": "9569c62e-9b33-4899-abb1-5d703354f904"
      },
      "execution_count": null,
      "outputs": [
        {
          "output_type": "error",
          "ename": "SyntaxError",
          "evalue": "incomplete input (<ipython-input-15-047d12b6d02d>, line 4)",
          "traceback": [
            "\u001b[0;36m  File \u001b[0;32m\"<ipython-input-15-047d12b6d02d>\"\u001b[0;36m, line \u001b[0;32m4\u001b[0m\n\u001b[0;31m    \u001b[0m\n\u001b[0m    ^\u001b[0m\n\u001b[0;31mSyntaxError\u001b[0m\u001b[0;31m:\u001b[0m incomplete input\n"
          ]
        }
      ]
    },
    {
      "cell_type": "code",
      "source": [
        "for i in range(1,11):\n",
        "  print(i)\n",
        "  if i==5:\n",
        "    pass  #pass does not give error for empty code"
      ],
      "metadata": {
        "colab": {
          "base_uri": "https://localhost:8080/"
        },
        "id": "zwhn9O_8v5BX",
        "outputId": "871d4af8-ebd2-4111-988e-8b992704fc33"
      },
      "execution_count": null,
      "outputs": [
        {
          "output_type": "stream",
          "name": "stdout",
          "text": [
            "1\n",
            "2\n",
            "3\n",
            "4\n",
            "5\n",
            "6\n",
            "7\n",
            "8\n",
            "9\n",
            "10\n"
          ]
        }
      ]
    },
    {
      "cell_type": "markdown",
      "source": [
        "# Functions:\n",
        "![Screenshot 2024-07-16 183827.png](data:image/png;base64,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)\n"
      ],
      "metadata": {
        "id": "wvRr5RUBpUCs"
      }
    },
    {
      "cell_type": "code",
      "source": [
        "def add(num1,num2):\n",
        "  print(num1+num2)"
      ],
      "metadata": {
        "id": "ij16skvzxPlE"
      },
      "execution_count": null,
      "outputs": []
    },
    {
      "cell_type": "code",
      "source": [
        "add(5,10)"
      ],
      "metadata": {
        "colab": {
          "base_uri": "https://localhost:8080/"
        },
        "id": "wpoWBcapxhZC",
        "outputId": "d02bdafe-0b1a-4cc3-d071-da51a8d168bc"
      },
      "execution_count": null,
      "outputs": [
        {
          "output_type": "stream",
          "name": "stdout",
          "text": [
            "15\n"
          ]
        }
      ]
    },
    {
      "cell_type": "code",
      "source": [
        "add(21,42)"
      ],
      "metadata": {
        "colab": {
          "base_uri": "https://localhost:8080/"
        },
        "id": "qO33Cf2MxmXr",
        "outputId": "bbb8d28c-aa9f-4004-d862-5e0ce4b437f1"
      },
      "execution_count": null,
      "outputs": [
        {
          "output_type": "stream",
          "name": "stdout",
          "text": [
            "63\n"
          ]
        }
      ]
    },
    {
      "cell_type": "markdown",
      "source": [
        "Types of Functions in python:\n",
        "\n",
        "1)Build in functions:\n",
        "print(),input(),type(),len(),range()\n",
        "\n",
        "2)User defined functions"
      ],
      "metadata": {
        "id": "nYEQdBjfx3l3"
      }
    },
    {
      "cell_type": "markdown",
      "source": [
        "1)Write a function to print greeting message by taking a name from user.also use default parameter"
      ],
      "metadata": {
        "id": "G9aX1f8WzABD"
      }
    },
    {
      "cell_type": "code",
      "source": [
        " def greet(name):\n",
        "  print('Hello',name,'hope you are doing great')"
      ],
      "metadata": {
        "id": "RCnmi9EOR-dZ"
      },
      "execution_count": null,
      "outputs": []
    },
    {
      "cell_type": "code",
      "source": [
        "  name=input('Enter your Name:')\n",
        "  greet(name)"
      ],
      "metadata": {
        "colab": {
          "base_uri": "https://localhost:8080/"
        },
        "id": "lYXVA-uBTHWN",
        "outputId": "1af0d718-659f-4f4d-e8a5-9335dac999b7"
      },
      "execution_count": null,
      "outputs": [
        {
          "output_type": "stream",
          "name": "stdout",
          "text": [
            "Enter your Name:Siddhi\n",
            "Hello Siddhi hope you are doing great\n"
          ]
        }
      ]
    },
    {
      "cell_type": "code",
      "source": [
        "name=input('Enter your Name:')\n",
        "greet(name)"
      ],
      "metadata": {
        "colab": {
          "base_uri": "https://localhost:8080/"
        },
        "id": "3VqTYrEbTfjS",
        "outputId": "7d13b7c0-8ff1-4d4e-f6b6-a76ccbb1e66d"
      },
      "execution_count": null,
      "outputs": [
        {
          "output_type": "stream",
          "name": "stdout",
          "text": [
            "Enter your Name:Rahul\n",
            "Hello Rahul hope you are doing great\n"
          ]
        }
      ]
    },
    {
      "cell_type": "markdown",
      "source": [
        "2)write a function to return minimum amd maximum value from a list"
      ],
      "metadata": {
        "id": "oZuXKZL9TwCm"
      }
    },
    {
      "cell_type": "code",
      "source": [
        "def min_max(list):\n",
        "  m=min(list)\n",
        "  n=max(list)\n",
        "  return(m,n)"
      ],
      "metadata": {
        "id": "7OwCLMsxT6c_"
      },
      "execution_count": null,
      "outputs": []
    },
    {
      "cell_type": "code",
      "source": [
        "min_n,max_n=min_max([12,16,78,1,56])"
      ],
      "metadata": {
        "id": "_LsvggdVUiDQ"
      },
      "execution_count": null,
      "outputs": []
    },
    {
      "cell_type": "code",
      "source": [
        "print(min_n,max_n)"
      ],
      "metadata": {
        "colab": {
          "base_uri": "https://localhost:8080/"
        },
        "id": "c5qa5AWpVLPH",
        "outputId": "74b4c371-6893-4027-e85a-6ad3dcccb106"
      },
      "execution_count": null,
      "outputs": [
        {
          "output_type": "stream",
          "name": "stdout",
          "text": [
            "1 78\n"
          ]
        }
      ]
    },
    {
      "cell_type": "markdown",
      "source": [
        "3)write a function to convert USD to INR"
      ],
      "metadata": {
        "id": "leKXm3BvVs8l"
      }
    },
    {
      "cell_type": "code",
      "source": [
        "def usd_inr(usd):\n",
        "  return usd*83.40"
      ],
      "metadata": {
        "id": "sKh5RVg2V0qI"
      },
      "execution_count": null,
      "outputs": []
    },
    {
      "cell_type": "code",
      "source": [
        "print(usd_inr(2))"
      ],
      "metadata": {
        "colab": {
          "base_uri": "https://localhost:8080/"
        },
        "id": "9CnFsHDOWBJ5",
        "outputId": "872bf48c-55af-4280-a395-abcf760a6db8"
      },
      "execution_count": null,
      "outputs": [
        {
          "output_type": "stream",
          "name": "stdout",
          "text": [
            "166.8\n"
          ]
        }
      ]
    },
    {
      "cell_type": "markdown",
      "source": [
        "4) create a basic calculator to perform operation on two number"
      ],
      "metadata": {
        "id": "UvtW_D8_WNbN"
      }
    },
    {
      "cell_type": "code",
      "source": [
        "def calculator(num1,num2,opr):\n",
        "  if opr=='+':\n",
        "    return num1+num2\n",
        "  elif opr=='-':\n",
        "    return num1-num2\n",
        "  elif opr=='*':\n",
        "    return num1*num2\n",
        "  elif opr=='/':\n",
        "    return num1/num2\n",
        "  else:\n",
        "    return 'invalid operator'\n"
      ],
      "metadata": {
        "id": "18YQMJk0Wet8"
      },
      "execution_count": null,
      "outputs": []
    },
    {
      "cell_type": "code",
      "source": [
        "print(calculator(5,7,'-'))"
      ],
      "metadata": {
        "colab": {
          "base_uri": "https://localhost:8080/"
        },
        "id": "2nl5ylN9YG7h",
        "outputId": "a08296f2-34dc-4893-969a-fe181706d355"
      },
      "execution_count": null,
      "outputs": [
        {
          "output_type": "stream",
          "name": "stdout",
          "text": [
            "-2\n"
          ]
        }
      ]
    },
    {
      "cell_type": "markdown",
      "source": [
        "# Args & Kwargs:"
      ],
      "metadata": {
        "id": "pC5UBunjcLVj"
      }
    },
    {
      "cell_type": "markdown",
      "source": [
        "args(non keyword arguments)=(*)"
      ],
      "metadata": {
        "id": "DlCUkeUdb4V-"
      }
    },
    {
      "cell_type": "markdown",
      "source": [
        "kwargs(keyword arguments)=(**)"
      ],
      "metadata": {
        "id": "w9OAkCFsb8kF"
      }
    },
    {
      "cell_type": "code",
      "source": [
        "def addition(num1,num2):\n",
        "  return num1+num2"
      ],
      "metadata": {
        "id": "4hJzLqXfcUId"
      },
      "execution_count": null,
      "outputs": []
    },
    {
      "cell_type": "code",
      "source": [
        "addition(1,2,3)"
      ],
      "metadata": {
        "colab": {
          "base_uri": "https://localhost:8080/",
          "height": 141
        },
        "id": "0aKpm3r9crhV",
        "outputId": "c971d514-b827-42b9-8137-bc0ee6d178dd"
      },
      "execution_count": 4,
      "outputs": [
        {
          "output_type": "error",
          "ename": "NameError",
          "evalue": "name 'addition' is not defined",
          "traceback": [
            "\u001b[0;31m---------------------------------------------------------------------------\u001b[0m",
            "\u001b[0;31mNameError\u001b[0m                                 Traceback (most recent call last)",
            "\u001b[0;32m<ipython-input-4-15d9c2251f36>\u001b[0m in \u001b[0;36m<cell line: 1>\u001b[0;34m()\u001b[0m\n\u001b[0;32m----> 1\u001b[0;31m \u001b[0maddition\u001b[0m\u001b[0;34m(\u001b[0m\u001b[0;36m1\u001b[0m\u001b[0;34m,\u001b[0m\u001b[0;36m2\u001b[0m\u001b[0;34m,\u001b[0m\u001b[0;36m3\u001b[0m\u001b[0;34m)\u001b[0m\u001b[0;34m\u001b[0m\u001b[0;34m\u001b[0m\u001b[0m\n\u001b[0m",
            "\u001b[0;31mNameError\u001b[0m: name 'addition' is not defined"
          ]
        }
      ]
    },
    {
      "cell_type": "markdown",
      "source": [
        "# To solve this type of error we use args(*)"
      ],
      "metadata": {
        "id": "Lo4iuAXXcu5t"
      }
    },
    {
      "cell_type": "code",
      "source": [
        " def add(*nums):\n",
        "  sum=0\n",
        "  for i in nums:\n",
        "    sum=sum+i\n",
        "  return sum"
      ],
      "metadata": {
        "id": "Sx8IVfwpdRsG"
      },
      "execution_count": 9,
      "outputs": []
    },
    {
      "cell_type": "code",
      "source": [
        "add(9,8,7,1)"
      ],
      "metadata": {
        "colab": {
          "base_uri": "https://localhost:8080/"
        },
        "id": "_NWAIdN3TzNq",
        "outputId": "f3c4989d-04d2-47a9-cb47-c9606b4444d6"
      },
      "execution_count": 11,
      "outputs": [
        {
          "output_type": "execute_result",
          "data": {
            "text/plain": [
              "25"
            ]
          },
          "metadata": {},
          "execution_count": 11
        }
      ]
    },
    {
      "cell_type": "markdown",
      "source": [
        "kwargs(**): for key-value argument(dictionary)"
      ],
      "metadata": {
        "id": "u0Doak18Uxwk"
      }
    },
    {
      "cell_type": "code",
      "source": [
        "def info(**students):\n",
        "  for key,value in students.items():\n",
        "    print(type(value))"
      ],
      "metadata": {
        "id": "HEJTx99vVabp"
      },
      "execution_count": 18,
      "outputs": []
    },
    {
      "cell_type": "code",
      "source": [
        "info(name='siddhi',age=20,location='pune')\n",
        "info(age=22,name='vaibhav',location='pune')"
      ],
      "metadata": {
        "colab": {
          "base_uri": "https://localhost:8080/"
        },
        "id": "gWzojaE_VocK",
        "outputId": "30496d0e-370b-4cd4-eea3-750be8872086"
      },
      "execution_count": 22,
      "outputs": [
        {
          "output_type": "stream",
          "name": "stdout",
          "text": [
            "<class 'str'>\n",
            "<class 'int'>\n",
            "<class 'str'>\n",
            "<class 'int'>\n",
            "<class 'str'>\n",
            "<class 'str'>\n"
          ]
        }
      ]
    },
    {
      "cell_type": "markdown",
      "source": [
        "1) write a function to take variable number of numbers and add it to a list"
      ],
      "metadata": {
        "id": "-JktgqjBWeqb"
      }
    },
    {
      "cell_type": "code",
      "source": [
        "def create_list(*nums):\n",
        "  l=list()\n",
        "  for i in nums:\n",
        "    l.append(i)\n",
        "  return l\n"
      ],
      "metadata": {
        "id": "t9zlaSJ8WpM_"
      },
      "execution_count": 25,
      "outputs": []
    },
    {
      "cell_type": "code",
      "source": [
        "create_list(9,8,7,6,4,33,2)"
      ],
      "metadata": {
        "colab": {
          "base_uri": "https://localhost:8080/"
        },
        "id": "oSNBh_LpXWRE",
        "outputId": "a9f7a79e-60b4-44b5-fe73-4aaf6ca58c13"
      },
      "execution_count": 26,
      "outputs": [
        {
          "output_type": "execute_result",
          "data": {
            "text/plain": [
              "[9, 8, 7, 6, 4, 33, 2]"
            ]
          },
          "metadata": {},
          "execution_count": 26
        }
      ]
    },
    {
      "cell_type": "markdown",
      "source": [
        "2)write a function to return a sentence by combining keyword argument words"
      ],
      "metadata": {
        "id": "K_f8DNIQXcKp"
      }
    },
    {
      "cell_type": "code",
      "source": [
        "def create_sentence(**words):\n",
        "  sent=''\n",
        "  for key,value in words.items():\n",
        "    sent=sent+' '+value\n",
        "  return sent"
      ],
      "metadata": {
        "id": "9pTmNOE6XsHO"
      },
      "execution_count": 42,
      "outputs": []
    },
    {
      "cell_type": "code",
      "source": [
        "print(create_sentence(word1='I',word2='am',word3='good'))\n",
        "print(create_sentence(word1='good',word2='to',word3='meet'))\n",
        "print(create_sentence(letter4='I',letter5='am',letter6='good'))"
      ],
      "metadata": {
        "colab": {
          "base_uri": "https://localhost:8080/"
        },
        "id": "LUiwwpixYNmP",
        "outputId": "ab404ff0-b874-4590-ac01-60def63f55a4"
      },
      "execution_count": 47,
      "outputs": [
        {
          "output_type": "stream",
          "name": "stdout",
          "text": [
            " I am good\n",
            " good to meet\n",
            " I am good\n"
          ]
        }
      ]
    }
  ]
}