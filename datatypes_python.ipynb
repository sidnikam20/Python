{
  "nbformat": 4,
  "nbformat_minor": 0,
  "metadata": {
    "colab": {
      "provenance": []
    },
    "kernelspec": {
      "name": "python3",
      "display_name": "Python 3"
    },
    "language_info": {
      "name": "python"
    }
  },
  "cells": [
    {
      "cell_type": "code",
      "execution_count": null,
      "metadata": {
        "id": "6CbavNlg6dy0"
      },
      "outputs": [],
      "source": []
    },
    {
      "cell_type": "markdown",
      "source": [
        "Lists are the build in datatype in python.\n",
        "lists are mutable(we can make changes in it after build in)"
      ],
      "metadata": {
        "id": "oofWXmA06u5j"
      }
    },
    {
      "cell_type": "code",
      "source": [
        "employees=[ 21,\"siddhi\",77,45]\n",
        "print(employees)"
      ],
      "metadata": {
        "colab": {
          "base_uri": "https://localhost:8080/"
        },
        "id": "TjEPB5Uu9bIa",
        "outputId": "fd98ddff-5f2d-4e79-8114-349512e97ec1"
      },
      "execution_count": null,
      "outputs": [
        {
          "output_type": "stream",
          "name": "stdout",
          "text": [
            "[21, 'siddhi', 77, 45]\n"
          ]
        }
      ]
    },
    {
      "cell_type": "code",
      "source": [
        "print(employees[1:4])"
      ],
      "metadata": {
        "colab": {
          "base_uri": "https://localhost:8080/"
        },
        "id": "715la61B-W4I",
        "outputId": "ee7a1b84-a739-45f7-b905-edef0bf32f41"
      },
      "execution_count": null,
      "outputs": [
        {
          "output_type": "stream",
          "name": "stdout",
          "text": [
            "['siddhi', 77, 45]\n"
          ]
        }
      ]
    },
    {
      "cell_type": "markdown",
      "source": [
        "apend means add element at the end of list"
      ],
      "metadata": {
        "id": "93gpxCIe_eVM"
      }
    },
    {
      "cell_type": "code",
      "source": [
        "employees.append(\"radha\")\n",
        "print(employees)"
      ],
      "metadata": {
        "colab": {
          "base_uri": "https://localhost:8080/"
        },
        "id": "kNLbEXLh_jli",
        "outputId": "cf519689-dacf-49bf-ec6f-8ad687069069"
      },
      "execution_count": null,
      "outputs": [
        {
          "output_type": "stream",
          "name": "stdout",
          "text": [
            "[21, 'siddhi', 77, 45, 'radha', 'radha']\n"
          ]
        }
      ]
    },
    {
      "cell_type": "markdown",
      "source": [
        "sorts():sorts the elements in list in ascending order"
      ],
      "metadata": {
        "id": "RIqiE-0K_5Yd"
      }
    },
    {
      "cell_type": "code",
      "source": [
        "values=[99,87,65,100,45,75]\n",
        "values.sort()\n",
        "print(values)"
      ],
      "metadata": {
        "colab": {
          "base_uri": "https://localhost:8080/"
        },
        "id": "AGa-hjhYAArb",
        "outputId": "0c9680bf-684c-40fa-de3c-7928df4becc2"
      },
      "execution_count": null,
      "outputs": [
        {
          "output_type": "stream",
          "name": "stdout",
          "text": [
            "[45, 65, 75, 87, 99, 100]\n"
          ]
        }
      ]
    },
    {
      "cell_type": "markdown",
      "source": [
        "sort() fun permenantly sorts the list and save it as sorted\n",
        "print(sorted(values)) temporary sort list later on it gives original list"
      ],
      "metadata": {
        "id": "8pZ-jR_sAfl1"
      }
    },
    {
      "cell_type": "code",
      "source": [
        "num=[23,43,98,1000,431,323]\n",
        "print(sorted(num))\n",
        "print(num)"
      ],
      "metadata": {
        "colab": {
          "base_uri": "https://localhost:8080/"
        },
        "id": "fcD-1IKYAxE9",
        "outputId": "7ccfafad-4b13-4f5d-a450-a4bae9a1f7b2"
      },
      "execution_count": null,
      "outputs": [
        {
          "output_type": "stream",
          "name": "stdout",
          "text": [
            "[23, 43, 98, 323, 431, 1000]\n",
            "[23, 43, 98, 1000, 431, 323]\n"
          ]
        }
      ]
    },
    {
      "cell_type": "markdown",
      "source": [
        "to give list in descending order we give reverse function\n",
        "**num.sort(reverse=True)**"
      ],
      "metadata": {
        "id": "IcGdMUZhBIV3"
      }
    },
    {
      "cell_type": "code",
      "source": [
        "num.sort(reverse=True)\n",
        "print(num)"
      ],
      "metadata": {
        "colab": {
          "base_uri": "https://localhost:8080/"
        },
        "id": "arTWq8VsBbvb",
        "outputId": "cc463467-2b04-4fad-9d3c-0758d236a423"
      },
      "execution_count": null,
      "outputs": [
        {
          "output_type": "stream",
          "name": "stdout",
          "text": [
            "[1000, 431, 323, 98, 43, 23]\n"
          ]
        }
      ]
    },
    {
      "cell_type": "markdown",
      "source": [
        "**num.reverse()** only reverse the string no sorting"
      ],
      "metadata": {
        "id": "BhwRwRnVBy6W"
      }
    },
    {
      "cell_type": "code",
      "source": [
        "num.reverse()\n",
        "print(num)"
      ],
      "metadata": {
        "colab": {
          "base_uri": "https://localhost:8080/"
        },
        "id": "C4iWq71OB5wd",
        "outputId": "3c1dc61f-1409-4e15-cc9d-f7e7c79fec38"
      },
      "execution_count": null,
      "outputs": [
        {
          "output_type": "stream",
          "name": "stdout",
          "text": [
            "[23, 43, 98, 323, 431, 1000]\n"
          ]
        }
      ]
    },
    {
      "cell_type": "markdown",
      "source": [
        "insert use to add element where you want in list\n",
        "**scores.insert(indx,ele)**"
      ],
      "metadata": {
        "id": "B7TgY6gECISS"
      }
    },
    {
      "cell_type": "code",
      "source": [
        "scores=[78,79,90,87]\n",
        "scores.insert(2,99)\n",
        "print(scores)"
      ],
      "metadata": {
        "colab": {
          "base_uri": "https://localhost:8080/"
        },
        "id": "KPcw794TCV_L",
        "outputId": "136698a3-479c-446f-bb92-b00ebbd60e0c"
      },
      "execution_count": null,
      "outputs": [
        {
          "output_type": "stream",
          "name": "stdout",
          "text": [
            "[78, 79, 99, 90, 87]\n"
          ]
        }
      ]
    },
    {
      "cell_type": "markdown",
      "source": [
        "**scores.remove(element)**\n",
        "if there are two same elements it only remove first occurance"
      ],
      "metadata": {
        "id": "3DtGvIhYCsWi"
      }
    },
    {
      "cell_type": "code",
      "source": [
        "scores.insert(3,99)\n",
        "print(scores)\n",
        "scores.remove(99)\n",
        "print(scores)"
      ],
      "metadata": {
        "colab": {
          "base_uri": "https://localhost:8080/"
        },
        "id": "lbfYi0LGC1l0",
        "outputId": "dbbaf256-e29e-4003-e97f-4dd66f77841b"
      },
      "execution_count": null,
      "outputs": [
        {
          "output_type": "stream",
          "name": "stdout",
          "text": [
            "[78, 79, 99, 99, 90, 87]\n",
            "[78, 79, 99, 90, 87]\n"
          ]
        }
      ]
    },
    {
      "cell_type": "markdown",
      "source": [
        "**scores.pop(index)**\n",
        "if index not shown it remove last element"
      ],
      "metadata": {
        "id": "1PNmbGG-DIzL"
      }
    },
    {
      "cell_type": "code",
      "source": [
        "scores.pop()\n",
        "print(scores)"
      ],
      "metadata": {
        "colab": {
          "base_uri": "https://localhost:8080/"
        },
        "id": "JSR8DmZKDRAj",
        "outputId": "3c87e2e4-740a-4a75-e689-02845a7427a2"
      },
      "execution_count": null,
      "outputs": [
        {
          "output_type": "stream",
          "name": "stdout",
          "text": [
            "[78, 79, 99, 90]\n"
          ]
        }
      ]
    },
    {
      "cell_type": "markdown",
      "source": [
        "tuples are build in datatypes in python\n",
        "**immutable**\n",
        "tuple=(1,2,3)\n",
        "comma is imp to get datatype as tuple"
      ],
      "metadata": {
        "id": "xPhuuuEyO0Ko"
      }
    },
    {
      "cell_type": "code",
      "source": [
        "tup=(2,3,4,5)\n",
        "print(type(tup))\n",
        "tuple=(\"okk\")\n",
        "print(type(tuple))"
      ],
      "metadata": {
        "colab": {
          "base_uri": "https://localhost:8080/"
        },
        "id": "NYQauqe6PWe3",
        "outputId": "5644e82c-ad06-4762-cb8e-89be3f1384be"
      },
      "execution_count": null,
      "outputs": [
        {
          "output_type": "stream",
          "name": "stdout",
          "text": [
            "<class 'tuple'>\n",
            "<class 'str'>\n"
          ]
        }
      ]
    },
    {
      "cell_type": "code",
      "source": [
        "print(tup[0])\n",
        "print(tup[1:3])"
      ],
      "metadata": {
        "colab": {
          "base_uri": "https://localhost:8080/"
        },
        "id": "ZWjJ2j_7P2qq",
        "outputId": "74183979-28ad-4193-983a-d57039ddfa92"
      },
      "execution_count": null,
      "outputs": [
        {
          "output_type": "stream",
          "name": "stdout",
          "text": [
            "2\n",
            "(3, 4)\n"
          ]
        }
      ]
    },
    {
      "cell_type": "markdown",
      "source": [
        "properties of tuple=\n",
        "1.**tup.index**=gives index of that number\n",
        "2.**tup.count**=gives occurance of number"
      ],
      "metadata": {
        "id": "UY_YnpkURK6r"
      }
    },
    {
      "cell_type": "code",
      "source": [
        "tup1=(22,33,44,55,55,65)\n",
        "print(tup1.index(33))\n",
        "print(tup1.count(55))"
      ],
      "metadata": {
        "colab": {
          "base_uri": "https://localhost:8080/"
        },
        "id": "kwrDByUSRbRv",
        "outputId": "20201162-374b-4a77-dbff-1d76bb6252dc"
      },
      "execution_count": null,
      "outputs": [
        {
          "output_type": "stream",
          "name": "stdout",
          "text": [
            "1\n",
            "2\n"
          ]
        }
      ]
    },
    {
      "cell_type": "markdown",
      "source": [
        "**dictionaries:**\n",
        "1)store data values in **key:value** pairs\n",
        "2)they are unordered(no indexing)\n",
        "3)mutable\n",
        "4)don't allow duplicate keys\n"
      ],
      "metadata": {
        "id": "aIvcWn_oSy-j"
      }
    },
    {
      "cell_type": "code",
      "source": [
        "info={'name':'siddhi','age':19,'marks':[21,22,23]}\n",
        "print(info)\n",
        "print(type(info))"
      ],
      "metadata": {
        "colab": {
          "base_uri": "https://localhost:8080/"
        },
        "id": "D1BLYD2YUrAp",
        "outputId": "2a496378-9632-4232-b42a-32692eaf439a"
      },
      "execution_count": null,
      "outputs": [
        {
          "output_type": "stream",
          "name": "stdout",
          "text": [
            "{'name': 'siddhi', 'age': 19, 'marks': [21, 22, 23]}\n",
            "<class 'dict'>\n"
          ]
        }
      ]
    },
    {
      "cell_type": "code",
      "source": [
        "info={'name':'siddhi','age':19,'marks':[21,22,23]}\n",
        "print(info['name'])\n",
        "info['name']='vaidehi'\n",
        "print(info)"
      ],
      "metadata": {
        "colab": {
          "base_uri": "https://localhost:8080/"
        },
        "id": "xJYxS_c8gh2Z",
        "outputId": "20b9afa3-bf35-4080-b506-2a9aecc81e1d"
      },
      "execution_count": null,
      "outputs": [
        {
          "output_type": "stream",
          "name": "stdout",
          "text": [
            "siddhi\n",
            "{'name': 'vaidehi', 'age': 19, 'marks': [21, 22, 23]}\n"
          ]
        }
      ]
    },
    {
      "cell_type": "markdown",
      "source": [
        "**nested dictionary**"
      ],
      "metadata": {
        "id": "ZwI66QUQhynY"
      }
    },
    {
      "cell_type": "code",
      "source": [
        "info2={'name':'siddhi','skills':'coding','marks':{'english':98,'maths':99}}\n",
        "print(info2)"
      ],
      "metadata": {
        "colab": {
          "base_uri": "https://localhost:8080/"
        },
        "id": "CEJJk3nlh90H",
        "outputId": "5bdb605a-52d6-444b-9200-12fd2b0e4d73"
      },
      "execution_count": null,
      "outputs": [
        {
          "output_type": "stream",
          "name": "stdout",
          "text": [
            "{'name': 'siddhi', 'skills': 'coding', 'marks': {'english': 98, 'maths': 99}}\n"
          ]
        }
      ]
    },
    {
      "cell_type": "code",
      "source": [
        "print(info2['marks']['maths'])\n",
        "print(info2['skills'])"
      ],
      "metadata": {
        "colab": {
          "base_uri": "https://localhost:8080/"
        },
        "id": "QGjc2P1Oixuq",
        "outputId": "9c4aaf67-f016-42e7-c31a-3d56d58d15b1"
      },
      "execution_count": null,
      "outputs": [
        {
          "output_type": "stream",
          "name": "stdout",
          "text": [
            "99\n",
            "coding\n"
          ]
        }
      ]
    },
    {
      "cell_type": "markdown",
      "source": [
        "**dict.keys**= return key values from dictionary"
      ],
      "metadata": {
        "id": "2rIPtPmVjRS0"
      }
    },
    {
      "cell_type": "code",
      "source": [
        "info={'name':'siddhi','age':19,'marks':[21,22,23]}\n",
        "print(info.keys())\n",
        "keys=list(info.keys())\n",
        "print(keys)"
      ],
      "metadata": {
        "colab": {
          "base_uri": "https://localhost:8080/"
        },
        "id": "oh-BZ0mojdV7",
        "outputId": "f70890a7-b5e7-4ceb-b9bd-443d24be14f9"
      },
      "execution_count": null,
      "outputs": [
        {
          "output_type": "stream",
          "name": "stdout",
          "text": [
            "dict_keys(['name', 'age', 'marks'])\n",
            "['name', 'age', 'marks']\n"
          ]
        }
      ]
    },
    {
      "cell_type": "markdown",
      "source": [
        "**dict.values**=return values from dictionary"
      ],
      "metadata": {
        "id": "AT9eRlAjkHj3"
      }
    },
    {
      "cell_type": "code",
      "source": [
        "values=list(info.values())\n",
        "print(values)"
      ],
      "metadata": {
        "colab": {
          "base_uri": "https://localhost:8080/"
        },
        "id": "T8t_FPkKkNeY",
        "outputId": "6b84a0df-7592-4306-fd3f-ba30872c866c"
      },
      "execution_count": null,
      "outputs": [
        {
          "output_type": "stream",
          "name": "stdout",
          "text": [
            "['siddhi', 19, [21, 22, 23]]\n"
          ]
        }
      ]
    },
    {
      "cell_type": "markdown",
      "source": [
        "**dict.items**=returns keys and values"
      ],
      "metadata": {
        "id": "a4QnV0OQkaRF"
      }
    },
    {
      "cell_type": "code",
      "source": [
        "items=list(info.items())\n",
        "print(items)"
      ],
      "metadata": {
        "colab": {
          "base_uri": "https://localhost:8080/"
        },
        "id": "zor9N31MknSk",
        "outputId": "57168269-3c08-4dce-dd28-97ee9685a468"
      },
      "execution_count": null,
      "outputs": [
        {
          "output_type": "stream",
          "name": "stdout",
          "text": [
            "[('name', 'siddhi'), ('age', 19), ('marks', [21, 22, 23])]\n"
          ]
        }
      ]
    },
    {
      "cell_type": "markdown",
      "source": [
        "if we dont convert it into list it by default convert as a tuple"
      ],
      "metadata": {
        "id": "SxuUJgDZk_DL"
      }
    },
    {
      "cell_type": "markdown",
      "source": [
        "get method=\n",
        "**dict.get(\"key\")**=returns value of particular key"
      ],
      "metadata": {
        "id": "n-pDkDs1lIH1"
      }
    },
    {
      "cell_type": "code",
      "source": [
        "print(info.get('age'))\n",
        "print(info.get('ae'))"
      ],
      "metadata": {
        "colab": {
          "base_uri": "https://localhost:8080/"
        },
        "id": "IxvFEA0DlZJi",
        "outputId": "b80ed5e1-3b8c-49e7-eabf-0490ef51fdad"
      },
      "execution_count": null,
      "outputs": [
        {
          "output_type": "stream",
          "name": "stdout",
          "text": [
            "19\n",
            "None\n"
          ]
        }
      ]
    },
    {
      "cell_type": "markdown",
      "source": [
        "dict.update({newdict})"
      ],
      "metadata": {
        "id": "kpPemORSl9sF"
      }
    },
    {
      "cell_type": "code",
      "source": [
        "info.update({'adress':'pune'})\n",
        "print(info)\n",
        "# or we can try/\n",
        "new_dict={'birthday':'2004'}\n",
        "info.update(new_dict)\n",
        "print(info)\n"
      ],
      "metadata": {
        "colab": {
          "base_uri": "https://localhost:8080/"
        },
        "id": "WiZQuuEwmGWf",
        "outputId": "218cd3c5-f099-42c2-d4e7-ed8f600eb795"
      },
      "execution_count": null,
      "outputs": [
        {
          "output_type": "stream",
          "name": "stdout",
          "text": [
            "{'name': 'siddhi', 'age': 19, 'marks': [21, 22, 23], 'adress': 'pune'}\n",
            "{'name': 'siddhi', 'age': 19, 'marks': [21, 22, 23], 'adress': 'pune', 'birthday': '2004'}\n"
          ]
        }
      ]
    },
    {
      "cell_type": "markdown",
      "source": [
        "**dict.pop(\"key\")**"
      ],
      "metadata": {
        "id": "EGk0sM2qnoxO"
      }
    },
    {
      "cell_type": "code",
      "source": [
        "info.pop('age')\n",
        "print(info)\n"
      ],
      "metadata": {
        "colab": {
          "base_uri": "https://localhost:8080/"
        },
        "id": "fL64OqWonwGF",
        "outputId": "3123875c-bf83-46a4-ca83-52791017d19c"
      },
      "execution_count": null,
      "outputs": [
        {
          "output_type": "stream",
          "name": "stdout",
          "text": [
            "{'marks': [21, 22, 23], 'adress': 'pune', 'birthday': '2004'}\n"
          ]
        }
      ]
    },
    {
      "cell_type": "markdown",
      "source": [
        "**dict.popitem()**= here we dont have to mention any key it simply deletes last one"
      ],
      "metadata": {
        "id": "dyCrhZN0ofoD"
      }
    },
    {
      "cell_type": "code",
      "source": [
        "info.popitem()\n",
        "print(info)"
      ],
      "metadata": {
        "colab": {
          "base_uri": "https://localhost:8080/"
        },
        "id": "qFtudep0ouOa",
        "outputId": "faf4f84c-a8d0-401f-ce3f-80d9ca7264cc"
      },
      "execution_count": null,
      "outputs": [
        {
          "output_type": "stream",
          "name": "stdout",
          "text": [
            "{'marks': [21, 22, 23], 'adress': 'pune'}\n"
          ]
        }
      ]
    },
    {
      "cell_type": "markdown",
      "source": [
        "**dict.clear()**"
      ],
      "metadata": {
        "id": "eJdnr83Co2do"
      }
    },
    {
      "cell_type": "code",
      "source": [
        "info.clear()\n",
        "print(info)"
      ],
      "metadata": {
        "colab": {
          "base_uri": "https://localhost:8080/"
        },
        "id": "T0IPmdJ-o9L2",
        "outputId": "ccf0b119-51e2-4d8a-8678-093eb03a0ceb"
      },
      "execution_count": null,
      "outputs": [
        {
          "output_type": "stream",
          "name": "stdout",
          "text": [
            "{}\n"
          ]
        }
      ]
    },
    {
      "cell_type": "markdown",
      "source": [
        "**Set=**\n",
        "1)each element in a set are unique and immutable\n",
        "2)we can not create set using list and dictionary as they are mutable\n",
        "3)does not allow repetation of element in a set"
      ],
      "metadata": {
        "id": "FmaEFtnAanJz"
      }
    },
    {
      "cell_type": "code",
      "source": [
        "numbs={1,2,3,4}\n",
        "print(numbs)\n",
        "print(type(numbs))\n",
        "numb2={2,1,1,1,1,13,2}\n",
        "print(numb2)"
      ],
      "metadata": {
        "colab": {
          "base_uri": "https://localhost:8080/"
        },
        "id": "QQgLgxSubwyc",
        "outputId": "418d4c8b-6636-4ac7-e8fa-8013df2cc8b4"
      },
      "execution_count": null,
      "outputs": [
        {
          "output_type": "stream",
          "name": "stdout",
          "text": [
            "{1, 2, 3, 4}\n",
            "<class 'set'>\n",
            "{1, 2, 13}\n"
          ]
        }
      ]
    },
    {
      "cell_type": "code",
      "source": [
        "nums4={1,'apple',(1,2,3)}\n",
        "print(nums4)"
      ],
      "metadata": {
        "colab": {
          "base_uri": "https://localhost:8080/"
        },
        "id": "1MTKOv9beNJj",
        "outputId": "e5e876a1-4880-4219-8de4-30b9d2f00c3e"
      },
      "execution_count": null,
      "outputs": [
        {
          "output_type": "stream",
          "name": "stdout",
          "text": [
            "{'apple', 1, (1, 2, 3)}\n"
          ]
        }
      ]
    },
    {
      "cell_type": "markdown",
      "source": [
        "**operations on set=**\n",
        "set.add(el)\n",
        "set.remove(el)\n",
        "set.clear()=empty set\n",
        "set.pop()=removes 1st element\n",
        "set.union(set2)\n",
        "set.intersection(set2)\n",
        "\n",
        "\n",
        "\n"
      ],
      "metadata": {
        "id": "iqh9Da5fd5h9"
      }
    },
    {
      "cell_type": "code",
      "source": [
        "numbs={1,2,3,4}\n",
        "print(numbs)\n",
        "numbs.add(9)\n",
        "print(numbs)\n",
        "numbs.remove(3)\n",
        "print(numbs)\n",
        "numbs.clear()\n",
        "print(numbs)"
      ],
      "metadata": {
        "colab": {
          "base_uri": "https://localhost:8080/"
        },
        "id": "RBh4oZ5gedp2",
        "outputId": "a48c2e9b-2905-4f7a-e1c8-a3dac742c1c3"
      },
      "execution_count": null,
      "outputs": [
        {
          "output_type": "stream",
          "name": "stdout",
          "text": [
            "{1, 2, 3, 4}\n",
            "{1, 2, 3, 4, 9}\n",
            "{1, 2, 4, 9}\n",
            "set()\n"
          ]
        }
      ]
    },
    {
      "cell_type": "code",
      "source": [
        "num1={1,2,3,4,5}\n",
        "num2={6,2,8,9,10}\n",
        "print(num1.union(num2))\n",
        "print(num1.intersection(num2))"
      ],
      "metadata": {
        "colab": {
          "base_uri": "https://localhost:8080/"
        },
        "id": "MVPLOKFtfukV",
        "outputId": "ec2f395a-8c9a-4043-8799-cbbcb4c13920"
      },
      "execution_count": null,
      "outputs": [
        {
          "output_type": "stream",
          "name": "stdout",
          "text": [
            "{1, 2, 3, 4, 5, 6, 8, 9, 10}\n",
            "{2}\n"
          ]
        }
      ]
    }
  ]
}