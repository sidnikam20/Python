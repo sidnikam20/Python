{
  "nbformat": 4,
  "nbformat_minor": 0,
  "metadata": {
    "colab": {
      "provenance": []
    },
    "kernelspec": {
      "name": "python3",
      "display_name": "Python 3"
    },
    "language_info": {
      "name": "python"
    }
  },
  "cells": [
    {
      "cell_type": "code",
      "execution_count": null,
      "metadata": {
        "colab": {
          "base_uri": "https://localhost:8080/"
        },
        "id": "6Y6yzRsAgpPA",
        "outputId": "539d8f7a-b8ab-421c-8880-94cee4850887"
      },
      "outputs": [
        {
          "output_type": "stream",
          "name": "stdout",
          "text": [
            "Directory 'Demo1' created\n"
          ]
        }
      ],
      "source": [
        "#create a directory\n",
        "# 1)os.mkdir()\n",
        "# 2)os.makedirs()\n",
        "# let directory named as Demo1\n",
        "import os\n",
        "# Directory name\n",
        "directory = \"Demo1\"\n",
        "# Parent directory path\n",
        "parent_dir = r\"C:\\Users\\siddhi\\OneDrive\\Desktop\"  # Using a raw string to handle backslashes\n",
        "# Full path\n",
        "path = os.path.join(parent_dir, directory)\n",
        "# Create directory\n",
        "os.makedirs(path, exist_ok=True)\n",
        "print(\"Directory '%s' created\" % directory)\n",
        "'exist_ok'=True argument to create all necessary intermediate directories and avoid an error if the directory already exists."
      ]
    }
  ]
}