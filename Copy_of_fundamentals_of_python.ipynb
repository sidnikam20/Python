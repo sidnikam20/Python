{
  "nbformat": 4,
  "nbformat_minor": 0,
  "metadata": {
    "colab": {
      "provenance": []
    },
    "kernelspec": {
      "name": "python3",
      "display_name": "Python 3"
    },
    "language_info": {
      "name": "python"
    }
  },
  "cells": [
    {
      "cell_type": "code",
      "execution_count": null,
      "metadata": {
        "id": "d5iFNhq0jcN1"
      },
      "outputs": [],
      "source": []
    },
    {
      "cell_type": "markdown",
      "source": [
        "\n",
        "What is Python?\n",
        "Python is a high-level, general-purpose programming language with an elegant syntax that allows programmers to focus more on problem-solving than on syntax errors. One of the primary goals of Python Developers is to keep it fun to use. Python has become a big buzz in the field of modern software development, infrastructure management, and especially in Data Science and Artificial Intelligence."
      ],
      "metadata": {
        "id": "jcMIAAyTkrUa"
      }
    },
    {
      "cell_type": "markdown",
      "source": [
        "key features of python:\n",
        "1. easy to larn and use\n",
        "2. expressive langauge\n",
        "3. interpreted langauge\n",
        "4. cross platform langauge\n",
        "5. open source  \n",
        "6. oop\n",
        "7.GUI programming support\n",
        "\n",
        "\n",
        "\n"
      ],
      "metadata": {
        "id": "pkMM2Jyzk-k8"
      }
    },
    {
      "cell_type": "code",
      "source": [
        "# first program\n",
        "print(\"Hello World\")"
      ],
      "metadata": {
        "colab": {
          "base_uri": "https://localhost:8080/"
        },
        "id": "Bzrx755gl0Cq",
        "outputId": "bf424390-3ebd-4c45-eb0f-becf50aecd45"
      },
      "execution_count": null,
      "outputs": [
        {
          "output_type": "stream",
          "name": "stdout",
          "text": [
            "Hello World\n"
          ]
        }
      ]
    },
    {
      "cell_type": "markdown",
      "source": [
        "cooments in python=\n",
        "1. single line comment=  #\n",
        "2. multiple lines comment= '',\"\",'\"\"'\n",
        "\n"
      ],
      "metadata": {
        "id": "TJKhSN_4mCKt"
      }
    },
    {
      "cell_type": "code",
      "source": [
        "import keyword\n",
        "keyword.kwlist"
      ],
      "metadata": {
        "colab": {
          "base_uri": "https://localhost:8080/"
        },
        "id": "HkBgt02KnceN",
        "outputId": "42148b0a-48f4-42e5-9256-b8ec1186848b"
      },
      "execution_count": null,
      "outputs": [
        {
          "output_type": "execute_result",
          "data": {
            "text/plain": [
              "['False',\n",
              " 'None',\n",
              " 'True',\n",
              " 'and',\n",
              " 'as',\n",
              " 'assert',\n",
              " 'async',\n",
              " 'await',\n",
              " 'break',\n",
              " 'class',\n",
              " 'continue',\n",
              " 'def',\n",
              " 'del',\n",
              " 'elif',\n",
              " 'else',\n",
              " 'except',\n",
              " 'finally',\n",
              " 'for',\n",
              " 'from',\n",
              " 'global',\n",
              " 'if',\n",
              " 'import',\n",
              " 'in',\n",
              " 'is',\n",
              " 'lambda',\n",
              " 'nonlocal',\n",
              " 'not',\n",
              " 'or',\n",
              " 'pass',\n",
              " 'raise',\n",
              " 'return',\n",
              " 'try',\n",
              " 'while',\n",
              " 'with',\n",
              " 'yield']"
            ]
          },
          "metadata": {},
          "execution_count": 2
        }
      ]
    },
    {
      "cell_type": "code",
      "source": [
        "print(type('Siddhi'))\n",
        "print(type('9.8'))"
      ],
      "metadata": {
        "colab": {
          "base_uri": "https://localhost:8080/"
        },
        "id": "37i5lx0mnx93",
        "outputId": "25e764ef-f8a5-4f37-d67f-247c05eb4d53"
      },
      "execution_count": null,
      "outputs": [
        {
          "output_type": "stream",
          "name": "stdout",
          "text": [
            "<class 'str'>\n",
            "<class 'str'>\n"
          ]
        }
      ]
    },
    {
      "cell_type": "code",
      "source": [
        "print(type(101))"
      ],
      "metadata": {
        "colab": {
          "base_uri": "https://localhost:8080/"
        },
        "id": "KQB9DzAzoIv_",
        "outputId": "1662c55f-21bb-4223-86b7-c1b21b70287f"
      },
      "execution_count": null,
      "outputs": [
        {
          "output_type": "stream",
          "name": "stdout",
          "text": [
            "<class 'int'>\n"
          ]
        }
      ]
    },
    {
      "cell_type": "code",
      "source": [
        "var=input(\"Enter any alphabet:\")\n",
        "print(var)\n",
        "print(type(var))"
      ],
      "metadata": {
        "colab": {
          "base_uri": "https://localhost:8080/"
        },
        "id": "MBbTav8wodni",
        "outputId": "926ab8da-c2e6-4228-ef14-42802ec1f536"
      },
      "execution_count": null,
      "outputs": [
        {
          "output_type": "stream",
          "name": "stdout",
          "text": [
            "Enter any alphabet:siddhi\n",
            "siddhi\n",
            "<class 'str'>\n"
          ]
        }
      ]
    },
    {
      "cell_type": "code",
      "source": [],
      "metadata": {
        "id": "2EKJlqHdwyBt"
      },
      "execution_count": null,
      "outputs": []
    },
    {
      "cell_type": "code",
      "source": [
        "name =input(\"Enter name:\")\n",
        "age=int(input(\"Enter your age:\"))\n",
        "print(f\"welcome to college {name}\")"
      ],
      "metadata": {
        "colab": {
          "base_uri": "https://localhost:8080/"
        },
        "id": "opmdaQMBCJ1T",
        "outputId": "e4954660-102d-4c40-dfe6-4002a427b22e"
      },
      "execution_count": null,
      "outputs": [
        {
          "output_type": "stream",
          "name": "stdout",
          "text": [
            "Enter name:siddhi\n",
            "Enter your age:19\n",
            "welcome to college siddhi\n"
          ]
        }
      ]
    },
    {
      "cell_type": "markdown",
      "source": [
        "Arithmatic operators=\n",
        "+\n",
        "-\n",
        "/\n",
        "*\n",
        "//=floor division(gives integer part as a output only)\n",
        "%= modulo(remainder)\n",
        "**=exponent\n",
        "\n",
        "\n",
        "\n"
      ],
      "metadata": {
        "id": "PbvGOKp4wylO"
      }
    },
    {
      "cell_type": "code",
      "source": [
        "#create two variables\n",
        "a=100\n",
        "b=2\n",
        "\n",
        "# addition (+) operator\n",
        "print(a+b)\n",
        "\n",
        "# subtraction (-) operator\n",
        "print(a-b)\n",
        "\n",
        "# multiplication (*) operator\n",
        "print(a*b)\n",
        "\n",
        "# division (/) operator\n",
        "print(b/a)\n",
        "\n",
        "# modulus (%) operator\n",
        "print(a%b) # prints the remainder of a/b\n",
        "\n",
        "# exponent (**) operator\n",
        "print(a**b) #prints a^b"
      ],
      "metadata": {
        "colab": {
          "base_uri": "https://localhost:8080/"
        },
        "id": "mBpj-TAKx53N",
        "outputId": "ea1bee83-76c0-467b-b730-cae2a8b4283d"
      },
      "execution_count": null,
      "outputs": [
        {
          "output_type": "stream",
          "name": "stdout",
          "text": [
            "102\n",
            "98\n",
            "200\n",
            "0.02\n",
            "0\n",
            "10000\n"
          ]
        }
      ]
    },
    {
      "cell_type": "markdown",
      "source": [
        "Comparisonal operators=\n",
        "==\n",
        "=!\n",
        ">=\n",
        "<=\n",
        ">\n",
        "<"
      ],
      "metadata": {
        "id": "VFqDgKnux93K"
      }
    },
    {
      "cell_type": "code",
      "source": [
        "# create two variables\n",
        "a=100\n",
        "b=200\n",
        "\n",
        "# (==) operator, checks if two operands are equal or not\n",
        "print(a==b)\n",
        "\n",
        "# (!=) operator, checks if two operands are not equal\n",
        "print(a!=b)\n",
        "\n",
        "# (>) operator, checks left operand is greater than right operand or not\n",
        "print(a>b)\n",
        "\n",
        "# (<) operator, checks left operand is less than right operand or not\n",
        "print(a<b)\n",
        "#(>=) operator, checks left operand is greater than or equal to right operand or not\n",
        "print(a>=b)\n",
        "\n",
        "# (<=) operator, checks left operand is less than or equal to right operand or not\n",
        "print(a<=b)"
      ],
      "metadata": {
        "colab": {
          "base_uri": "https://localhost:8080/"
        },
        "id": "qikHJLEmyLVi",
        "outputId": "50c77536-a627-4d42-91c0-d148486eeba2"
      },
      "execution_count": null,
      "outputs": [
        {
          "output_type": "stream",
          "name": "stdout",
          "text": [
            "False\n",
            "True\n",
            "False\n",
            "True\n",
            "False\n",
            "True\n"
          ]
        }
      ]
    }
  ]
}