{
  "cells": [
    {
      "cell_type": "markdown",
      "metadata": {
        "id": "v_5a6dEGYukp"
      },
      "source": [
        "# <center> Numpy Basics </center>"
      ]
    },
    {
      "cell_type": "markdown",
      "metadata": {
        "id": "S6iHwE_iYukt"
      },
      "source": [
        "Welcome to section of Numpy. This is one of the\n",
        "the most used Python libraries for data science. NumPy consists of a powerful data structure called multidimensional arrays. Pandas is another powerful Python library that provides fast and easy data analysis platform.\n",
        "\n",
        "NumPy is a library written for scientific computing and data analysis. It stands for numerical python and also known as array oriented computing.\n",
        "\n",
        "The most basic object in NumPy is the ndarray, or simply an array which is an n-dimensional, homogeneous array. By homogenous, we mean that all the elements in a NumPy array have to be of the same data type, which is commonly numeric (float or integer).\n",
        "\n",
        "\n",
        " # Why Numpy?\n",
        " convenience & speed\n",
        "\n",
        " Numpy is much faster than the standard python ways to do computations.\n",
        "\n",
        "Vectorised code typically does not contain explicit looping and indexing etc. (all of this happens behind the scenes, in precompiled C-code), and thus it is much more concise.\n",
        "\n",
        "Also, many Numpy operations are implemented in C which is basically being executed behind the scenes, avoiding the general cost of loops in Python, pointer indirection and per-element dynamic type checking. The speed boost depends on which operations you're performing.\n",
        "\n",
        " NumPy arrays are more compact than lists, i.e. they take much lesser storage space than lists\n",
        "\n",
        " ***Let's get started  with our Numpy Assigment**"
      ]
    },
    {
      "cell_type": "code",
      "execution_count": null,
      "metadata": {
        "id": "NnhU92SsYukv"
      },
      "outputs": [],
      "source": [
        "#import numpy module with alias np\n",
        "import numpy as np\n"
      ]
    },
    {
      "cell_type": "markdown",
      "metadata": {
        "id": "onEY9HMeYuk0"
      },
      "source": [
        "We can create a NumPy ndarray object by using the array() function.\n",
        "To create an ndarray, we can pass a list, tuple or any array-like object into the array() method, and it will be converted into an ndarray:\n"
      ]
    },
    {
      "cell_type": "code",
      "execution_count": null,
      "metadata": {
        "id": "BCdPh0rqYuk0"
      },
      "outputs": [],
      "source": [
        "# Define a numpy array passing a list with  1,2 and 3 as elements in it\n",
        "a = np.array([1,2,3])\n",
        "\n"
      ]
    },
    {
      "cell_type": "code",
      "execution_count": null,
      "metadata": {
        "colab": {
          "base_uri": "https://localhost:8080/"
        },
        "id": "up-97mFyYuk1",
        "outputId": "c2be3492-03df-4204-ce92-74008880133c"
      },
      "outputs": [
        {
          "name": "stdout",
          "output_type": "stream",
          "text": [
            "[1 2 3]\n"
          ]
        }
      ],
      "source": [
        "# print a\n",
        "print (a)\n",
        "\n"
      ]
    },
    {
      "cell_type": "markdown",
      "metadata": {
        "id": "I5wC2n70Yuk2"
      },
      "source": [
        "## Dimensions in Arrays\n",
        "\n",
        "### **`Watch Video 1: Numpy Array Dimension`**\n",
        "\n",
        "Numpy array can be of n dimentions\n",
        "\n",
        "Lets create arrays of different dimentions.\n",
        "\n",
        "a=A numpy array with one single integer 10\n",
        "\n",
        "b=A numpy array passing a list having a list= [1,2,3]\n",
        "\n",
        "c=A numpy array passing nested list having [[1, 2, 3], [4, 5, 6]] as elements\n",
        "\n",
        "d=A numpy array passing nested list having [[[1, 2, 3], [4, 5, 6]], [[1, 2, 3], [4, 5, 6]]] as elements"
      ]
    },
    {
      "cell_type": "code",
      "execution_count": null,
      "metadata": {
        "id": "75VeuGacYuk3"
      },
      "outputs": [],
      "source": [
        "#define a,b,c and d as instructed above\n",
        "\n",
        "a = np.array([10])\n",
        "b = np.array([1,2,3])\n",
        "c = np.array([[1, 2, 3], [4, 5, 6]])\n",
        "d = np.array([[[1, 2, 3], [4, 5, 6]], [[1, 2, 3], [4, 5, 6]]])\n",
        "\n"
      ]
    },
    {
      "cell_type": "markdown",
      "metadata": {
        "id": "qtUQhJgsYuk5"
      },
      "source": [
        "Are you ready to check its dimention? Use ndim attribute on each variable to check its dimention"
      ]
    },
    {
      "cell_type": "code",
      "execution_count": null,
      "metadata": {
        "colab": {
          "base_uri": "https://localhost:8080/"
        },
        "id": "WqRlO_elYuk6",
        "outputId": "134b5835-f0ba-4f94-be30-e618cdac0ea2"
      },
      "outputs": [
        {
          "name": "stdout",
          "output_type": "stream",
          "text": [
            "1\n",
            "1\n",
            "2\n",
            "3\n"
          ]
        }
      ],
      "source": [
        "#print dimentions of a,b, c and d\n",
        "print(a.ndim)\n",
        "print(b.ndim)\n",
        "print(c.ndim)\n",
        "print(d.ndim)\n"
      ]
    },
    {
      "cell_type": "markdown",
      "metadata": {
        "id": "GdfDcthEYuk7"
      },
      "source": [
        "Hey hey. Did you see! you have created 0-D,1-DeprecationWarning, 2-D and 3-D arrays.\n",
        "\n",
        "Lets print there shape as well. You can check shape using shape attribute\n",
        "\n"
      ]
    },
    {
      "cell_type": "code",
      "execution_count": null,
      "metadata": {
        "colab": {
          "base_uri": "https://localhost:8080/"
        },
        "id": "Dbo7BMcNYuk8",
        "outputId": "808d265b-427d-45cd-9b76-1b4cd85da165"
      },
      "outputs": [
        {
          "name": "stdout",
          "output_type": "stream",
          "text": [
            "shape of a: (1,)\n",
            "shape of b: (3,)\n",
            "shape of c: (2, 3)\n",
            "shape of d: (2, 2, 3)\n"
          ]
        }
      ],
      "source": [
        "# print shape of each a,b ,c and d\n",
        "print(\"shape of a:\", a.shape)\n",
        "print(\"shape of b:\",b.shape)\n",
        "print(\"shape of c:\",c.shape)\n",
        "print(\"shape of d:\",d.shape)\n",
        "\n",
        "\n",
        "\n",
        "\n"
      ]
    },
    {
      "cell_type": "markdown",
      "metadata": {
        "id": "zznIHO2BYuk8"
      },
      "source": [
        "Lets check data type passed in our array. To check data type you can use dtype attribute"
      ]
    },
    {
      "cell_type": "code",
      "execution_count": null,
      "metadata": {
        "colab": {
          "base_uri": "https://localhost:8080/"
        },
        "id": "IqR87PE-Yuk9",
        "outputId": "d5e111e8-27c8-422c-ce1d-6e8ac89312b2"
      },
      "outputs": [
        {
          "name": "stdout",
          "output_type": "stream",
          "text": [
            "int64\n",
            "int64\n"
          ]
        }
      ],
      "source": [
        "# print data type of c and d\n",
        "print(c.dtype)\n",
        "print(d.dtype)\n",
        "\n",
        "\n"
      ]
    },
    {
      "cell_type": "markdown",
      "metadata": {
        "id": "bvZI9gIfYuk9"
      },
      "source": [
        "Above output mean our array is having int type elements in it."
      ]
    },
    {
      "cell_type": "markdown",
      "metadata": {
        "id": "JTIMcpHZYuk9"
      },
      "source": [
        "Lets check the type of our variable. To check type of any numpy variable use type() function"
      ]
    },
    {
      "cell_type": "code",
      "execution_count": null,
      "metadata": {
        "colab": {
          "base_uri": "https://localhost:8080/"
        },
        "id": "4XscrKR9Yuk9",
        "outputId": "51732686-f519-4c91-ac27-b902be313c5d"
      },
      "outputs": [
        {
          "name": "stdout",
          "output_type": "stream",
          "text": [
            "<class 'numpy.ndarray'>\n",
            "<class 'numpy.ndarray'>\n"
          ]
        }
      ],
      "source": [
        "#print type of a and b variable\n",
        "print(type(a))\n",
        "print(type(b))\n",
        "\n",
        "\n",
        "\n",
        "\n"
      ]
    },
    {
      "cell_type": "code",
      "execution_count": null,
      "metadata": {
        "colab": {
          "base_uri": "https://localhost:8080/"
        },
        "id": "cmEidey1Yuk9",
        "outputId": "bc2a7ab8-6239-4b43-af8a-de6e24926012"
      },
      "outputs": [
        {
          "data": {
            "text/plain": [
              "3"
            ]
          },
          "execution_count": 17,
          "metadata": {},
          "output_type": "execute_result"
        }
      ],
      "source": [
        "# Lets check length of array b, using len() function\n",
        "len(b)"
      ]
    },
    {
      "cell_type": "markdown",
      "metadata": {
        "id": "8k-sX7zmYuk-"
      },
      "source": [
        "Bravo!You have Defined ndarray i.e numpy array in variable a nd b. Also you have successfully learned how to create numpy."
      ]
    },
    {
      "cell_type": "markdown",
      "metadata": {
        "id": "ujRS0oa7Yuk-"
      },
      "source": [
        "## Performance measurement\n",
        "\n",
        "I mentioned that the key advantages of numpy are convenience and speed of computation.\n",
        "\n",
        "You'll often work with extremely large datasets, and thus it is important point for you to understand how much computation time (and memory) you can save using numpy, compared to standard python lists."
      ]
    },
    {
      "cell_type": "markdown",
      "metadata": {
        "id": "bl8PwahHYuk-"
      },
      "source": [
        "Create two list l1 and l2 where, l1=[10,20,30] and l2=[40,50,60]\n",
        "Also define two numpy arrays l3,l4 where l3 has l1 as element and l4 has l2 as element\n"
      ]
    },
    {
      "cell_type": "code",
      "execution_count": null,
      "metadata": {
        "colab": {
          "base_uri": "https://localhost:8080/"
        },
        "id": "-cZT6aZlYuk-",
        "outputId": "e0bb870c-f832-4942-9c00-1db488154c7c"
      },
      "outputs": [
        {
          "output_type": "stream",
          "name": "stdout",
          "text": [
            "[10, 20, 30] [40, 50, 60] [[10 20 30]] [[40 50 60]]\n"
          ]
        }
      ],
      "source": [
        "# Define l1,l2,l3 and l4 as stated above.\n",
        "import numpy as np\n",
        "l1 = [10,20,30]\n",
        "l2 = [40,50,60]\n",
        "l3 = np.array([l1])\n",
        "l4 = np.array([l2])\n",
        "print(l1,l2,l3,l4)\n",
        "\n"
      ]
    },
    {
      "cell_type": "markdown",
      "metadata": {
        "id": "9muN0ZR5Yuk-"
      },
      "source": [
        "Lets multiply each elements of l1 with corresponding elements of l2\n",
        "\n",
        "Here use list comprehention to do so. Lets see how much you remember your work in other assignments.\n",
        "\n",
        "Note: use %timeit as prefix before your line of code inorder to calculate total time taken to run that line<br>\n",
        "eg. %timeit my_code"
      ]
    },
    {
      "cell_type": "code",
      "execution_count": null,
      "metadata": {
        "colab": {
          "base_uri": "https://localhost:8080/"
        },
        "id": "Gt0o_ZSCYuk_",
        "outputId": "089a7744-e847-483b-c6f2-d6c263701d99"
      },
      "outputs": [
        {
          "output_type": "stream",
          "name": "stdout",
          "text": [
            "\u001b[1;30;43mStreaming output truncated to the last 5000 lines.\u001b[0m\n",
            "3200\n",
            "3200\n",
            "3200\n",
            "3200\n",
            "3200\n",
            "3200\n",
            "3200\n",
            "3200\n",
            "3200\n",
            "3200\n",
            "3200\n",
            "3200\n",
            "3200\n",
            "3200\n",
            "3200\n",
            "3200\n",
            "3200\n",
            "3200\n",
            "3200\n",
            "3200\n",
            "3200\n",
            "3200\n",
            "3200\n",
            "3200\n",
            "3200\n",
            "3200\n",
            "3200\n",
            "3200\n",
            "3200\n",
            "3200\n",
            "3200\n",
            "3200\n",
            "3200\n",
            "3200\n",
            "3200\n",
            "3200\n",
            "3200\n",
            "3200\n",
            "3200\n",
            "3200\n",
            "3200\n",
            "3200\n",
            "3200\n",
            "3200\n",
            "3200\n",
            "3200\n",
            "3200\n",
            "3200\n",
            "3200\n",
            "3200\n",
            "3200\n",
            "3200\n",
            "3200\n",
            "3200\n",
            "3200\n",
            "3200\n",
            "3200\n",
            "3200\n",
            "3200\n",
            "3200\n",
            "3200\n",
            "3200\n",
            "3200\n",
            "3200\n",
            "3200\n",
            "3200\n",
            "3200\n",
            "3200\n",
            "3200\n",
            "3200\n",
            "3200\n",
            "3200\n",
            "3200\n",
            "3200\n",
            "3200\n",
            "3200\n",
            "3200\n",
            "3200\n",
            "3200\n",
            "3200\n",
            "3200\n",
            "3200\n",
            "3200\n",
            "3200\n",
            "3200\n",
            "3200\n",
            "3200\n",
            "3200\n",
            "3200\n",
            "3200\n",
            "3200\n",
            "3200\n",
            "3200\n",
            "3200\n",
            "3200\n",
            "3200\n",
            "3200\n",
            "3200\n",
            "3200\n",
            "3200\n",
            "3200\n",
            "3200\n",
            "3200\n",
            "3200\n",
            "3200\n",
            "3200\n",
            "3200\n",
            "3200\n",
            "3200\n",
            "3200\n",
            "3200\n",
            "3200\n",
            "3200\n",
            "3200\n",
            "3200\n",
            "3200\n",
            "3200\n",
            "3200\n",
            "3200\n",
            "3200\n",
            "3200\n",
            "3200\n",
            "3200\n",
            "3200\n",
            "3200\n",
            "3200\n",
            "3200\n",
            "3200\n",
            "3200\n",
            "3200\n",
            "3200\n",
            "3200\n",
            "3200\n",
            "3200\n",
            "3200\n",
            "3200\n",
            "3200\n",
            "3200\n",
            "3200\n",
            "3200\n",
            "3200\n",
            "3200\n",
            "3200\n",
            "3200\n",
            "3200\n",
            "3200\n",
            "3200\n",
            "3200\n",
            "3200\n",
            "3200\n",
            "3200\n",
            "3200\n",
            "3200\n",
            "3200\n",
            "3200\n",
            "3200\n",
            "3200\n",
            "3200\n",
            "3200\n",
            "3200\n",
            "3200\n",
            "3200\n",
            "3200\n",
            "3200\n",
            "3200\n",
            "3200\n",
            "3200\n",
            "3200\n",
            "3200\n",
            "3200\n",
            "3200\n",
            "3200\n",
            "3200\n",
            "3200\n",
            "3200\n",
            "3200\n",
            "3200\n",
            "3200\n",
            "3200\n",
            "3200\n",
            "3200\n",
            "3200\n",
            "3200\n",
            "3200\n",
            "3200\n",
            "3200\n",
            "3200\n",
            "3200\n",
            "3200\n",
            "3200\n",
            "3200\n",
            "3200\n",
            "3200\n",
            "3200\n",
            "3200\n",
            "3200\n",
            "3200\n",
            "3200\n",
            "3200\n",
            "3200\n",
            "3200\n",
            "3200\n",
            "3200\n",
            "3200\n",
            "3200\n",
            "3200\n",
            "3200\n",
            "3200\n",
            "3200\n",
            "3200\n",
            "3200\n",
            "3200\n",
            "3200\n",
            "3200\n",
            "3200\n",
            "3200\n",
            "3200\n",
            "3200\n",
            "3200\n",
            "3200\n",
            "3200\n",
            "3200\n",
            "3200\n",
            "3200\n",
            "3200\n",
            "3200\n",
            "3200\n",
            "3200\n",
            "3200\n",
            "3200\n",
            "3200\n",
            "3200\n",
            "3200\n",
            "3200\n",
            "3200\n",
            "3200\n",
            "3200\n",
            "3200\n",
            "3200\n",
            "3200\n",
            "3200\n",
            "3200\n",
            "3200\n",
            "3200\n",
            "3200\n",
            "3200\n",
            "3200\n",
            "3200\n",
            "3200\n",
            "3200\n",
            "3200\n",
            "3200\n",
            "3200\n",
            "3200\n",
            "3200\n",
            "3200\n",
            "3200\n",
            "3200\n",
            "3200\n",
            "3200\n",
            "3200\n",
            "3200\n",
            "3200\n",
            "3200\n",
            "3200\n",
            "3200\n",
            "3200\n",
            "3200\n",
            "3200\n",
            "3200\n",
            "3200\n",
            "3200\n",
            "3200\n",
            "3200\n",
            "3200\n",
            "3200\n",
            "3200\n",
            "3200\n",
            "3200\n",
            "3200\n",
            "3200\n",
            "3200\n",
            "3200\n",
            "3200\n",
            "3200\n",
            "3200\n",
            "3200\n",
            "3200\n",
            "3200\n",
            "3200\n",
            "3200\n",
            "3200\n",
            "3200\n",
            "3200\n",
            "3200\n",
            "3200\n",
            "3200\n",
            "3200\n",
            "3200\n",
            "3200\n",
            "3200\n",
            "3200\n",
            "3200\n",
            "3200\n",
            "3200\n",
            "3200\n",
            "3200\n",
            "3200\n",
            "3200\n",
            "3200\n",
            "3200\n",
            "3200\n",
            "3200\n",
            "3200\n",
            "3200\n",
            "3200\n",
            "3200\n",
            "3200\n",
            "3200\n",
            "3200\n",
            "3200\n",
            "3200\n",
            "3200\n",
            "3200\n",
            "3200\n",
            "3200\n",
            "3200\n",
            "3200\n",
            "3200\n",
            "3200\n",
            "3200\n",
            "3200\n",
            "3200\n",
            "3200\n",
            "3200\n",
            "3200\n",
            "3200\n",
            "3200\n",
            "3200\n",
            "3200\n",
            "3200\n",
            "3200\n",
            "3200\n",
            "3200\n",
            "3200\n",
            "3200\n",
            "3200\n",
            "3200\n",
            "3200\n",
            "3200\n",
            "3200\n",
            "3200\n",
            "3200\n",
            "3200\n",
            "3200\n",
            "3200\n",
            "3200\n",
            "3200\n",
            "3200\n",
            "3200\n",
            "3200\n",
            "3200\n",
            "3200\n",
            "3200\n",
            "3200\n",
            "3200\n",
            "3200\n",
            "3200\n",
            "3200\n",
            "3200\n",
            "3200\n",
            "3200\n",
            "3200\n",
            "3200\n",
            "3200\n",
            "3200\n",
            "3200\n",
            "3200\n",
            "3200\n",
            "3200\n",
            "3200\n",
            "3200\n",
            "3200\n",
            "3200\n",
            "3200\n",
            "3200\n",
            "3200\n",
            "3200\n",
            "3200\n",
            "3200\n",
            "3200\n",
            "3200\n",
            "3200\n",
            "3200\n",
            "3200\n",
            "3200\n",
            "3200\n",
            "3200\n",
            "3200\n",
            "3200\n",
            "3200\n",
            "3200\n",
            "3200\n",
            "3200\n",
            "3200\n",
            "3200\n",
            "3200\n",
            "3200\n",
            "3200\n",
            "3200\n",
            "3200\n",
            "3200\n",
            "3200\n",
            "3200\n",
            "3200\n",
            "3200\n",
            "3200\n",
            "3200\n",
            "3200\n",
            "3200\n",
            "3200\n",
            "3200\n",
            "3200\n",
            "3200\n",
            "3200\n",
            "3200\n",
            "3200\n",
            "3200\n",
            "3200\n",
            "3200\n",
            "3200\n",
            "3200\n",
            "3200\n",
            "3200\n",
            "3200\n",
            "3200\n",
            "3200\n",
            "3200\n",
            "3200\n",
            "3200\n",
            "3200\n",
            "3200\n",
            "3200\n",
            "3200\n",
            "3200\n",
            "3200\n",
            "3200\n",
            "3200\n",
            "3200\n",
            "3200\n",
            "3200\n",
            "3200\n",
            "3200\n",
            "3200\n",
            "3200\n",
            "3200\n",
            "3200\n",
            "3200\n",
            "3200\n",
            "3200\n",
            "3200\n",
            "3200\n",
            "3200\n",
            "3200\n",
            "3200\n",
            "3200\n",
            "3200\n",
            "3200\n",
            "3200\n",
            "3200\n",
            "3200\n",
            "3200\n",
            "3200\n",
            "3200\n",
            "3200\n",
            "3200\n",
            "3200\n",
            "3200\n",
            "3200\n",
            "3200\n",
            "3200\n",
            "3200\n",
            "3200\n",
            "3200\n",
            "3200\n",
            "3200\n",
            "3200\n",
            "3200\n",
            "3200\n",
            "3200\n",
            "3200\n",
            "3200\n",
            "3200\n",
            "3200\n",
            "3200\n",
            "3200\n",
            "3200\n",
            "3200\n",
            "3200\n",
            "3200\n",
            "3200\n",
            "3200\n",
            "3200\n",
            "3200\n",
            "3200\n",
            "3200\n",
            "3200\n",
            "3200\n",
            "3200\n",
            "3200\n",
            "3200\n",
            "3200\n",
            "3200\n",
            "3200\n",
            "3200\n",
            "3200\n",
            "3200\n",
            "3200\n",
            "3200\n",
            "3200\n",
            "3200\n",
            "3200\n",
            "3200\n",
            "3200\n",
            "3200\n",
            "3200\n",
            "3200\n",
            "3200\n",
            "3200\n",
            "3200\n",
            "3200\n",
            "3200\n",
            "3200\n",
            "3200\n",
            "3200\n",
            "3200\n",
            "3200\n",
            "3200\n",
            "3200\n",
            "3200\n",
            "3200\n",
            "3200\n",
            "3200\n",
            "3200\n",
            "3200\n",
            "3200\n",
            "3200\n",
            "3200\n",
            "3200\n",
            "3200\n",
            "3200\n",
            "3200\n",
            "3200\n",
            "3200\n",
            "3200\n",
            "3200\n",
            "3200\n",
            "3200\n",
            "3200\n",
            "3200\n",
            "3200\n",
            "3200\n",
            "3200\n",
            "3200\n",
            "3200\n",
            "3200\n",
            "3200\n",
            "3200\n",
            "3200\n",
            "3200\n",
            "3200\n",
            "3200\n",
            "3200\n",
            "3200\n",
            "3200\n",
            "3200\n",
            "3200\n",
            "3200\n",
            "3200\n",
            "3200\n",
            "3200\n",
            "3200\n",
            "3200\n",
            "3200\n",
            "3200\n",
            "3200\n",
            "3200\n",
            "3200\n",
            "3200\n",
            "3200\n",
            "3200\n",
            "3200\n",
            "3200\n",
            "3200\n",
            "3200\n",
            "3200\n",
            "3200\n",
            "3200\n",
            "3200\n",
            "3200\n",
            "3200\n",
            "3200\n",
            "3200\n",
            "3200\n",
            "3200\n",
            "3200\n",
            "3200\n",
            "3200\n",
            "3200\n",
            "3200\n",
            "3200\n",
            "3200\n",
            "3200\n",
            "3200\n",
            "3200\n",
            "3200\n",
            "3200\n",
            "3200\n",
            "3200\n",
            "3200\n",
            "3200\n",
            "3200\n",
            "3200\n",
            "3200\n",
            "3200\n",
            "3200\n",
            "3200\n",
            "3200\n",
            "3200\n",
            "3200\n",
            "3200\n",
            "3200\n",
            "3200\n",
            "3200\n",
            "3200\n",
            "3200\n",
            "3200\n",
            "3200\n",
            "3200\n",
            "3200\n",
            "3200\n",
            "3200\n",
            "3200\n",
            "3200\n",
            "3200\n",
            "3200\n",
            "3200\n",
            "3200\n",
            "3200\n",
            "3200\n",
            "3200\n",
            "3200\n",
            "3200\n",
            "3200\n",
            "3200\n",
            "3200\n",
            "3200\n",
            "3200\n",
            "3200\n",
            "3200\n",
            "3200\n",
            "3200\n",
            "3200\n",
            "3200\n",
            "3200\n",
            "3200\n",
            "3200\n",
            "3200\n",
            "3200\n",
            "3200\n",
            "3200\n",
            "3200\n",
            "3200\n",
            "3200\n",
            "3200\n",
            "3200\n",
            "3200\n",
            "3200\n",
            "3200\n",
            "3200\n",
            "3200\n",
            "3200\n",
            "3200\n",
            "3200\n",
            "3200\n",
            "3200\n",
            "3200\n",
            "3200\n",
            "3200\n",
            "3200\n",
            "3200\n",
            "3200\n",
            "3200\n",
            "3200\n",
            "3200\n",
            "3200\n",
            "3200\n",
            "3200\n",
            "3200\n",
            "3200\n",
            "3200\n",
            "3200\n",
            "3200\n",
            "3200\n",
            "3200\n",
            "3200\n",
            "3200\n",
            "3200\n",
            "3200\n",
            "3200\n",
            "3200\n",
            "3200\n",
            "3200\n",
            "3200\n",
            "3200\n",
            "3200\n",
            "3200\n",
            "3200\n",
            "3200\n",
            "3200\n",
            "3200\n",
            "3200\n",
            "3200\n",
            "3200\n",
            "3200\n",
            "3200\n",
            "3200\n",
            "3200\n",
            "3200\n",
            "3200\n",
            "3200\n",
            "3200\n",
            "3200\n",
            "3200\n",
            "3200\n",
            "3200\n",
            "3200\n",
            "3200\n",
            "3200\n",
            "3200\n",
            "3200\n",
            "3200\n",
            "3200\n",
            "3200\n",
            "3200\n",
            "3200\n",
            "3200\n",
            "3200\n",
            "3200\n",
            "3200\n",
            "3200\n",
            "3200\n",
            "3200\n",
            "3200\n",
            "3200\n",
            "3200\n",
            "3200\n",
            "3200\n",
            "3200\n",
            "3200\n",
            "3200\n",
            "3200\n",
            "3200\n",
            "3200\n",
            "3200\n",
            "3200\n",
            "3200\n",
            "3200\n",
            "3200\n",
            "3200\n",
            "3200\n",
            "3200\n",
            "3200\n",
            "3200\n",
            "3200\n",
            "3200\n",
            "3200\n",
            "3200\n",
            "3200\n",
            "3200\n",
            "3200\n",
            "3200\n",
            "3200\n",
            "3200\n",
            "3200\n",
            "3200\n",
            "3200\n",
            "3200\n",
            "3200\n",
            "3200\n",
            "3200\n",
            "3200\n",
            "3200\n",
            "3200\n",
            "3200\n",
            "3200\n",
            "3200\n",
            "3200\n",
            "3200\n",
            "3200\n",
            "3200\n",
            "3200\n",
            "3200\n",
            "3200\n",
            "3200\n",
            "3200\n",
            "3200\n",
            "3200\n",
            "3200\n",
            "3200\n",
            "3200\n",
            "3200\n",
            "3200\n",
            "3200\n",
            "3200\n",
            "3200\n",
            "3200\n",
            "3200\n",
            "3200\n",
            "3200\n",
            "3200\n",
            "3200\n",
            "3200\n",
            "3200\n",
            "3200\n",
            "3200\n",
            "3200\n",
            "3200\n",
            "3200\n",
            "3200\n",
            "3200\n",
            "3200\n",
            "3200\n",
            "3200\n",
            "3200\n",
            "3200\n",
            "3200\n",
            "3200\n",
            "3200\n",
            "3200\n",
            "3200\n",
            "3200\n",
            "3200\n",
            "3200\n",
            "3200\n",
            "3200\n",
            "3200\n",
            "3200\n",
            "3200\n",
            "3200\n",
            "3200\n",
            "3200\n",
            "3200\n",
            "3200\n",
            "3200\n",
            "3200\n",
            "3200\n",
            "3200\n",
            "3200\n",
            "3200\n",
            "3200\n",
            "3200\n",
            "3200\n",
            "3200\n",
            "3200\n",
            "3200\n",
            "3200\n",
            "3200\n",
            "3200\n",
            "3200\n",
            "3200\n",
            "3200\n",
            "3200\n",
            "3200\n",
            "3200\n",
            "3200\n",
            "3200\n",
            "3200\n",
            "3200\n",
            "3200\n",
            "3200\n",
            "3200\n",
            "3200\n",
            "3200\n",
            "3200\n",
            "3200\n",
            "3200\n",
            "3200\n",
            "3200\n",
            "3200\n",
            "3200\n",
            "3200\n",
            "3200\n",
            "3200\n",
            "3200\n",
            "3200\n",
            "3200\n",
            "3200\n",
            "3200\n",
            "3200\n",
            "3200\n",
            "3200\n",
            "3200\n",
            "3200\n",
            "3200\n",
            "3200\n",
            "3200\n",
            "3200\n",
            "3200\n",
            "3200\n",
            "3200\n",
            "3200\n",
            "3200\n",
            "3200\n",
            "3200\n",
            "3200\n",
            "3200\n",
            "3200\n",
            "3200\n",
            "3200\n",
            "3200\n",
            "3200\n",
            "3200\n",
            "3200\n",
            "3200\n",
            "3200\n",
            "3200\n",
            "3200\n",
            "3200\n",
            "3200\n",
            "3200\n",
            "3200\n",
            "3200\n",
            "3200\n",
            "3200\n",
            "3200\n",
            "3200\n",
            "3200\n",
            "3200\n",
            "3200\n",
            "3200\n",
            "3200\n",
            "3200\n",
            "3200\n",
            "3200\n",
            "3200\n",
            "3200\n",
            "3200\n",
            "3200\n",
            "3200\n",
            "3200\n",
            "3200\n",
            "3200\n",
            "3200\n",
            "3200\n",
            "3200\n",
            "3200\n",
            "3200\n",
            "3200\n",
            "3200\n",
            "3200\n",
            "3200\n",
            "3200\n",
            "3200\n",
            "3200\n",
            "3200\n",
            "3200\n",
            "3200\n",
            "3200\n",
            "3200\n",
            "3200\n",
            "3200\n",
            "3200\n",
            "3200\n",
            "3200\n",
            "3200\n",
            "3200\n",
            "3200\n",
            "3200\n",
            "3200\n",
            "3200\n",
            "3200\n",
            "3200\n",
            "3200\n",
            "3200\n",
            "3200\n",
            "3200\n",
            "3200\n",
            "3200\n",
            "3200\n",
            "3200\n",
            "3200\n",
            "3200\n",
            "3200\n",
            "3200\n",
            "3200\n",
            "3200\n",
            "3200\n",
            "3200\n",
            "3200\n",
            "3200\n",
            "3200\n",
            "3200\n",
            "3200\n",
            "3200\n",
            "3200\n",
            "3200\n",
            "3200\n",
            "3200\n",
            "3200\n",
            "3200\n",
            "3200\n",
            "3200\n",
            "3200\n",
            "3200\n",
            "3200\n",
            "3200\n",
            "3200\n",
            "3200\n",
            "3200\n",
            "3200\n",
            "3200\n",
            "3200\n",
            "3200\n",
            "3200\n",
            "3200\n",
            "3200\n",
            "3200\n",
            "3200\n",
            "3200\n",
            "3200\n",
            "3200\n",
            "3200\n",
            "3200\n",
            "3200\n",
            "3200\n",
            "3200\n",
            "3200\n",
            "3200\n",
            "3200\n",
            "3200\n",
            "3200\n",
            "3200\n",
            "3200\n",
            "3200\n",
            "3200\n",
            "3200\n",
            "3200\n",
            "3200\n",
            "3200\n",
            "3200\n",
            "3200\n",
            "3200\n",
            "3200\n",
            "3200\n",
            "3200\n",
            "3200\n",
            "3200\n",
            "3200\n",
            "3200\n",
            "3200\n",
            "3200\n",
            "3200\n",
            "3200\n",
            "3200\n",
            "3200\n",
            "3200\n",
            "3200\n",
            "3200\n",
            "3200\n",
            "3200\n",
            "3200\n",
            "3200\n",
            "3200\n",
            "3200\n",
            "3200\n",
            "3200\n",
            "3200\n",
            "3200\n",
            "3200\n",
            "3200\n",
            "3200\n",
            "3200\n",
            "3200\n",
            "3200\n",
            "3200\n",
            "3200\n",
            "3200\n",
            "3200\n",
            "3200\n",
            "3200\n",
            "3200\n",
            "3200\n",
            "3200\n",
            "3200\n",
            "3200\n",
            "3200\n",
            "3200\n",
            "3200\n",
            "3200\n",
            "3200\n",
            "3200\n",
            "3200\n",
            "3200\n",
            "3200\n",
            "3200\n",
            "3200\n",
            "3200\n",
            "3200\n",
            "3200\n",
            "3200\n",
            "3200\n",
            "3200\n",
            "3200\n",
            "3200\n",
            "3200\n",
            "3200\n",
            "3200\n",
            "3200\n",
            "3200\n",
            "3200\n",
            "3200\n",
            "3200\n",
            "3200\n",
            "3200\n",
            "3200\n",
            "3200\n",
            "3200\n",
            "3200\n",
            "3200\n",
            "3200\n",
            "3200\n",
            "3200\n",
            "3200\n",
            "3200\n",
            "3200\n",
            "3200\n",
            "3200\n",
            "3200\n",
            "3200\n",
            "3200\n",
            "3200\n",
            "3200\n",
            "3200\n",
            "3200\n",
            "3200\n",
            "3200\n",
            "3200\n",
            "3200\n",
            "3200\n",
            "3200\n",
            "3200\n",
            "3200\n",
            "3200\n",
            "3200\n",
            "3200\n",
            "3200\n",
            "3200\n",
            "3200\n",
            "3200\n",
            "3200\n",
            "3200\n",
            "3200\n",
            "3200\n",
            "3200\n",
            "3200\n",
            "3200\n",
            "3200\n",
            "3200\n",
            "3200\n",
            "3200\n",
            "3200\n",
            "3200\n",
            "3200\n",
            "3200\n",
            "3200\n",
            "3200\n",
            "3200\n",
            "3200\n",
            "3200\n",
            "3200\n",
            "3200\n",
            "3200\n",
            "3200\n",
            "3200\n",
            "3200\n",
            "3200\n",
            "3200\n",
            "3200\n",
            "3200\n",
            "3200\n",
            "3200\n",
            "3200\n",
            "3200\n",
            "3200\n",
            "3200\n",
            "3200\n",
            "3200\n",
            "3200\n",
            "3200\n",
            "3200\n",
            "3200\n",
            "3200\n",
            "3200\n",
            "3200\n",
            "3200\n",
            "3200\n",
            "3200\n",
            "3200\n",
            "3200\n",
            "3200\n",
            "3200\n",
            "3200\n",
            "3200\n",
            "3200\n",
            "3200\n",
            "3200\n",
            "3200\n",
            "3200\n",
            "3200\n",
            "3200\n",
            "3200\n",
            "3200\n",
            "3200\n",
            "3200\n",
            "3200\n",
            "3200\n",
            "3200\n",
            "3200\n",
            "3200\n",
            "3200\n",
            "3200\n",
            "3200\n",
            "3200\n",
            "3200\n",
            "3200\n",
            "3200\n",
            "3200\n",
            "3200\n",
            "3200\n",
            "3200\n",
            "3200\n",
            "3200\n",
            "3200\n",
            "3200\n",
            "3200\n",
            "3200\n",
            "3200\n",
            "3200\n",
            "3200\n",
            "3200\n",
            "3200\n",
            "3200\n",
            "3200\n",
            "3200\n",
            "3200\n",
            "3200\n",
            "3200\n",
            "3200\n",
            "3200\n",
            "3200\n",
            "3200\n",
            "3200\n",
            "3200\n",
            "3200\n",
            "3200\n",
            "3200\n",
            "3200\n",
            "3200\n",
            "3200\n",
            "3200\n",
            "3200\n",
            "3200\n",
            "3200\n",
            "3200\n",
            "3200\n",
            "3200\n",
            "3200\n",
            "3200\n",
            "3200\n",
            "3200\n",
            "3200\n",
            "3200\n",
            "3200\n",
            "3200\n",
            "3200\n",
            "3200\n",
            "3200\n",
            "3200\n",
            "3200\n",
            "3200\n",
            "3200\n",
            "3200\n",
            "3200\n",
            "3200\n",
            "3200\n",
            "3200\n",
            "3200\n",
            "3200\n",
            "3200\n",
            "3200\n",
            "3200\n",
            "3200\n",
            "3200\n",
            "3200\n",
            "3200\n",
            "3200\n",
            "3200\n",
            "3200\n",
            "3200\n",
            "3200\n",
            "3200\n",
            "3200\n",
            "3200\n",
            "3200\n",
            "3200\n",
            "3200\n",
            "3200\n",
            "3200\n",
            "3200\n",
            "3200\n",
            "3200\n",
            "3200\n",
            "3200\n",
            "3200\n",
            "3200\n",
            "3200\n",
            "3200\n",
            "3200\n",
            "3200\n",
            "3200\n",
            "3200\n",
            "3200\n",
            "3200\n",
            "3200\n",
            "3200\n",
            "3200\n",
            "3200\n",
            "3200\n",
            "3200\n",
            "3200\n",
            "3200\n",
            "3200\n",
            "3200\n",
            "3200\n",
            "3200\n",
            "3200\n",
            "3200\n",
            "3200\n",
            "3200\n",
            "3200\n",
            "3200\n",
            "3200\n",
            "3200\n",
            "3200\n",
            "3200\n",
            "3200\n",
            "3200\n",
            "3200\n",
            "3200\n",
            "3200\n",
            "3200\n",
            "3200\n",
            "3200\n",
            "3200\n",
            "3200\n",
            "3200\n",
            "3200\n",
            "3200\n",
            "3200\n",
            "3200\n",
            "3200\n",
            "3200\n",
            "3200\n",
            "3200\n",
            "3200\n",
            "3200\n",
            "3200\n",
            "3200\n",
            "3200\n",
            "3200\n",
            "3200\n",
            "3200\n",
            "3200\n",
            "3200\n",
            "3200\n",
            "3200\n",
            "3200\n",
            "3200\n",
            "3200\n",
            "3200\n",
            "3200\n",
            "3200\n",
            "3200\n",
            "3200\n",
            "3200\n",
            "3200\n",
            "3200\n",
            "3200\n",
            "3200\n",
            "3200\n",
            "3200\n",
            "3200\n",
            "3200\n",
            "3200\n",
            "3200\n",
            "3200\n",
            "3200\n",
            "3200\n",
            "3200\n",
            "3200\n",
            "3200\n",
            "3200\n",
            "3200\n",
            "3200\n",
            "3200\n",
            "3200\n",
            "3200\n",
            "3200\n",
            "3200\n",
            "3200\n",
            "3200\n",
            "3200\n",
            "3200\n",
            "3200\n",
            "3200\n",
            "3200\n",
            "3200\n",
            "3200\n",
            "3200\n",
            "3200\n",
            "3200\n",
            "3200\n",
            "3200\n",
            "3200\n",
            "3200\n",
            "3200\n",
            "3200\n",
            "3200\n",
            "3200\n",
            "3200\n",
            "3200\n",
            "3200\n",
            "3200\n",
            "3200\n",
            "3200\n",
            "3200\n",
            "3200\n",
            "3200\n",
            "3200\n",
            "3200\n",
            "3200\n",
            "3200\n",
            "3200\n",
            "3200\n",
            "3200\n",
            "3200\n",
            "3200\n",
            "3200\n",
            "3200\n",
            "3200\n",
            "3200\n",
            "3200\n",
            "3200\n",
            "3200\n",
            "3200\n",
            "3200\n",
            "3200\n",
            "3200\n",
            "3200\n",
            "3200\n",
            "3200\n",
            "3200\n",
            "3200\n",
            "3200\n",
            "3200\n",
            "3200\n",
            "3200\n",
            "3200\n",
            "3200\n",
            "3200\n",
            "3200\n",
            "3200\n",
            "3200\n",
            "3200\n",
            "3200\n",
            "3200\n",
            "3200\n",
            "3200\n",
            "3200\n",
            "3200\n",
            "3200\n",
            "3200\n",
            "3200\n",
            "3200\n",
            "3200\n",
            "3200\n",
            "3200\n",
            "3200\n",
            "3200\n",
            "3200\n",
            "3200\n",
            "3200\n",
            "3200\n",
            "3200\n",
            "3200\n",
            "3200\n",
            "3200\n",
            "3200\n",
            "3200\n",
            "3200\n",
            "3200\n",
            "3200\n",
            "3200\n",
            "3200\n",
            "3200\n",
            "3200\n",
            "3200\n",
            "3200\n",
            "3200\n",
            "3200\n",
            "3200\n",
            "3200\n",
            "3200\n",
            "3200\n",
            "3200\n",
            "3200\n",
            "3200\n",
            "3200\n",
            "3200\n",
            "3200\n",
            "3200\n",
            "3200\n",
            "3200\n",
            "3200\n",
            "3200\n",
            "3200\n",
            "3200\n",
            "3200\n",
            "3200\n",
            "3200\n",
            "3200\n",
            "3200\n",
            "3200\n",
            "3200\n",
            "3200\n",
            "3200\n",
            "3200\n",
            "3200\n",
            "3200\n",
            "3200\n",
            "3200\n",
            "3200\n",
            "3200\n",
            "3200\n",
            "3200\n",
            "3200\n",
            "3200\n",
            "3200\n",
            "3200\n",
            "3200\n",
            "3200\n",
            "3200\n",
            "3200\n",
            "3200\n",
            "3200\n",
            "3200\n",
            "3200\n",
            "3200\n",
            "3200\n",
            "3200\n",
            "3200\n",
            "3200\n",
            "3200\n",
            "3200\n",
            "3200\n",
            "3200\n",
            "3200\n",
            "3200\n",
            "3200\n",
            "3200\n",
            "3200\n",
            "3200\n",
            "3200\n",
            "3200\n",
            "3200\n",
            "3200\n",
            "3200\n",
            "3200\n",
            "3200\n",
            "3200\n",
            "3200\n",
            "3200\n",
            "3200\n",
            "3200\n",
            "3200\n",
            "3200\n",
            "3200\n",
            "3200\n",
            "3200\n",
            "3200\n",
            "3200\n",
            "3200\n",
            "3200\n",
            "3200\n",
            "3200\n",
            "3200\n",
            "3200\n",
            "3200\n",
            "3200\n",
            "3200\n",
            "3200\n",
            "3200\n",
            "3200\n",
            "3200\n",
            "3200\n",
            "3200\n",
            "3200\n",
            "3200\n",
            "3200\n",
            "3200\n",
            "3200\n",
            "3200\n",
            "3200\n",
            "3200\n",
            "3200\n",
            "3200\n",
            "3200\n",
            "3200\n",
            "3200\n",
            "3200\n",
            "3200\n",
            "3200\n",
            "3200\n",
            "3200\n",
            "3200\n",
            "3200\n",
            "3200\n",
            "3200\n",
            "3200\n",
            "3200\n",
            "3200\n",
            "3200\n",
            "3200\n",
            "3200\n",
            "3200\n",
            "3200\n",
            "3200\n",
            "3200\n",
            "3200\n",
            "3200\n",
            "3200\n",
            "3200\n",
            "3200\n",
            "3200\n",
            "3200\n",
            "3200\n",
            "3200\n",
            "3200\n",
            "3200\n",
            "3200\n",
            "3200\n",
            "3200\n",
            "3200\n",
            "3200\n",
            "3200\n",
            "3200\n",
            "3200\n",
            "3200\n",
            "3200\n",
            "3200\n",
            "3200\n",
            "3200\n",
            "3200\n",
            "3200\n",
            "3200\n",
            "3200\n",
            "3200\n",
            "3200\n",
            "3200\n",
            "3200\n",
            "3200\n",
            "3200\n",
            "3200\n",
            "3200\n",
            "3200\n",
            "3200\n",
            "3200\n",
            "3200\n",
            "3200\n",
            "3200\n",
            "3200\n",
            "3200\n",
            "3200\n",
            "3200\n",
            "3200\n",
            "3200\n",
            "3200\n",
            "3200\n",
            "3200\n",
            "3200\n",
            "3200\n",
            "3200\n",
            "3200\n",
            "3200\n",
            "3200\n",
            "3200\n",
            "3200\n",
            "3200\n",
            "3200\n",
            "3200\n",
            "3200\n",
            "3200\n",
            "3200\n",
            "3200\n",
            "3200\n",
            "3200\n",
            "3200\n",
            "3200\n",
            "3200\n",
            "3200\n",
            "3200\n",
            "3200\n",
            "3200\n",
            "3200\n",
            "3200\n",
            "3200\n",
            "3200\n",
            "3200\n",
            "3200\n",
            "3200\n",
            "3200\n",
            "3200\n",
            "3200\n",
            "3200\n",
            "3200\n",
            "3200\n",
            "3200\n",
            "3200\n",
            "3200\n",
            "3200\n",
            "3200\n",
            "3200\n",
            "3200\n",
            "3200\n",
            "3200\n",
            "3200\n",
            "3200\n",
            "3200\n",
            "3200\n",
            "3200\n",
            "3200\n",
            "3200\n",
            "3200\n",
            "3200\n",
            "3200\n",
            "3200\n",
            "3200\n",
            "3200\n",
            "3200\n",
            "3200\n",
            "3200\n",
            "3200\n",
            "3200\n",
            "3200\n",
            "3200\n",
            "3200\n",
            "3200\n",
            "3200\n",
            "3200\n",
            "3200\n",
            "3200\n",
            "3200\n",
            "3200\n",
            "3200\n",
            "3200\n",
            "3200\n",
            "3200\n",
            "3200\n",
            "3200\n",
            "3200\n",
            "3200\n",
            "3200\n",
            "3200\n",
            "3200\n",
            "3200\n",
            "3200\n",
            "3200\n",
            "3200\n",
            "3200\n",
            "3200\n",
            "3200\n",
            "3200\n",
            "3200\n",
            "3200\n",
            "3200\n",
            "3200\n",
            "3200\n",
            "3200\n",
            "3200\n",
            "3200\n",
            "3200\n",
            "3200\n",
            "3200\n",
            "3200\n",
            "3200\n",
            "3200\n",
            "3200\n",
            "3200\n",
            "3200\n",
            "3200\n",
            "3200\n",
            "3200\n",
            "3200\n",
            "3200\n",
            "3200\n",
            "3200\n",
            "3200\n",
            "3200\n",
            "3200\n",
            "3200\n",
            "3200\n",
            "3200\n",
            "3200\n",
            "3200\n",
            "3200\n",
            "3200\n",
            "3200\n",
            "3200\n",
            "3200\n",
            "3200\n",
            "3200\n",
            "3200\n",
            "3200\n",
            "3200\n",
            "3200\n",
            "3200\n",
            "3200\n",
            "3200\n",
            "3200\n",
            "3200\n",
            "3200\n",
            "3200\n",
            "3200\n",
            "3200\n",
            "3200\n",
            "3200\n",
            "3200\n",
            "3200\n",
            "3200\n",
            "3200\n",
            "3200\n",
            "3200\n",
            "3200\n",
            "3200\n",
            "3200\n",
            "3200\n",
            "3200\n",
            "3200\n",
            "3200\n",
            "3200\n",
            "3200\n",
            "3200\n",
            "3200\n",
            "3200\n",
            "3200\n",
            "3200\n",
            "3200\n",
            "3200\n",
            "3200\n",
            "3200\n",
            "3200\n",
            "3200\n",
            "3200\n",
            "3200\n",
            "3200\n",
            "3200\n",
            "3200\n",
            "3200\n",
            "3200\n",
            "3200\n",
            "3200\n",
            "3200\n",
            "3200\n",
            "3200\n",
            "3200\n",
            "3200\n",
            "3200\n",
            "3200\n",
            "3200\n",
            "3200\n",
            "3200\n",
            "3200\n",
            "3200\n",
            "3200\n",
            "3200\n",
            "3200\n",
            "3200\n",
            "3200\n",
            "3200\n",
            "3200\n",
            "3200\n",
            "3200\n",
            "3200\n",
            "3200\n",
            "3200\n",
            "3200\n",
            "3200\n",
            "3200\n",
            "3200\n",
            "3200\n",
            "3200\n",
            "3200\n",
            "3200\n",
            "3200\n",
            "3200\n",
            "3200\n",
            "3200\n",
            "3200\n",
            "3200\n",
            "3200\n",
            "3200\n",
            "3200\n",
            "3200\n",
            "3200\n",
            "3200\n",
            "3200\n",
            "3200\n",
            "3200\n",
            "3200\n",
            "3200\n",
            "3200\n",
            "3200\n",
            "3200\n",
            "3200\n",
            "3200\n",
            "3200\n",
            "3200\n",
            "3200\n",
            "3200\n",
            "3200\n",
            "3200\n",
            "3200\n",
            "3200\n",
            "3200\n",
            "3200\n",
            "3200\n",
            "3200\n",
            "3200\n",
            "3200\n",
            "3200\n",
            "3200\n",
            "3200\n",
            "3200\n",
            "3200\n",
            "3200\n",
            "3200\n",
            "3200\n",
            "3200\n",
            "3200\n",
            "3200\n",
            "3200\n",
            "3200\n",
            "3200\n",
            "3200\n",
            "3200\n",
            "3200\n",
            "3200\n",
            "3200\n",
            "3200\n",
            "3200\n",
            "3200\n",
            "3200\n",
            "3200\n",
            "3200\n",
            "3200\n",
            "3200\n",
            "3200\n",
            "3200\n",
            "3200\n",
            "3200\n",
            "3200\n",
            "3200\n",
            "3200\n",
            "3200\n",
            "3200\n",
            "3200\n",
            "3200\n",
            "3200\n",
            "3200\n",
            "3200\n",
            "3200\n",
            "3200\n",
            "3200\n",
            "3200\n",
            "3200\n",
            "3200\n",
            "3200\n",
            "3200\n",
            "3200\n",
            "3200\n",
            "3200\n",
            "3200\n",
            "3200\n",
            "3200\n",
            "3200\n",
            "3200\n",
            "3200\n",
            "3200\n",
            "3200\n",
            "3200\n",
            "3200\n",
            "3200\n",
            "3200\n",
            "3200\n",
            "3200\n",
            "3200\n",
            "3200\n",
            "3200\n",
            "3200\n",
            "3200\n",
            "3200\n",
            "3200\n",
            "3200\n",
            "3200\n",
            "3200\n",
            "3200\n",
            "3200\n",
            "3200\n",
            "3200\n",
            "3200\n",
            "3200\n",
            "3200\n",
            "3200\n",
            "3200\n",
            "3200\n",
            "3200\n",
            "3200\n",
            "3200\n",
            "3200\n",
            "3200\n",
            "3200\n",
            "3200\n",
            "3200\n",
            "3200\n",
            "3200\n",
            "3200\n",
            "3200\n",
            "3200\n",
            "3200\n",
            "3200\n",
            "3200\n",
            "3200\n",
            "3200\n",
            "3200\n",
            "3200\n",
            "3200\n",
            "3200\n",
            "3200\n",
            "3200\n",
            "3200\n",
            "3200\n",
            "3200\n",
            "3200\n",
            "3200\n",
            "3200\n",
            "3200\n",
            "3200\n",
            "3200\n",
            "3200\n",
            "3200\n",
            "3200\n",
            "3200\n",
            "3200\n",
            "3200\n",
            "3200\n",
            "3200\n",
            "3200\n",
            "3200\n",
            "3200\n",
            "3200\n",
            "3200\n",
            "3200\n",
            "3200\n",
            "3200\n",
            "3200\n",
            "3200\n",
            "3200\n",
            "3200\n",
            "3200\n",
            "3200\n",
            "3200\n",
            "3200\n",
            "3200\n",
            "3200\n",
            "3200\n",
            "3200\n",
            "3200\n",
            "3200\n",
            "3200\n",
            "3200\n",
            "3200\n",
            "3200\n",
            "3200\n",
            "3200\n",
            "3200\n",
            "3200\n",
            "3200\n",
            "3200\n",
            "3200\n",
            "3200\n",
            "3200\n",
            "3200\n",
            "3200\n",
            "3200\n",
            "3200\n",
            "3200\n",
            "3200\n",
            "3200\n",
            "3200\n",
            "3200\n",
            "3200\n",
            "3200\n",
            "3200\n",
            "3200\n",
            "3200\n",
            "3200\n",
            "3200\n",
            "3200\n",
            "3200\n",
            "3200\n",
            "3200\n",
            "3200\n",
            "3200\n",
            "3200\n",
            "3200\n",
            "3200\n",
            "3200\n",
            "3200\n",
            "3200\n",
            "3200\n",
            "3200\n",
            "3200\n",
            "3200\n",
            "3200\n",
            "3200\n",
            "3200\n",
            "3200\n",
            "3200\n",
            "3200\n",
            "3200\n",
            "3200\n",
            "3200\n",
            "3200\n",
            "3200\n",
            "3200\n",
            "3200\n",
            "3200\n",
            "3200\n",
            "3200\n",
            "3200\n",
            "3200\n",
            "3200\n",
            "3200\n",
            "3200\n",
            "3200\n",
            "3200\n",
            "3200\n",
            "3200\n",
            "3200\n",
            "3200\n",
            "3200\n",
            "3200\n",
            "3200\n",
            "3200\n",
            "3200\n",
            "3200\n",
            "3200\n",
            "3200\n",
            "3200\n",
            "3200\n",
            "3200\n",
            "3200\n",
            "3200\n",
            "3200\n",
            "3200\n",
            "3200\n",
            "3200\n",
            "3200\n",
            "3200\n",
            "3200\n",
            "3200\n",
            "3200\n",
            "3200\n",
            "3200\n",
            "3200\n",
            "3200\n",
            "3200\n",
            "3200\n",
            "3200\n",
            "3200\n",
            "3200\n",
            "3200\n",
            "3200\n",
            "3200\n",
            "3200\n",
            "3200\n",
            "3200\n",
            "3200\n",
            "3200\n",
            "3200\n",
            "3200\n",
            "3200\n",
            "3200\n",
            "3200\n",
            "3200\n",
            "3200\n",
            "3200\n",
            "3200\n",
            "3200\n",
            "3200\n",
            "3200\n",
            "3200\n",
            "3200\n",
            "3200\n",
            "3200\n",
            "3200\n",
            "3200\n",
            "3200\n",
            "3200\n",
            "3200\n",
            "3200\n",
            "3200\n",
            "3200\n",
            "3200\n",
            "3200\n",
            "3200\n",
            "3200\n",
            "3200\n",
            "3200\n",
            "3200\n",
            "3200\n",
            "3200\n",
            "3200\n",
            "3200\n",
            "3200\n",
            "3200\n",
            "3200\n",
            "3200\n",
            "3200\n",
            "3200\n",
            "3200\n",
            "3200\n",
            "3200\n",
            "3200\n",
            "3200\n",
            "3200\n",
            "3200\n",
            "3200\n",
            "3200\n",
            "3200\n",
            "3200\n",
            "3200\n",
            "3200\n",
            "3200\n",
            "3200\n",
            "3200\n",
            "3200\n",
            "3200\n",
            "3200\n",
            "3200\n",
            "3200\n",
            "3200\n",
            "3200\n",
            "3200\n",
            "3200\n",
            "3200\n",
            "3200\n",
            "3200\n",
            "3200\n",
            "3200\n",
            "3200\n",
            "3200\n",
            "3200\n",
            "3200\n",
            "3200\n",
            "3200\n",
            "3200\n",
            "3200\n",
            "3200\n",
            "3200\n",
            "3200\n",
            "3200\n",
            "3200\n",
            "3200\n",
            "3200\n",
            "3200\n",
            "3200\n",
            "3200\n",
            "3200\n",
            "3200\n",
            "3200\n",
            "3200\n",
            "3200\n",
            "3200\n",
            "3200\n",
            "3200\n",
            "3200\n",
            "3200\n",
            "3200\n",
            "3200\n",
            "3200\n",
            "3200\n",
            "3200\n",
            "3200\n",
            "3200\n",
            "3200\n",
            "3200\n",
            "3200\n",
            "3200\n",
            "3200\n",
            "3200\n",
            "3200\n",
            "3200\n",
            "3200\n",
            "3200\n",
            "3200\n",
            "3200\n",
            "3200\n",
            "3200\n",
            "3200\n",
            "3200\n",
            "3200\n",
            "3200\n",
            "3200\n",
            "3200\n",
            "3200\n",
            "3200\n",
            "3200\n",
            "3200\n",
            "3200\n",
            "3200\n",
            "3200\n",
            "3200\n",
            "3200\n",
            "3200\n",
            "3200\n",
            "3200\n",
            "3200\n",
            "3200\n",
            "3200\n",
            "3200\n",
            "3200\n",
            "3200\n",
            "3200\n",
            "3200\n",
            "3200\n",
            "3200\n",
            "3200\n",
            "3200\n",
            "3200\n",
            "3200\n",
            "3200\n",
            "3200\n",
            "3200\n",
            "3200\n",
            "3200\n",
            "3200\n",
            "3200\n",
            "3200\n",
            "3200\n",
            "3200\n",
            "3200\n",
            "3200\n",
            "3200\n",
            "3200\n",
            "3200\n",
            "3200\n",
            "3200\n",
            "3200\n",
            "3200\n",
            "3200\n",
            "3200\n",
            "3200\n",
            "3200\n",
            "3200\n",
            "3200\n",
            "3200\n",
            "3200\n",
            "3200\n",
            "3200\n",
            "3200\n",
            "3200\n",
            "3200\n",
            "3200\n",
            "3200\n",
            "3200\n",
            "3200\n",
            "3200\n",
            "3200\n",
            "3200\n",
            "3200\n",
            "3200\n",
            "3200\n",
            "3200\n",
            "3200\n",
            "3200\n",
            "3200\n",
            "3200\n",
            "3200\n",
            "3200\n",
            "3200\n",
            "3200\n",
            "3200\n",
            "3200\n",
            "3200\n",
            "3200\n",
            "3200\n",
            "3200\n",
            "3200\n",
            "3200\n",
            "3200\n",
            "3200\n",
            "3200\n",
            "3200\n",
            "3200\n",
            "3200\n",
            "3200\n",
            "3200\n",
            "3200\n",
            "3200\n",
            "3200\n",
            "3200\n",
            "3200\n",
            "3200\n",
            "3200\n",
            "3200\n",
            "3200\n",
            "3200\n",
            "3200\n",
            "3200\n",
            "3200\n",
            "3200\n",
            "3200\n",
            "3200\n",
            "3200\n",
            "3200\n",
            "3200\n",
            "3200\n",
            "3200\n",
            "3200\n",
            "3200\n",
            "3200\n",
            "3200\n",
            "3200\n",
            "3200\n",
            "3200\n",
            "3200\n",
            "3200\n",
            "3200\n",
            "3200\n",
            "3200\n",
            "3200\n",
            "3200\n",
            "3200\n",
            "3200\n",
            "3200\n",
            "3200\n",
            "3200\n",
            "3200\n",
            "3200\n",
            "3200\n",
            "3200\n",
            "3200\n",
            "3200\n",
            "3200\n",
            "3200\n",
            "3200\n",
            "3200\n",
            "3200\n",
            "3200\n",
            "3200\n",
            "3200\n",
            "3200\n",
            "3200\n",
            "3200\n",
            "3200\n",
            "3200\n",
            "3200\n",
            "3200\n",
            "3200\n",
            "3200\n",
            "3200\n",
            "3200\n",
            "3200\n",
            "3200\n",
            "3200\n",
            "3200\n",
            "3200\n",
            "3200\n",
            "3200\n",
            "3200\n",
            "3200\n",
            "3200\n",
            "3200\n",
            "3200\n",
            "3200\n",
            "3200\n",
            "3200\n",
            "3200\n",
            "3200\n",
            "3200\n",
            "3200\n",
            "3200\n",
            "3200\n",
            "3200\n",
            "3200\n",
            "3200\n",
            "3200\n",
            "3200\n",
            "3200\n",
            "3200\n",
            "3200\n",
            "3200\n",
            "3200\n",
            "3200\n",
            "3200\n",
            "3200\n",
            "3200\n",
            "3200\n",
            "3200\n",
            "3200\n",
            "3200\n",
            "3200\n",
            "3200\n",
            "3200\n",
            "3200\n",
            "3200\n",
            "3200\n",
            "3200\n",
            "3200\n",
            "3200\n",
            "3200\n",
            "3200\n",
            "3200\n",
            "3200\n",
            "3200\n",
            "3200\n",
            "3200\n",
            "3200\n",
            "3200\n",
            "3200\n",
            "3200\n",
            "3200\n",
            "3200\n",
            "3200\n",
            "3200\n",
            "3200\n",
            "3200\n",
            "3200\n",
            "3200\n",
            "3200\n",
            "3200\n",
            "3200\n",
            "3200\n",
            "3200\n",
            "3200\n",
            "3200\n",
            "3200\n",
            "3200\n",
            "3200\n",
            "3200\n",
            "3200\n",
            "3200\n",
            "3200\n",
            "3200\n",
            "3200\n",
            "3200\n",
            "3200\n",
            "3200\n",
            "3200\n",
            "3200\n",
            "3200\n",
            "3200\n",
            "3200\n",
            "3200\n",
            "3200\n",
            "3200\n",
            "3200\n",
            "3200\n",
            "3200\n",
            "3200\n",
            "3200\n",
            "3200\n",
            "3200\n",
            "3200\n",
            "3200\n",
            "3200\n",
            "3200\n",
            "3200\n",
            "3200\n",
            "3200\n",
            "3200\n",
            "3200\n",
            "3200\n",
            "3200\n",
            "3200\n",
            "3200\n",
            "3200\n",
            "3200\n",
            "3200\n",
            "3200\n",
            "3200\n",
            "3200\n",
            "3200\n",
            "3200\n",
            "3200\n",
            "3200\n",
            "3200\n",
            "3200\n",
            "3200\n",
            "3200\n",
            "3200\n",
            "3200\n",
            "3200\n",
            "3200\n",
            "3200\n",
            "3200\n",
            "3200\n",
            "3200\n",
            "3200\n",
            "3200\n",
            "3200\n",
            "3200\n",
            "3200\n",
            "3200\n",
            "3200\n",
            "3200\n",
            "3200\n",
            "3200\n",
            "3200\n",
            "3200\n",
            "3200\n",
            "3200\n",
            "3200\n",
            "3200\n",
            "3200\n",
            "3200\n",
            "3200\n",
            "3200\n",
            "3200\n",
            "3200\n",
            "3200\n",
            "3200\n",
            "3200\n",
            "3200\n",
            "3200\n",
            "3200\n",
            "3200\n",
            "3200\n",
            "3200\n",
            "3200\n",
            "3200\n",
            "3200\n",
            "3200\n",
            "3200\n",
            "3200\n",
            "3200\n",
            "3200\n",
            "3200\n",
            "3200\n",
            "3200\n",
            "3200\n",
            "3200\n",
            "3200\n",
            "3200\n",
            "3200\n",
            "3200\n",
            "3200\n",
            "3200\n",
            "3200\n",
            "3200\n",
            "3200\n",
            "3200\n",
            "3200\n",
            "3200\n",
            "3200\n",
            "3200\n",
            "3200\n",
            "3200\n",
            "3200\n",
            "3200\n",
            "3200\n",
            "3200\n",
            "3200\n",
            "3200\n",
            "3200\n",
            "3200\n",
            "3200\n",
            "3200\n",
            "3200\n",
            "3200\n",
            "3200\n",
            "3200\n",
            "3200\n",
            "3200\n",
            "3200\n",
            "3200\n",
            "3200\n",
            "3200\n",
            "3200\n",
            "3200\n",
            "3200\n",
            "3200\n",
            "3200\n",
            "3200\n",
            "3200\n",
            "3200\n",
            "3200\n",
            "3200\n",
            "3200\n",
            "3200\n",
            "3200\n",
            "3200\n",
            "3200\n",
            "3200\n",
            "3200\n",
            "3200\n",
            "3200\n",
            "3200\n",
            "3200\n",
            "3200\n",
            "3200\n",
            "3200\n",
            "3200\n",
            "3200\n",
            "3200\n",
            "3200\n",
            "3200\n",
            "3200\n",
            "3200\n",
            "3200\n",
            "3200\n",
            "3200\n",
            "3200\n",
            "3200\n",
            "3200\n",
            "3200\n",
            "3200\n",
            "3200\n",
            "3200\n",
            "3200\n",
            "3200\n",
            "3200\n",
            "3200\n",
            "3200\n",
            "3200\n",
            "3200\n",
            "3200\n",
            "3200\n",
            "3200\n",
            "3200\n",
            "3200\n",
            "3200\n",
            "3200\n",
            "3200\n",
            "3200\n",
            "3200\n",
            "3200\n",
            "3200\n",
            "3200\n",
            "3200\n",
            "3200\n",
            "3200\n",
            "3200\n",
            "3200\n",
            "3200\n",
            "3200\n",
            "3200\n",
            "3200\n",
            "3200\n",
            "3200\n",
            "3200\n",
            "3200\n",
            "3200\n",
            "3200\n",
            "3200\n",
            "3200\n",
            "3200\n",
            "3200\n",
            "3200\n",
            "3200\n",
            "3200\n",
            "3200\n",
            "3200\n",
            "3200\n",
            "3200\n",
            "3200\n",
            "3200\n",
            "3200\n",
            "3200\n",
            "3200\n",
            "3200\n",
            "3200\n",
            "3200\n",
            "3200\n",
            "3200\n",
            "3200\n",
            "3200\n",
            "3200\n",
            "3200\n",
            "3200\n",
            "3200\n",
            "3200\n",
            "3200\n",
            "3200\n",
            "3200\n",
            "3200\n",
            "3200\n",
            "3200\n",
            "3200\n",
            "3200\n",
            "3200\n",
            "3200\n",
            "3200\n",
            "3200\n",
            "3200\n",
            "3200\n",
            "3200\n",
            "3200\n",
            "3200\n",
            "3200\n",
            "3200\n",
            "3200\n",
            "3200\n",
            "3200\n",
            "3200\n",
            "3200\n",
            "3200\n",
            "3200\n",
            "3200\n",
            "3200\n",
            "3200\n",
            "3200\n",
            "3200\n",
            "3200\n",
            "3200\n",
            "3200\n",
            "3200\n",
            "3200\n",
            "3200\n",
            "3200\n",
            "3200\n",
            "3200\n",
            "3200\n",
            "3200\n",
            "3200\n",
            "3200\n",
            "3200\n",
            "3200\n",
            "3200\n",
            "3200\n",
            "3200\n",
            "3200\n",
            "3200\n",
            "3200\n",
            "3200\n",
            "3200\n",
            "3200\n",
            "3200\n",
            "3200\n",
            "3200\n",
            "3200\n",
            "3200\n",
            "3200\n",
            "3200\n",
            "3200\n",
            "3200\n",
            "3200\n",
            "3200\n",
            "3200\n",
            "3200\n",
            "3200\n",
            "3200\n",
            "3200\n",
            "3200\n",
            "3200\n",
            "3200\n",
            "3200\n",
            "3200\n",
            "3200\n",
            "3200\n",
            "3200\n",
            "3200\n",
            "3200\n",
            "3200\n",
            "3200\n",
            "3200\n",
            "3200\n",
            "3200\n",
            "3200\n",
            "3200\n",
            "3200\n",
            "3200\n",
            "3200\n",
            "3200\n",
            "3200\n",
            "3200\n",
            "3200\n",
            "3200\n",
            "3200\n",
            "3200\n",
            "3200\n",
            "3200\n",
            "3200\n",
            "3200\n",
            "3200\n",
            "3200\n",
            "3200\n",
            "3200\n",
            "3200\n",
            "3200\n",
            "3200\n",
            "3200\n",
            "3200\n",
            "3200\n",
            "3200\n",
            "3200\n",
            "3200\n",
            "3200\n",
            "3200\n",
            "3200\n",
            "3200\n",
            "3200\n",
            "3200\n",
            "3200\n",
            "3200\n",
            "3200\n",
            "3200\n",
            "3200\n",
            "3200\n",
            "3200\n",
            "3200\n",
            "3200\n",
            "3200\n",
            "3200\n",
            "3200\n",
            "3200\n",
            "3200\n",
            "3200\n",
            "3200\n",
            "3200\n",
            "3200\n",
            "3200\n",
            "3200\n",
            "3200\n",
            "3200\n",
            "3200\n",
            "3200\n",
            "3200\n",
            "3200\n",
            "3200\n",
            "3200\n",
            "3200\n",
            "3200\n",
            "3200\n",
            "3200\n",
            "3200\n",
            "3200\n",
            "3200\n",
            "3200\n",
            "3200\n",
            "3200\n",
            "3200\n",
            "3200\n",
            "3200\n",
            "3200\n",
            "3200\n",
            "3200\n",
            "3200\n",
            "3200\n",
            "3200\n",
            "3200\n",
            "3200\n",
            "3200\n",
            "3200\n",
            "3200\n",
            "3200\n",
            "3200\n",
            "3200\n",
            "3200\n",
            "3200\n",
            "3200\n",
            "3200\n",
            "3200\n",
            "3200\n",
            "3200\n",
            "3200\n",
            "3200\n",
            "3200\n",
            "3200\n",
            "3200\n",
            "3200\n",
            "3200\n",
            "3200\n",
            "3200\n",
            "3200\n",
            "3200\n",
            "3200\n",
            "3200\n",
            "3200\n",
            "3200\n",
            "3200\n",
            "3200\n",
            "3200\n",
            "3200\n",
            "3200\n",
            "3200\n",
            "3200\n",
            "3200\n",
            "3200\n",
            "3200\n",
            "3200\n",
            "3200\n",
            "3200\n",
            "3200\n",
            "3200\n",
            "3200\n",
            "3200\n",
            "3200\n",
            "3200\n",
            "3200\n",
            "3200\n",
            "3200\n",
            "3200\n",
            "3200\n",
            "3200\n",
            "3200\n",
            "3200\n",
            "3200\n",
            "3200\n",
            "3200\n",
            "3200\n",
            "3200\n",
            "3200\n",
            "3200\n",
            "3200\n",
            "3200\n",
            "3200\n",
            "3200\n",
            "3200\n",
            "3200\n",
            "3200\n",
            "3200\n",
            "3200\n",
            "3200\n",
            "3200\n",
            "3200\n",
            "3200\n",
            "3200\n",
            "3200\n",
            "3200\n",
            "3200\n",
            "3200\n",
            "3200\n",
            "3200\n",
            "3200\n",
            "3200\n",
            "3200\n",
            "3200\n",
            "3200\n",
            "3200\n",
            "3200\n",
            "3200\n",
            "3200\n",
            "3200\n",
            "3200\n",
            "3200\n",
            "3200\n",
            "3200\n",
            "3200\n",
            "3200\n",
            "3200\n",
            "3200\n",
            "3200\n",
            "3200\n",
            "3200\n",
            "3200\n",
            "3200\n",
            "3200\n",
            "3200\n",
            "3200\n",
            "3200\n",
            "3200\n",
            "3200\n",
            "3200\n",
            "3200\n",
            "3200\n",
            "3200\n",
            "3200\n",
            "3200\n",
            "3200\n",
            "3200\n",
            "3200\n",
            "3200\n",
            "3200\n",
            "3200\n",
            "3200\n",
            "3200\n",
            "3200\n",
            "3200\n",
            "3200\n",
            "3200\n",
            "3200\n",
            "3200\n",
            "3200\n",
            "3200\n",
            "3200\n",
            "3200\n",
            "3200\n",
            "3200\n",
            "3200\n",
            "3200\n",
            "3200\n",
            "3200\n",
            "3200\n",
            "3200\n",
            "3200\n",
            "3200\n",
            "3200\n",
            "3200\n",
            "3200\n",
            "3200\n",
            "3200\n",
            "3200\n",
            "3200\n",
            "3200\n",
            "3200\n",
            "3200\n",
            "3200\n",
            "3200\n",
            "3200\n",
            "3200\n",
            "3200\n",
            "3200\n",
            "3200\n",
            "3200\n",
            "3200\n",
            "3200\n",
            "3200\n",
            "3200\n",
            "3200\n",
            "3200\n",
            "3200\n",
            "3200\n",
            "3200\n",
            "3200\n",
            "3200\n",
            "3200\n",
            "3200\n",
            "3200\n",
            "3200\n",
            "3200\n",
            "3200\n",
            "3200\n",
            "3200\n",
            "3200\n",
            "3200\n",
            "3200\n",
            "3200\n",
            "3200\n",
            "3200\n",
            "3200\n",
            "3200\n",
            "3200\n",
            "3200\n",
            "3200\n",
            "3200\n",
            "3200\n",
            "3200\n",
            "3200\n",
            "3200\n",
            "3200\n",
            "3200\n",
            "3200\n",
            "3200\n",
            "3200\n",
            "3200\n",
            "3200\n",
            "3200\n",
            "3200\n",
            "3200\n",
            "3200\n",
            "3200\n",
            "3200\n",
            "3200\n",
            "3200\n",
            "3200\n",
            "3200\n",
            "3200\n",
            "3200\n",
            "3200\n",
            "3200\n",
            "3200\n",
            "3200\n",
            "3200\n",
            "3200\n",
            "3200\n",
            "3200\n",
            "3200\n",
            "3200\n",
            "3200\n",
            "3200\n",
            "3200\n",
            "3200\n",
            "3200\n",
            "3200\n",
            "3200\n",
            "3200\n",
            "3200\n",
            "3200\n",
            "3200\n",
            "3200\n",
            "3200\n",
            "3200\n",
            "3200\n",
            "3200\n",
            "3200\n",
            "3200\n",
            "3200\n",
            "3200\n",
            "3200\n",
            "3200\n",
            "3200\n",
            "3200\n",
            "3200\n",
            "3200\n",
            "3200\n",
            "3200\n",
            "3200\n",
            "3200\n",
            "3200\n",
            "3200\n",
            "3200\n",
            "3200\n",
            "3200\n",
            "3200\n",
            "3200\n",
            "3200\n",
            "3200\n",
            "3200\n",
            "3200\n",
            "3200\n",
            "3200\n",
            "3200\n",
            "3200\n",
            "3200\n",
            "3200\n",
            "3200\n",
            "3200\n",
            "3200\n",
            "3200\n",
            "3200\n",
            "3200\n",
            "3200\n",
            "3200\n",
            "3200\n",
            "3200\n",
            "3200\n",
            "3200\n",
            "3200\n",
            "3200\n",
            "3200\n",
            "3200\n",
            "3200\n",
            "3200\n",
            "3200\n",
            "3200\n",
            "3200\n",
            "3200\n",
            "3200\n",
            "3200\n",
            "3200\n",
            "3200\n",
            "3200\n",
            "3200\n",
            "3200\n",
            "3200\n",
            "3200\n",
            "3200\n",
            "3200\n",
            "3200\n",
            "3200\n",
            "3200\n",
            "3200\n",
            "3200\n",
            "3200\n",
            "3200\n",
            "3200\n",
            "3200\n",
            "3200\n",
            "3200\n",
            "3200\n",
            "3200\n",
            "3200\n",
            "3200\n",
            "3200\n",
            "3200\n",
            "3200\n",
            "3200\n",
            "3200\n",
            "3200\n",
            "3200\n",
            "3200\n",
            "3200\n",
            "3200\n",
            "3200\n",
            "3200\n",
            "3200\n",
            "3200\n",
            "3200\n",
            "3200\n",
            "3200\n",
            "3200\n",
            "3200\n",
            "3200\n",
            "3200\n",
            "3200\n",
            "3200\n",
            "3200\n",
            "3200\n",
            "3200\n",
            "3200\n",
            "3200\n",
            "3200\n",
            "3200\n",
            "3200\n",
            "3200\n",
            "3200\n",
            "3200\n",
            "3200\n",
            "3200\n",
            "3200\n",
            "3200\n",
            "3200\n",
            "3200\n",
            "3200\n",
            "3200\n",
            "3200\n",
            "3200\n",
            "3200\n",
            "3200\n",
            "3200\n",
            "3200\n",
            "3200\n",
            "3200\n",
            "3200\n",
            "3200\n",
            "3200\n",
            "3200\n",
            "3200\n",
            "3200\n",
            "3200\n",
            "3200\n",
            "3200\n",
            "3200\n",
            "3200\n",
            "3200\n",
            "3200\n",
            "3200\n",
            "3200\n",
            "3200\n",
            "3200\n",
            "3200\n",
            "3200\n",
            "3200\n",
            "3200\n",
            "3200\n",
            "3200\n",
            "3200\n",
            "3200\n",
            "3200\n",
            "3200\n",
            "3200\n",
            "3200\n",
            "3200\n",
            "3200\n",
            "3200\n",
            "3200\n",
            "3200\n",
            "3200\n",
            "3200\n",
            "3200\n",
            "3200\n",
            "3200\n",
            "3200\n",
            "3200\n",
            "3200\n",
            "3200\n",
            "3200\n",
            "3200\n",
            "3200\n",
            "3200\n",
            "3200\n",
            "3200\n",
            "3200\n",
            "3200\n",
            "3200\n",
            "3200\n",
            "3200\n",
            "3200\n",
            "3200\n",
            "3200\n",
            "3200\n",
            "3200\n",
            "3200\n",
            "3200\n",
            "3200\n",
            "3200\n",
            "3200\n",
            "3200\n",
            "3200\n",
            "3200\n",
            "3200\n",
            "3200\n",
            "3200\n",
            "3200\n",
            "3200\n",
            "3200\n",
            "3200\n",
            "3200\n",
            "3200\n",
            "3200\n",
            "3200\n",
            "3200\n",
            "3200\n",
            "3200\n",
            "3200\n",
            "3200\n",
            "3200\n",
            "3200\n",
            "3200\n",
            "3200\n",
            "3200\n",
            "3200\n",
            "3200\n",
            "3200\n",
            "3200\n",
            "3200\n",
            "3200\n",
            "3200\n",
            "3200\n",
            "3200\n",
            "3200\n",
            "3200\n",
            "3200\n",
            "3200\n",
            "3200\n",
            "3200\n",
            "3200\n",
            "3200\n",
            "3200\n",
            "3200\n",
            "3200\n",
            "3200\n",
            "3200\n",
            "3200\n",
            "3200\n",
            "3200\n",
            "3200\n",
            "3200\n",
            "3200\n",
            "3200\n",
            "3200\n",
            "3200\n",
            "3200\n",
            "3200\n",
            "3200\n",
            "3200\n",
            "3200\n",
            "3200\n",
            "3200\n",
            "3200\n",
            "3200\n",
            "3200\n",
            "3200\n",
            "3200\n",
            "3200\n",
            "3200\n",
            "3200\n",
            "3200\n",
            "3200\n",
            "3200\n",
            "3200\n",
            "3200\n",
            "3200\n",
            "3200\n",
            "3200\n",
            "3200\n",
            "3200\n",
            "3200\n",
            "3200\n",
            "3200\n",
            "3200\n",
            "3200\n",
            "3200\n",
            "3200\n",
            "3200\n",
            "3200\n",
            "3200\n",
            "3200\n",
            "3200\n",
            "3200\n",
            "3200\n",
            "3200\n",
            "3200\n",
            "3200\n",
            "3200\n",
            "3200\n",
            "3200\n",
            "3200\n",
            "3200\n",
            "3200\n",
            "3200\n",
            "3200\n",
            "3200\n",
            "3200\n",
            "3200\n",
            "3200\n",
            "3200\n",
            "3200\n",
            "3200\n",
            "3200\n",
            "3200\n",
            "3200\n",
            "3200\n",
            "3200\n",
            "3200\n",
            "3200\n",
            "3200\n",
            "3200\n",
            "3200\n",
            "3200\n",
            "3200\n",
            "3200\n",
            "3200\n",
            "3200\n",
            "3200\n",
            "3200\n",
            "3200\n",
            "3200\n",
            "3200\n",
            "3200\n",
            "3200\n",
            "3200\n",
            "3200\n",
            "3200\n",
            "3200\n",
            "3200\n",
            "3200\n",
            "3200\n",
            "3200\n",
            "3200\n",
            "3200\n",
            "3200\n",
            "3200\n",
            "3200\n",
            "3200\n",
            "3200\n",
            "3200\n",
            "3200\n",
            "3200\n",
            "3200\n",
            "3200\n",
            "3200\n",
            "3200\n",
            "3200\n",
            "3200\n",
            "3200\n",
            "3200\n",
            "3200\n",
            "3200\n",
            "3200\n",
            "3200\n",
            "3200\n",
            "3200\n",
            "3200\n",
            "3200\n",
            "3200\n",
            "3200\n",
            "3200\n",
            "3200\n",
            "3200\n",
            "3200\n",
            "3200\n",
            "3200\n",
            "3200\n",
            "3200\n",
            "3200\n",
            "3200\n",
            "3200\n",
            "3200\n",
            "3200\n",
            "3200\n",
            "3200\n",
            "3200\n",
            "3200\n",
            "3200\n",
            "3200\n",
            "3200\n",
            "3200\n",
            "3200\n",
            "3200\n",
            "3200\n",
            "3200\n",
            "3200\n",
            "3200\n",
            "3200\n",
            "3200\n",
            "3200\n",
            "3200\n",
            "3200\n",
            "3200\n",
            "3200\n",
            "3200\n",
            "3200\n",
            "3200\n",
            "3200\n",
            "3200\n",
            "3200\n",
            "3200\n",
            "3200\n",
            "3200\n",
            "3200\n",
            "3200\n",
            "3200\n",
            "3200\n",
            "3200\n",
            "3200\n",
            "3200\n",
            "3200\n",
            "3200\n",
            "3200\n",
            "3200\n",
            "3200\n",
            "3200\n",
            "3200\n",
            "3200\n",
            "3200\n",
            "3200\n",
            "3200\n",
            "3200\n",
            "3200\n",
            "3200\n",
            "3200\n",
            "3200\n",
            "3200\n",
            "3200\n",
            "3200\n",
            "3200\n",
            "3200\n",
            "3200\n",
            "3200\n",
            "3200\n",
            "3200\n",
            "3200\n",
            "3200\n",
            "3200\n",
            "3200\n",
            "3200\n",
            "3200\n",
            "3200\n",
            "3200\n",
            "3200\n",
            "3200\n",
            "3200\n",
            "3200\n",
            "3200\n",
            "3200\n",
            "3200\n",
            "3200\n",
            "3200\n",
            "3200\n",
            "3200\n",
            "3200\n",
            "3200\n",
            "3200\n",
            "3200\n",
            "3200\n",
            "3200\n",
            "3200\n",
            "3200\n",
            "3200\n",
            "3200\n",
            "3200\n",
            "3200\n",
            "3200\n",
            "3200\n",
            "3200\n",
            "3200\n",
            "3200\n",
            "3200\n",
            "3200\n",
            "3200\n",
            "3200\n",
            "3200\n",
            "3200\n",
            "3200\n",
            "3200\n",
            "3200\n",
            "3200\n",
            "3200\n",
            "3200\n",
            "3200\n",
            "3200\n",
            "3200\n",
            "3200\n",
            "3200\n",
            "3200\n",
            "3200\n",
            "3200\n",
            "3200\n",
            "3200\n",
            "3200\n",
            "3200\n",
            "3200\n",
            "3200\n",
            "3200\n",
            "3200\n",
            "3200\n",
            "3200\n",
            "3200\n",
            "3200\n",
            "3200\n",
            "3200\n",
            "3200\n",
            "3200\n",
            "3200\n",
            "3200\n",
            "3200\n",
            "3200\n",
            "3200\n",
            "3200\n",
            "3200\n",
            "3200\n",
            "3200\n",
            "3200\n",
            "3200\n",
            "3200\n",
            "3200\n",
            "3200\n",
            "3200\n",
            "3200\n",
            "3200\n",
            "3200\n",
            "3200\n",
            "3200\n",
            "3200\n",
            "3200\n",
            "3200\n",
            "3200\n",
            "3200\n",
            "3200\n",
            "3200\n",
            "3200\n",
            "3200\n",
            "3200\n",
            "3200\n",
            "3200\n",
            "3200\n",
            "3200\n",
            "3200\n",
            "3200\n",
            "3200\n",
            "3200\n",
            "3200\n",
            "3200\n",
            "3200\n",
            "3200\n",
            "3200\n",
            "3200\n",
            "3200\n",
            "3200\n",
            "3200\n",
            "3200\n",
            "3200\n",
            "3200\n",
            "3200\n",
            "3200\n",
            "3200\n",
            "3200\n",
            "3200\n",
            "3200\n",
            "3200\n",
            "3200\n",
            "3200\n",
            "3200\n",
            "3200\n",
            "3200\n",
            "3200\n",
            "3200\n",
            "3200\n",
            "3200\n",
            "3200\n",
            "3200\n",
            "3200\n",
            "3200\n",
            "3200\n",
            "3200\n",
            "3200\n",
            "3200\n",
            "3200\n",
            "3200\n",
            "3200\n",
            "3200\n",
            "3200\n",
            "3200\n",
            "3200\n",
            "3200\n",
            "3200\n",
            "3200\n",
            "3200\n",
            "3200\n",
            "3200\n",
            "3200\n",
            "3200\n",
            "3200\n",
            "3200\n",
            "3200\n",
            "3200\n",
            "3200\n",
            "3200\n",
            "3200\n",
            "3200\n",
            "3200\n",
            "3200\n",
            "3200\n",
            "3200\n",
            "3200\n",
            "3200\n",
            "3200\n",
            "3200\n",
            "3200\n",
            "3200\n",
            "3200\n",
            "3200\n",
            "3200\n",
            "3200\n",
            "3200\n",
            "3200\n",
            "3200\n",
            "3200\n",
            "3200\n",
            "3200\n",
            "3200\n",
            "3200\n",
            "3200\n",
            "3200\n",
            "3200\n",
            "3200\n",
            "3200\n",
            "3200\n",
            "3200\n",
            "3200\n",
            "3200\n",
            "3200\n",
            "3200\n",
            "3200\n",
            "3200\n",
            "3200\n",
            "3200\n",
            "3200\n",
            "3200\n",
            "3200\n",
            "3200\n",
            "3200\n",
            "3200\n",
            "3200\n",
            "3200\n",
            "3200\n",
            "3200\n",
            "3200\n",
            "3200\n",
            "3200\n",
            "3200\n",
            "3200\n",
            "3200\n",
            "3200\n",
            "3200\n",
            "3200\n",
            "3200\n",
            "3200\n",
            "3200\n",
            "3200\n",
            "3200\n",
            "3200\n",
            "3200\n",
            "3200\n",
            "3200\n",
            "3200\n",
            "3200\n",
            "3200\n",
            "3200\n",
            "3200\n",
            "3200\n",
            "3200\n",
            "3200\n",
            "3200\n",
            "3200\n",
            "3200\n",
            "3200\n",
            "3200\n",
            "3200\n",
            "3200\n",
            "3200\n",
            "3200\n",
            "3200\n",
            "3200\n",
            "3200\n",
            "3200\n",
            "3200\n",
            "3200\n",
            "3200\n",
            "3200\n",
            "3200\n",
            "3200\n",
            "3200\n",
            "3200\n",
            "3200\n",
            "3200\n",
            "3200\n",
            "3200\n",
            "3200\n",
            "3200\n",
            "3200\n",
            "3200\n",
            "3200\n",
            "3200\n",
            "3200\n",
            "3200\n",
            "3200\n",
            "3200\n",
            "3200\n",
            "3200\n",
            "3200\n",
            "3200\n",
            "3200\n",
            "3200\n",
            "3200\n",
            "3200\n",
            "3200\n",
            "3200\n",
            "3200\n",
            "3200\n",
            "3200\n",
            "3200\n",
            "3200\n",
            "3200\n",
            "3200\n",
            "3200\n",
            "3200\n",
            "3200\n",
            "3200\n",
            "3200\n",
            "3200\n",
            "3200\n",
            "3200\n",
            "3200\n",
            "3200\n",
            "3200\n",
            "3200\n",
            "3200\n",
            "3200\n",
            "3200\n",
            "3200\n",
            "3200\n",
            "3200\n",
            "3200\n",
            "3200\n",
            "3200\n",
            "3200\n",
            "3200\n",
            "3200\n",
            "3200\n",
            "3200\n",
            "3200\n",
            "3200\n",
            "3200\n",
            "3200\n",
            "3200\n",
            "3200\n",
            "3200\n",
            "3200\n",
            "3200\n",
            "3200\n",
            "3200\n",
            "3200\n",
            "3200\n",
            "3200\n",
            "3200\n",
            "3200\n",
            "3200\n",
            "3200\n",
            "3200\n",
            "3200\n",
            "3200\n",
            "3200\n",
            "3200\n",
            "3200\n",
            "3200\n",
            "3200\n",
            "3200\n",
            "3200\n",
            "3200\n",
            "3200\n",
            "3200\n",
            "3200\n",
            "3200\n",
            "3200\n",
            "3200\n",
            "3200\n",
            "3200\n",
            "3200\n",
            "3200\n",
            "3200\n",
            "3200\n",
            "3200\n",
            "3200\n",
            "3200\n",
            "3200\n",
            "3200\n",
            "3200\n",
            "3200\n",
            "3200\n",
            "3200\n",
            "3200\n",
            "3200\n",
            "3200\n",
            "3200\n",
            "3200\n",
            "3200\n",
            "3200\n",
            "3200\n",
            "3200\n",
            "3200\n",
            "3200\n",
            "3200\n",
            "3200\n",
            "3200\n",
            "3200\n",
            "3200\n",
            "3200\n",
            "3200\n",
            "3200\n",
            "3200\n",
            "3200\n",
            "3200\n",
            "3200\n",
            "3200\n",
            "3200\n",
            "3200\n",
            "3200\n",
            "3200\n",
            "3200\n",
            "3200\n",
            "3200\n",
            "3200\n",
            "3200\n",
            "3200\n",
            "3200\n",
            "3200\n",
            "3200\n",
            "3200\n",
            "3200\n",
            "3200\n",
            "3200\n",
            "3200\n",
            "3200\n",
            "3200\n",
            "3200\n",
            "3200\n",
            "3200\n",
            "3200\n",
            "3200\n",
            "3200\n",
            "3200\n",
            "3200\n",
            "3200\n",
            "3200\n",
            "3200\n",
            "3200\n",
            "3200\n",
            "3200\n",
            "3200\n",
            "3200\n",
            "3200\n",
            "3200\n",
            "3200\n",
            "3200\n",
            "3200\n",
            "3200\n",
            "3200\n",
            "3200\n",
            "3200\n",
            "3200\n",
            "3200\n",
            "3200\n",
            "3200\n",
            "3200\n",
            "3200\n",
            "3200\n",
            "3200\n",
            "3200\n",
            "3200\n",
            "3200\n",
            "3200\n",
            "3200\n",
            "3200\n",
            "3200\n",
            "3200\n",
            "3200\n",
            "3200\n",
            "3200\n",
            "3200\n",
            "3200\n",
            "3200\n",
            "3200\n",
            "3200\n",
            "3200\n",
            "3200\n",
            "3200\n",
            "3200\n",
            "3200\n",
            "3200\n",
            "3200\n",
            "3200\n",
            "3200\n",
            "3200\n",
            "3200\n",
            "3200\n",
            "3200\n",
            "3200\n",
            "3200\n",
            "3200\n",
            "3200\n",
            "3200\n",
            "3200\n",
            "3200\n",
            "3200\n",
            "3200\n",
            "3200\n",
            "3200\n",
            "3200\n",
            "3200\n",
            "3200\n",
            "3200\n",
            "3200\n",
            "3200\n",
            "3200\n",
            "3200\n",
            "3200\n",
            "3200\n",
            "3200\n",
            "3200\n",
            "3200\n",
            "3200\n",
            "3200\n",
            "3200\n",
            "3200\n",
            "3200\n",
            "3200\n",
            "3200\n",
            "3200\n",
            "3200\n",
            "3200\n",
            "3200\n",
            "3200\n",
            "3200\n",
            "3200\n",
            "3200\n",
            "3200\n",
            "3200\n",
            "3200\n",
            "3200\n",
            "3200\n",
            "3200\n",
            "3200\n",
            "3200\n",
            "3200\n",
            "3200\n",
            "3200\n",
            "3200\n",
            "3200\n",
            "3200\n",
            "3200\n",
            "3200\n",
            "3200\n",
            "3200\n",
            "3200\n",
            "3200\n",
            "3200\n",
            "3200\n",
            "3200\n",
            "3200\n",
            "3200\n",
            "3200\n",
            "3200\n",
            "3200\n",
            "3200\n",
            "3200\n",
            "3200\n",
            "3200\n",
            "3200\n",
            "3200\n",
            "3200\n",
            "3200\n",
            "3200\n",
            "3200\n",
            "3200\n",
            "3200\n",
            "3200\n",
            "3200\n",
            "3200\n",
            "3200\n",
            "3200\n",
            "3200\n",
            "3200\n",
            "3200\n",
            "3200\n",
            "3200\n",
            "3200\n",
            "3200\n",
            "3200\n",
            "3200\n",
            "3200\n",
            "3200\n",
            "3200\n",
            "3200\n",
            "3200\n",
            "3200\n",
            "3200\n",
            "3200\n",
            "3200\n",
            "3200\n",
            "3200\n",
            "3200\n",
            "3200\n",
            "3200\n",
            "3200\n",
            "3200\n",
            "3200\n",
            "3200\n",
            "3200\n",
            "3200\n",
            "3200\n",
            "3200\n",
            "3200\n",
            "3200\n",
            "3200\n",
            "3200\n",
            "3200\n",
            "3200\n",
            "3200\n",
            "3200\n",
            "3200\n",
            "3200\n",
            "3200\n",
            "3200\n",
            "3200\n",
            "3200\n",
            "3200\n",
            "3200\n",
            "3200\n",
            "3200\n",
            "3200\n",
            "3200\n",
            "3200\n",
            "3200\n",
            "3200\n",
            "3200\n",
            "3200\n",
            "3200\n",
            "3200\n",
            "3200\n",
            "3200\n",
            "3200\n",
            "3200\n",
            "3200\n",
            "3200\n",
            "3200\n",
            "3200\n",
            "3200\n",
            "3200\n",
            "3200\n",
            "3200\n",
            "3200\n",
            "3200\n",
            "3200\n",
            "3200\n",
            "3200\n",
            "3200\n",
            "3200\n",
            "3200\n",
            "3200\n",
            "3200\n",
            "3200\n",
            "3200\n",
            "3200\n",
            "3200\n",
            "3200\n",
            "3200\n",
            "3200\n",
            "3200\n",
            "3200\n",
            "3200\n",
            "3200\n",
            "3200\n",
            "3200\n",
            "3200\n",
            "3200\n",
            "3200\n",
            "3200\n",
            "3200\n",
            "3200\n",
            "3200\n",
            "3200\n",
            "3200\n",
            "3200\n",
            "3200\n",
            "3200\n",
            "3200\n",
            "3200\n",
            "3200\n",
            "3200\n",
            "3200\n",
            "3200\n",
            "3200\n",
            "3200\n",
            "3200\n",
            "3200\n",
            "3200\n",
            "3200\n",
            "3200\n",
            "3200\n",
            "3200\n",
            "3200\n",
            "3200\n",
            "3200\n",
            "3200\n",
            "3200\n",
            "3200\n",
            "3200\n",
            "3200\n",
            "3200\n",
            "3200\n",
            "3200\n",
            "3200\n",
            "3200\n",
            "3200\n",
            "3200\n",
            "3200\n",
            "3200\n",
            "3200\n",
            "3200\n",
            "3200\n",
            "3200\n",
            "3200\n",
            "3200\n",
            "3200\n",
            "3200\n",
            "3200\n",
            "3200\n",
            "3200\n",
            "3200\n",
            "3200\n",
            "3200\n",
            "3200\n",
            "3200\n",
            "3200\n",
            "3200\n",
            "3200\n",
            "3200\n",
            "3200\n",
            "3200\n",
            "3200\n",
            "3200\n",
            "3200\n",
            "3200\n",
            "3200\n",
            "3200\n",
            "3200\n",
            "3200\n",
            "3200\n",
            "3200\n",
            "3200\n",
            "3200\n",
            "3200\n",
            "3200\n",
            "3200\n",
            "3200\n",
            "3200\n",
            "3200\n",
            "3200\n",
            "3200\n",
            "3200\n",
            "3200\n",
            "3200\n",
            "3200\n",
            "3200\n",
            "3200\n",
            "3200\n",
            "3200\n",
            "3200\n",
            "3200\n",
            "3200\n",
            "3200\n",
            "3200\n",
            "3200\n",
            "3200\n",
            "3200\n",
            "3200\n",
            "3200\n",
            "3200\n",
            "3200\n",
            "3200\n",
            "3200\n",
            "3200\n",
            "3200\n",
            "3200\n",
            "3200\n",
            "3200\n",
            "3200\n",
            "3200\n",
            "3200\n",
            "3200\n",
            "3200\n",
            "3200\n",
            "3200\n",
            "3200\n",
            "3200\n",
            "3200\n",
            "3200\n",
            "3200\n",
            "3200\n",
            "3200\n",
            "3200\n",
            "3200\n",
            "3200\n",
            "3200\n",
            "3200\n",
            "3200\n",
            "3200\n",
            "3200\n",
            "3200\n",
            "3200\n",
            "3200\n",
            "3200\n",
            "3200\n",
            "3200\n",
            "3200\n",
            "3200\n",
            "3200\n",
            "3200\n",
            "3200\n",
            "3200\n",
            "3200\n",
            "3200\n",
            "3200\n",
            "3200\n",
            "3200\n",
            "3200\n",
            "3200\n",
            "3200\n",
            "3200\n",
            "3200\n",
            "3200\n",
            "3200\n",
            "3200\n",
            "3200\n",
            "3200\n",
            "3200\n",
            "3200\n",
            "3200\n",
            "3200\n",
            "3200\n",
            "3200\n",
            "3200\n",
            "3200\n",
            "3200\n",
            "3200\n",
            "3200\n",
            "3200\n",
            "3200\n",
            "3200\n",
            "3200\n",
            "3200\n",
            "3200\n",
            "3200\n",
            "3200\n",
            "3200\n",
            "3200\n",
            "3200\n",
            "3200\n",
            "3200\n",
            "3200\n",
            "3200\n",
            "3200\n",
            "3200\n",
            "3200\n",
            "3200\n",
            "3200\n",
            "3200\n",
            "3200\n",
            "3200\n",
            "3200\n",
            "3200\n",
            "3200\n",
            "3200\n",
            "3200\n",
            "3200\n",
            "3200\n",
            "3200\n",
            "3200\n",
            "3200\n",
            "3200\n",
            "3200\n",
            "3200\n",
            "3200\n",
            "3200\n",
            "3200\n",
            "3200\n",
            "3200\n",
            "3200\n",
            "3200\n",
            "3200\n",
            "3200\n",
            "3200\n",
            "3200\n",
            "3200\n",
            "3200\n",
            "3200\n",
            "3200\n",
            "3200\n",
            "3200\n",
            "3200\n",
            "3200\n",
            "3200\n",
            "3200\n",
            "3200\n",
            "3200\n",
            "3200\n",
            "3200\n",
            "3200\n",
            "3200\n",
            "3200\n",
            "3200\n",
            "3200\n",
            "3200\n",
            "3200\n",
            "3200\n",
            "3200\n",
            "3200\n",
            "3200\n",
            "3200\n",
            "3200\n",
            "3200\n",
            "3200\n",
            "3200\n",
            "3200\n",
            "3200\n",
            "3200\n",
            "3200\n",
            "3200\n",
            "3200\n",
            "3200\n",
            "3200\n",
            "3200\n",
            "3200\n",
            "3200\n",
            "3200\n",
            "3200\n",
            "3200\n",
            "3200\n",
            "3200\n",
            "3200\n",
            "3200\n",
            "3200\n",
            "3200\n",
            "3200\n",
            "3200\n",
            "3200\n",
            "3200\n",
            "3200\n",
            "3200\n",
            "3200\n",
            "3200\n",
            "3200\n",
            "3200\n",
            "3200\n",
            "3200\n",
            "3200\n",
            "3200\n",
            "3200\n",
            "3200\n",
            "3200\n",
            "3200\n",
            "3200\n",
            "3200\n",
            "3200\n",
            "3200\n",
            "3200\n",
            "3200\n",
            "3200\n",
            "3200\n",
            "3200\n",
            "3200\n",
            "3200\n",
            "3200\n",
            "3200\n",
            "3200\n",
            "3200\n",
            "3200\n",
            "3200\n",
            "3200\n",
            "3200\n",
            "3200\n",
            "3200\n",
            "3200\n",
            "3200\n",
            "3200\n",
            "3200\n",
            "3200\n",
            "3200\n",
            "3200\n",
            "3200\n",
            "3200\n",
            "3200\n",
            "3200\n",
            "3200\n",
            "3200\n",
            "3200\n",
            "3200\n",
            "3200\n",
            "3200\n",
            "3200\n",
            "3200\n",
            "3200\n",
            "3200\n",
            "3200\n",
            "3200\n",
            "3200\n",
            "3200\n",
            "3200\n",
            "3200\n",
            "3200\n",
            "3200\n",
            "3200\n",
            "3200\n",
            "3200\n",
            "3200\n",
            "3200\n",
            "3200\n",
            "3200\n",
            "3200\n",
            "3200\n",
            "3200\n",
            "3200\n",
            "3200\n",
            "3200\n",
            "3200\n",
            "3200\n",
            "3200\n",
            "3200\n",
            "3200\n",
            "3200\n",
            "3200\n",
            "3200\n",
            "3200\n",
            "3200\n",
            "3200\n",
            "3200\n",
            "3200\n",
            "3200\n",
            "3200\n",
            "3200\n",
            "3200\n",
            "3200\n",
            "3200\n",
            "3200\n",
            "3200\n",
            "3200\n",
            "3200\n",
            "3200\n",
            "3200\n",
            "3200\n",
            "3200\n",
            "3200\n",
            "3200\n",
            "3200\n",
            "3200\n",
            "3200\n",
            "3200\n",
            "3200\n",
            "3200\n",
            "3200\n",
            "3200\n",
            "3200\n",
            "3200\n",
            "3200\n",
            "3200\n",
            "3200\n",
            "3200\n",
            "3200\n",
            "3200\n",
            "3200\n",
            "3200\n",
            "3200\n",
            "3200\n",
            "3200\n",
            "3200\n",
            "3200\n",
            "3200\n",
            "3200\n",
            "3200\n",
            "3200\n",
            "3200\n",
            "3200\n",
            "3200\n",
            "3200\n",
            "3200\n",
            "3200\n",
            "3200\n",
            "3200\n",
            "3200\n",
            "3200\n",
            "3200\n",
            "3200\n",
            "3200\n",
            "3200\n",
            "3200\n",
            "3200\n",
            "3200\n",
            "3200\n",
            "3200\n",
            "3200\n",
            "3200\n",
            "3200\n",
            "3200\n",
            "3200\n",
            "3200\n",
            "3200\n",
            "3200\n",
            "3200\n",
            "3200\n",
            "3200\n",
            "3200\n",
            "3200\n",
            "3200\n",
            "3200\n",
            "3200\n",
            "3200\n",
            "3200\n",
            "3200\n",
            "3200\n",
            "3200\n",
            "3200\n",
            "3200\n",
            "3200\n",
            "3200\n",
            "3200\n",
            "3200\n",
            "3200\n",
            "3200\n",
            "3200\n",
            "3200\n",
            "3200\n",
            "3200\n",
            "3200\n",
            "3200\n",
            "3200\n",
            "3200\n",
            "3200\n",
            "3200\n",
            "3200\n",
            "3200\n",
            "3200\n",
            "3200\n",
            "3200\n",
            "3200\n",
            "3200\n",
            "3200\n",
            "3200\n",
            "3200\n",
            "3200\n",
            "3200\n",
            "3200\n",
            "3200\n",
            "3200\n",
            "3200\n",
            "3200\n",
            "3200\n",
            "3200\n",
            "3200\n",
            "3200\n",
            "3200\n",
            "3200\n",
            "3200\n",
            "3200\n",
            "3200\n",
            "3200\n",
            "3200\n",
            "3200\n",
            "3200\n",
            "3200\n",
            "3200\n",
            "3200\n",
            "3200\n",
            "3200\n",
            "3200\n",
            "3200\n",
            "3200\n",
            "3200\n",
            "3200\n",
            "3200\n",
            "3200\n",
            "3200\n",
            "3200\n",
            "3200\n",
            "3200\n",
            "3200\n",
            "3200\n",
            "3200\n",
            "3200\n",
            "3200\n",
            "3200\n",
            "3200\n",
            "3200\n",
            "3200\n",
            "3200\n",
            "3200\n",
            "3200\n",
            "3200\n",
            "3200\n",
            "3200\n",
            "3200\n",
            "3200\n",
            "3200\n",
            "3200\n",
            "3200\n",
            "3200\n",
            "3200\n",
            "3200\n",
            "3200\n",
            "3200\n",
            "3200\n",
            "3200\n",
            "3200\n",
            "3200\n",
            "3200\n",
            "3200\n",
            "3200\n",
            "3200\n",
            "3200\n",
            "3200\n",
            "3200\n",
            "3200\n",
            "3200\n",
            "3200\n",
            "3200\n",
            "3200\n",
            "3200\n",
            "3200\n",
            "3200\n",
            "3200\n",
            "3200\n",
            "3200\n",
            "3200\n",
            "3200\n",
            "3200\n",
            "3200\n",
            "3200\n",
            "3200\n",
            "3200\n",
            "3200\n",
            "3200\n",
            "3200\n",
            "3200\n",
            "3200\n",
            "3200\n",
            "3200\n",
            "3200\n",
            "3200\n",
            "3200\n",
            "3200\n",
            "3200\n",
            "3200\n",
            "3200\n",
            "3200\n",
            "3200\n",
            "3200\n",
            "3200\n",
            "3200\n",
            "3200\n",
            "3200\n",
            "3200\n",
            "3200\n",
            "3200\n",
            "3200\n",
            "3200\n",
            "3200\n",
            "3200\n",
            "3200\n",
            "3200\n",
            "3200\n",
            "3200\n",
            "3200\n",
            "3200\n",
            "3200\n",
            "3200\n",
            "3200\n",
            "3200\n",
            "3200\n",
            "3200\n",
            "3200\n",
            "3200\n",
            "3200\n",
            "3200\n",
            "3200\n",
            "3200\n",
            "3200\n",
            "3200\n",
            "3200\n",
            "3200\n",
            "3200\n",
            "3200\n",
            "3200\n",
            "3200\n",
            "3200\n",
            "3200\n",
            "3200\n",
            "3200\n",
            "3200\n",
            "3200\n",
            "3200\n",
            "3200\n",
            "3200\n",
            "3200\n",
            "3200\n",
            "3200\n",
            "3200\n",
            "3200\n",
            "3200\n",
            "3200\n",
            "3200\n",
            "3200\n",
            "3200\n",
            "3200\n",
            "3200\n",
            "3200\n",
            "3200\n",
            "3200\n",
            "3200\n",
            "3200\n",
            "3200\n",
            "3200\n",
            "3200\n",
            "3200\n",
            "3200\n",
            "3200\n",
            "3200\n",
            "3200\n",
            "3200\n",
            "3200\n",
            "3200\n",
            "3200\n",
            "3200\n",
            "3200\n",
            "3200\n",
            "3200\n",
            "3200\n",
            "3200\n",
            "3200\n",
            "3200\n",
            "3200\n",
            "3200\n",
            "3200\n",
            "3200\n",
            "3200\n",
            "3200\n",
            "3200\n",
            "3200\n",
            "3200\n",
            "3200\n",
            "3200\n",
            "3200\n",
            "3200\n",
            "3200\n",
            "3200\n",
            "3200\n",
            "384 µs ± 40.7 µs per loop (mean ± std. dev. of 7 runs, 1000 loops each)\n"
          ]
        }
      ],
      "source": [
        "%timeit print(np.dot(l1,l2))\n"
      ]
    },
    {
      "cell_type": "markdown",
      "metadata": {
        "id": "xT45pl-RYuk_"
      },
      "source": [
        "Lets mulptiply l3 and l4\n",
        "\n",
        "Note: use %timeit as prefix before your line of code inorder to calculate total time taken to run that line"
      ]
    },
    {
      "cell_type": "code",
      "execution_count": null,
      "metadata": {
        "colab": {
          "base_uri": "https://localhost:8080/"
        },
        "id": "PU6Cvc6hvvga",
        "outputId": "195c2548-b3ac-4c23-8965-6cbb98ab33ef"
      },
      "outputs": [
        {
          "name": "stdout",
          "output_type": "stream",
          "text": [
            "1.49 µs ± 393 ns per loop (mean ± std. dev. of 7 runs, 1000000 loops each)\n",
            "[[3200]]\n"
          ]
        }
      ],
      "source": [
        "%timeit np.dot(l3, l4.T)\n",
        "print(np.dot(l3,l4.reshape(3,1)) )#reshape l4"
      ]
    },
    {
      "cell_type": "markdown",
      "metadata": {
        "id": "CJrqooYWYuk_"
      },
      "source": [
        "Don't worry if still your one line of code is running. Its because your system is calculating total time taken to run your code.\n",
        "\n",
        "Did you notice buddy! time taken to multiply two lists takes more time than multiplyimg two numpy array.\n",
        "Hence proved that numpy arrays are faster than lists.\n",
        "\n",
        "**Fun Fact time!:**\n",
        "\n",
        "You know in many data science interviews it is asked that what is the difference between list and array.<br>\n",
        "### The answer is: **`Watch Video 2: List Vs Numpy`**\n"
      ]
    },
    {
      "cell_type": "markdown",
      "metadata": {
        "id": "7ANGM0NaYuk_"
      },
      "source": [
        "so in numpy arrays I can do everything without even writing a loop? yes... ohh wao"
      ]
    },
    {
      "cell_type": "markdown",
      "metadata": {
        "id": "tmLk0UDSYuk_"
      },
      "source": [
        "### Creating Numpy array\n",
        "\n",
        "There are multiple ways to create numpy array. Lets walk over them\n",
        "\n",
        "1. Using arrange() function <br>\n",
        "Refer: https://numpy.org/doc/stable/reference/generated/numpy.arange.html"
      ]
    },
    {
      "cell_type": "code",
      "execution_count": null,
      "metadata": {
        "colab": {
          "base_uri": "https://localhost:8080/"
        },
        "id": "BnwTOtdDYulA",
        "outputId": "decbf58b-8265-471a-c7dc-fa0e8e7d99b3"
      },
      "outputs": [
        {
          "data": {
            "text/plain": [
              "array([ 1,  2,  3,  4,  5,  6,  7,  8,  9, 10])"
            ]
          },
          "execution_count": 29,
          "metadata": {},
          "output_type": "execute_result"
        }
      ],
      "source": [
        "#Create a numpy array using arange with 1 and 11 as parameter in it\n",
        "np.arange(1,11)\n"
      ]
    },
    {
      "cell_type": "markdown",
      "metadata": {
        "id": "QiuRfP4OYulA"
      },
      "source": [
        "This means using arrange we get evenly spaced values within a given interval. Interval? Yes you can mention interval as well as third parameter in it."
      ]
    },
    {
      "cell_type": "code",
      "execution_count": null,
      "metadata": {
        "colab": {
          "base_uri": "https://localhost:8080/"
        },
        "id": "TDdTXBZcYulA",
        "outputId": "5d23eba3-8ba8-4f8a-f81f-67f818e55397"
      },
      "outputs": [
        {
          "data": {
            "text/plain": [
              "array([1, 3, 5, 7, 9])"
            ]
          },
          "execution_count": 30,
          "metadata": {},
          "output_type": "execute_result"
        }
      ],
      "source": [
        "# Create an array using arange passing 1,11 and 2 as parameter in iter\n",
        "np.arange(1,11,2)"
      ]
    },
    {
      "cell_type": "markdown",
      "metadata": {
        "id": "CrR5M5_3YulA"
      },
      "source": [
        "Did you see? you got all odd numbers as you had mentioned interval between 1 and 10. Also note that 11 is excluded and hence arrange function counted till 10\n",
        "\n",
        "2. Using eye Function <br>\n",
        "Refer: https://numpy.org/devdocs/reference/generated/numpy.eye.html"
      ]
    },
    {
      "cell_type": "code",
      "execution_count": null,
      "metadata": {
        "colab": {
          "base_uri": "https://localhost:8080/"
        },
        "id": "IFYEePpeYulA",
        "outputId": "0fe24bd6-16ec-4fe3-a15b-6466a63beff5"
      },
      "outputs": [
        {
          "data": {
            "text/plain": [
              "array([[1., 0., 0.],\n",
              "       [0., 1., 0.],\n",
              "       [0., 0., 1.]])"
            ]
          },
          "execution_count": 31,
          "metadata": {},
          "output_type": "execute_result"
        }
      ],
      "source": [
        "# create numpy array using eye function with 3 as passed parameter\n",
        "np.eye(3)\n",
        "\n",
        "\n"
      ]
    },
    {
      "cell_type": "markdown",
      "metadata": {
        "id": "wq8pa7MFYulA"
      },
      "source": [
        "Wohoo! eye return a 2-D array with ones on the diagonal and zeros elsewhere.\n",
        "\n",
        "3. Using zero function<br>\n",
        "Refer: https://numpy.org/doc/stable/reference/generated/numpy.zeros.html"
      ]
    },
    {
      "cell_type": "code",
      "execution_count": null,
      "metadata": {
        "colab": {
          "base_uri": "https://localhost:8080/"
        },
        "id": "PMINZ5kSYulB",
        "outputId": "fbe2f5b6-2ba4-497d-9df4-326110bfe87c"
      },
      "outputs": [
        {
          "data": {
            "text/plain": [
              "array([[0., 0.],\n",
              "       [0., 0.],\n",
              "       [0., 0.]])"
            ]
          },
          "execution_count": 32,
          "metadata": {},
          "output_type": "execute_result"
        }
      ],
      "source": [
        "#create a numpy array using zero function with (3,2) as passed parameter\n",
        "np.zeros((3,2))\n",
        "\n",
        "\n"
      ]
    },
    {
      "cell_type": "markdown",
      "metadata": {
        "id": "yZpGcv4JYulB"
      },
      "source": [
        "Zero function returns a new array of given shape and type, filled with zeros.\n",
        "\n",
        "4. Using ones Function <br>\n",
        "Refer: https://numpy.org/doc/stable/reference/generated/numpy.ones.html"
      ]
    },
    {
      "cell_type": "code",
      "execution_count": null,
      "metadata": {
        "colab": {
          "base_uri": "https://localhost:8080/"
        },
        "id": "lC7wHtySYulB",
        "outputId": "b1c5e73c-9d2c-4894-d80d-b10323e9ecf9"
      },
      "outputs": [
        {
          "data": {
            "text/plain": [
              "array([[1., 1.],\n",
              "       [1., 1.],\n",
              "       [1., 1.]])"
            ]
          },
          "execution_count": 33,
          "metadata": {},
          "output_type": "execute_result"
        }
      ],
      "source": [
        "#create a numpy array using ones function with (3,2) as passed parameter\n",
        "np.ones((3,2))\n",
        "\n",
        "\n"
      ]
    },
    {
      "cell_type": "markdown",
      "metadata": {
        "id": "LpZnp5Y-YulB"
      },
      "source": [
        "You noticed! ones function returns a new array of given shape and type, filled with ones.\n",
        "\n",
        "5. Using full Function<br>\n",
        "Refer: https://numpy.org/doc/stable/reference/generated/numpy.full.html"
      ]
    },
    {
      "cell_type": "code",
      "execution_count": null,
      "metadata": {
        "colab": {
          "base_uri": "https://localhost:8080/"
        },
        "id": "pyjhQr6lYulB",
        "outputId": "1c268e2b-c16e-462a-b48f-2cb590f2041b"
      },
      "outputs": [
        {
          "data": {
            "text/plain": [
              "array([[2, 2],\n",
              "       [2, 2],\n",
              "       [2, 2]])"
            ]
          },
          "execution_count": 34,
          "metadata": {},
          "output_type": "execute_result"
        }
      ],
      "source": [
        "#create a numpy array using full function with (3,2) and 2 as passed parameter\n",
        "np.full((3,2),2)\n",
        "\n",
        "\n",
        "\n"
      ]
    },
    {
      "cell_type": "markdown",
      "metadata": {
        "id": "UMa7IWdXYulB"
      },
      "source": [
        "Yeah! full function return a new array of given shape and type, filled with fill_value, here it is 2\n",
        "\n",
        "6. Using diag function<br>\n",
        "Refer: https://numpy.org/doc/stable/reference/generated/numpy.diag.html"
      ]
    },
    {
      "cell_type": "code",
      "execution_count": null,
      "metadata": {
        "colab": {
          "base_uri": "https://localhost:8080/"
        },
        "id": "rL49TQxvYulB",
        "outputId": "fd858149-daae-4972-d483-ccb077665ff6"
      },
      "outputs": [
        {
          "data": {
            "text/plain": [
              "array([[1, 0, 0, 0, 0],\n",
              "       [0, 2, 0, 0, 0],\n",
              "       [0, 0, 3, 0, 0],\n",
              "       [0, 0, 0, 4, 0],\n",
              "       [0, 0, 0, 0, 5]])"
            ]
          },
          "execution_count": 35,
          "metadata": {},
          "output_type": "execute_result"
        }
      ],
      "source": [
        "#create a numpy array using diag function passing a list [1,2,3,4,5]\n",
        "np.diag([1,2,3,4,5])\n",
        "\n",
        "\n",
        "\n"
      ]
    },
    {
      "cell_type": "markdown",
      "metadata": {
        "id": "0PmYFmtYYulC"
      },
      "source": [
        "Oh yeah! diag function extract a diagonal or construct a diagonal array.\n",
        "\n",
        " 7. Using tile function<br>\n",
        "    Refer: https://numpy.org/doc/stable/reference/generated/numpy.tile.html"
      ]
    },
    {
      "cell_type": "code",
      "execution_count": null,
      "metadata": {
        "colab": {
          "base_uri": "https://localhost:8080/"
        },
        "id": "QuYuqowmYulC",
        "outputId": "29ee1653-ba4f-45db-8d5c-aa482f49c23e"
      },
      "outputs": [
        {
          "data": {
            "text/plain": [
              "array([[1, 2, 3],\n",
              "       [1, 2, 3],\n",
              "       [1, 2, 3]])"
            ]
          },
          "execution_count": 36,
          "metadata": {},
          "output_type": "execute_result"
        }
      ],
      "source": [
        "# Create a numpy array v with [1,2,3] as its elements\n",
        "v = np.array([1,2,3])\n",
        "\n",
        "\n",
        "#Use tile function of numpy and pass v and (3,1) as its parametrs\n",
        "np.tile(v,(3,1))\n",
        "\n",
        "\n"
      ]
    },
    {
      "cell_type": "markdown",
      "metadata": {
        "id": "4sp6NFLTYulC"
      },
      "source": [
        "Returns an array by repeating an input array the number of times given by mentioned shape.\n",
        "Here you can see that you stacked 3 copies of v on top of each other\n",
        "\n",
        "8. Using linspace Function<br>\n",
        "Refer: https://numpy.org/doc/stable/reference/generated/numpy.linspace.html"
      ]
    },
    {
      "cell_type": "code",
      "execution_count": null,
      "metadata": {
        "colab": {
          "base_uri": "https://localhost:8080/"
        },
        "id": "gcv8tcEEYulC",
        "outputId": "194ce20d-6b03-46d3-d26f-1ca03fa0ca36"
      },
      "outputs": [
        {
          "data": {
            "text/plain": [
              "array([ 1.        ,  1.49494949,  1.98989899,  2.48484848,  2.97979798,\n",
              "        3.47474747,  3.96969697,  4.46464646,  4.95959596,  5.45454545,\n",
              "        5.94949495,  6.44444444,  6.93939394,  7.43434343,  7.92929293,\n",
              "        8.42424242,  8.91919192,  9.41414141,  9.90909091, 10.4040404 ,\n",
              "       10.8989899 , 11.39393939, 11.88888889, 12.38383838, 12.87878788,\n",
              "       13.37373737, 13.86868687, 14.36363636, 14.85858586, 15.35353535,\n",
              "       15.84848485, 16.34343434, 16.83838384, 17.33333333, 17.82828283,\n",
              "       18.32323232, 18.81818182, 19.31313131, 19.80808081, 20.3030303 ,\n",
              "       20.7979798 , 21.29292929, 21.78787879, 22.28282828, 22.77777778,\n",
              "       23.27272727, 23.76767677, 24.26262626, 24.75757576, 25.25252525,\n",
              "       25.74747475, 26.24242424, 26.73737374, 27.23232323, 27.72727273,\n",
              "       28.22222222, 28.71717172, 29.21212121, 29.70707071, 30.2020202 ,\n",
              "       30.6969697 , 31.19191919, 31.68686869, 32.18181818, 32.67676768,\n",
              "       33.17171717, 33.66666667, 34.16161616, 34.65656566, 35.15151515,\n",
              "       35.64646465, 36.14141414, 36.63636364, 37.13131313, 37.62626263,\n",
              "       38.12121212, 38.61616162, 39.11111111, 39.60606061, 40.1010101 ,\n",
              "       40.5959596 , 41.09090909, 41.58585859, 42.08080808, 42.57575758,\n",
              "       43.07070707, 43.56565657, 44.06060606, 44.55555556, 45.05050505,\n",
              "       45.54545455, 46.04040404, 46.53535354, 47.03030303, 47.52525253,\n",
              "       48.02020202, 48.51515152, 49.01010101, 49.50505051, 50.        ])"
            ]
          },
          "execution_count": 37,
          "metadata": {},
          "output_type": "execute_result"
        }
      ],
      "source": [
        "# Create an array with 100 values between 1 and 50 using linspace\n",
        "np.linspace(1,50,100)\n",
        "\n",
        "\n"
      ]
    },
    {
      "cell_type": "markdown",
      "metadata": {
        "id": "zLCrrhK2YulC"
      },
      "source": [
        "Wao! linspace returns evenly spaced numbers over a specified interval.\n",
        "\n",
        "Hey but you saw some similar defination for arrange function\n",
        "\n",
        "The main difference both of them is that arange return values with in a range which has a space between values (in other words the step) and linspace returns set of samples with in a given interval.\n",
        "\n",
        "## Numpy Random numbers\n",
        "\n",
        "\n",
        "Fun Fact:\n",
        "\n",
        "You can create a numpy array with random numbers also. How? Uisng random function<br>\n",
        "Lets see how\n",
        "Refer: https://numpy.org/doc/stable/reference/random/generated/numpy.random.rand.html"
      ]
    },
    {
      "cell_type": "code",
      "execution_count": null,
      "metadata": {
        "id": "a3Dn3SUbYulC",
        "colab": {
          "base_uri": "https://localhost:8080/"
        },
        "outputId": "0d1c0175-316b-43ba-890e-94a57da3f120"
      },
      "outputs": [
        {
          "output_type": "stream",
          "name": "stdout",
          "text": [
            "[[1 7]\n",
            " [6 1]]\n"
          ]
        }
      ],
      "source": [
        "# Generate one random number between 0 and 1 using numpy's random.rand() function.\n",
        "import numpy as np\n",
        "l=np.random.randint(0,11,size=(2,2))\n",
        "print(l)\n",
        "\n"
      ]
    },
    {
      "cell_type": "code",
      "execution_count": null,
      "metadata": {
        "id": "8mvfqpIQYulC",
        "outputId": "68059367-caf3-4a78-d36c-03e1baa7ac39",
        "colab": {
          "base_uri": "https://localhost:8080/"
        }
      },
      "outputs": [
        {
          "output_type": "stream",
          "name": "stdout",
          "text": [
            "[[ 4  4]\n",
            " [ 8 10]]\n"
          ]
        }
      ],
      "source": [
        "import numpy as np\n",
        "l=np.random.randint(0.8,11.4,size=(2,2))\n",
        "print(l)\n",
        "\n"
      ]
    },
    {
      "cell_type": "markdown",
      "metadata": {
        "id": "Oum8rSKWYulD"
      },
      "source": [
        "Run the above cell again and check if number changes.\n",
        "\n",
        "Yeah it changes. That's so random :)"
      ]
    },
    {
      "cell_type": "code",
      "execution_count": null,
      "metadata": {
        "id": "f1Go-2JMYulD",
        "outputId": "ee393d28-197d-4c77-e033-9e5843ad034b",
        "colab": {
          "base_uri": "https://localhost:8080/"
        }
      },
      "outputs": [
        {
          "output_type": "stream",
          "name": "stdout",
          "text": [
            "18\n"
          ]
        }
      ],
      "source": [
        "# so let say I want a random value between 2 and 50\n",
        "s=np.random.randint(2,50)\n",
        "print(s)\n"
      ]
    },
    {
      "cell_type": "markdown",
      "metadata": {
        "id": "PBN2TFr_YulD"
      },
      "source": [
        "Run the above cell again and check if number changes and its between 2 to 50.\n",
        "\n",
        "Now lets create an array with random numbers 0 to 1 of shape 3X3"
      ]
    },
    {
      "cell_type": "code",
      "execution_count": null,
      "metadata": {
        "id": "rPRFdcKuYulD",
        "outputId": "69651b7a-200a-4a2a-b30b-c45a7d0e6629",
        "colab": {
          "base_uri": "https://localhost:8080/"
        }
      },
      "outputs": [
        {
          "output_type": "execute_result",
          "data": {
            "text/plain": [
              "array([[0, 0, 0],\n",
              "       [0, 0, 0],\n",
              "       [0, 0, 0]])"
            ]
          },
          "metadata": {},
          "execution_count": 24
        }
      ],
      "source": [
        "#get an array as stated above\n",
        "np.random.randint(0,1,size=(3,3))\n",
        "\n",
        "\n"
      ]
    },
    {
      "cell_type": "markdown",
      "metadata": {
        "id": "YrY0GegxYulD"
      },
      "source": [
        "Smile! you got it how to create a numpy array with random numbers.\n",
        "\n",
        "## Numpy Reshape\n",
        "\n",
        "### Reference: **`Video 3: Numpy Array Reshaping`**\n",
        "\n",
        "reference doc: https://numpy.org/doc/stable/reference/generated/numpy.reshape.html\n",
        "\n",
        "Reshaping means changing the shape of an array.\n",
        "The shape of an array is the number of elements in each dimension.\n",
        "By reshaping we can add or remove dimensions or change number of elements in each dimension."
      ]
    },
    {
      "cell_type": "code",
      "execution_count": null,
      "metadata": {
        "id": "rXpUyqTYYulD",
        "colab": {
          "base_uri": "https://localhost:8080/"
        },
        "outputId": "fa958a3a-bef2-409f-fc22-f51894e07398"
      },
      "outputs": [
        {
          "output_type": "stream",
          "name": "stdout",
          "text": [
            "[ 1  2  3  4  5  6  7  8  9 10 11 12 13 14 15 16]\n"
          ]
        }
      ],
      "source": [
        "import numpy as np\n",
        "# Using arange() to generate numpy array x with numbers between 1 to 16\n",
        "x=np.arange(1,17)\n",
        "print(x)\n"
      ]
    },
    {
      "cell_type": "markdown",
      "metadata": {
        "id": "1oCbGuYkYulD"
      },
      "source": [
        "So here x is our 1-D array along with being sweet sixteen array ;). Lets reshape our x into 2-D and 3-D array using Reshape\n",
        "\n",
        "1. Reshaping 1-D to 2-D"
      ]
    },
    {
      "cell_type": "code",
      "execution_count": null,
      "metadata": {
        "id": "JkQG8RyFYulE",
        "outputId": "38116ba0-242e-4d78-c8db-95362572e1b9",
        "colab": {
          "base_uri": "https://localhost:8080/"
        }
      },
      "outputs": [
        {
          "output_type": "stream",
          "name": "stdout",
          "text": [
            "[[ 0  1  2  3  4  5  6  7]\n",
            " [ 8  9 10 11 12 13 14 15]]\n"
          ]
        }
      ],
      "source": [
        "# Reshape x with 2 rows and 8 columns\n",
        "x=np.arange(16).reshape((2,8))\n",
        "print(x)\n"
      ]
    },
    {
      "cell_type": "markdown",
      "metadata": {
        "id": "Eu-DgBCRYulE"
      },
      "source": [
        "As you can see above that our x changed into 2D matrix\n",
        "\n",
        "2. Reshaping 1-D to 3-D array\n"
      ]
    },
    {
      "cell_type": "code",
      "execution_count": null,
      "metadata": {
        "id": "Ue760dxYYulE",
        "outputId": "1f9273ad-e047-46bc-890a-979308954dd1",
        "colab": {
          "base_uri": "https://localhost:8080/"
        }
      },
      "outputs": [
        {
          "output_type": "stream",
          "name": "stdout",
          "text": [
            "[[[ 0  1]\n",
            "  [ 2  3]\n",
            "  [ 4  5]\n",
            "  [ 6  7]]\n",
            "\n",
            " [[ 8  9]\n",
            "  [10 11]\n",
            "  [12 13]\n",
            "  [14 15]]]\n"
          ]
        }
      ],
      "source": [
        "# reshaoe x with dimension that will have 2 arrays that contains 4 arrays, each with 2 elements:\n",
        "import numpy as np\n",
        "x=np.arange(16).reshape((2,4,2))\n",
        "print(x)\n",
        "\n",
        "\n"
      ]
    },
    {
      "cell_type": "markdown",
      "metadata": {
        "id": "crO_YY_XYulE"
      },
      "source": [
        "**Fun Fact:**\n",
        "\n",
        "<u>Unknown Dimension</u>\n",
        "\n",
        "You are allowed to have one \"unknown\" dimension.Meaning that you do not have to specify an exact number for one of the dimensions in the reshape method.\n",
        "Pass -1 as the value, and NumPy will calculate this number for you. Awesome right?\n"
      ]
    },
    {
      "cell_type": "code",
      "execution_count": null,
      "metadata": {
        "id": "xlfI-eC2YulE",
        "outputId": "f380b572-7830-40b3-830f-6494ed84ef96",
        "colab": {
          "base_uri": "https://localhost:8080/"
        }
      },
      "outputs": [
        {
          "output_type": "stream",
          "name": "stdout",
          "text": [
            "[[ 0  1  2  3]\n",
            " [ 4  5  6  7]\n",
            " [ 8  9 10 11]\n",
            " [12 13 14 15]]\n"
          ]
        }
      ],
      "source": [
        "# Use unknown dimention to reshape x into 2-D numpy array with shape 4*4\n",
        "x=np.arange(16).reshape((4,-1))\n",
        "print(x)\n",
        "\n",
        "\n"
      ]
    },
    {
      "cell_type": "code",
      "execution_count": 14,
      "metadata": {
        "id": "NDRDRGkUYulE",
        "outputId": "4c9165db-9f32-4194-fb4f-7dee0bfd468a",
        "colab": {
          "base_uri": "https://localhost:8080/"
        }
      },
      "outputs": [
        {
          "output_type": "stream",
          "name": "stdout",
          "text": [
            "[[[ 0  1]\n",
            "  [ 2  3]\n",
            "  [ 4  5]\n",
            "  [ 6  7]]\n",
            "\n",
            " [[ 8  9]\n",
            "  [10 11]\n",
            "  [12 13]\n",
            "  [14 15]]]\n"
          ]
        }
      ],
      "source": [
        "# Use unknown dimention to  reshape x into 3-D numpy array with 2 arrays that contains 4 arrays\n",
        "y=np.arange(16).reshape((2,4,-1))\n",
        "print(y)\n",
        "\n",
        "\n",
        "# print y\n",
        "\n"
      ]
    },
    {
      "cell_type": "markdown",
      "metadata": {
        "id": "bZjzi4A0YulE"
      },
      "source": [
        "Note: We can not pass -1 to more than one dimension.\n",
        "\n",
        "Another cool Fact: -1 can be used to flatten an array which means converting a multidimensional array into a 1D array.\n",
        "\n",
        "    Lets apply this technique on y which is 3-D array"
      ]
    },
    {
      "cell_type": "code",
      "execution_count": 15,
      "metadata": {
        "id": "iHuEimtTYulF",
        "outputId": "4bc37a22-98e9-4b13-b2e2-4b179fe70d91",
        "colab": {
          "base_uri": "https://localhost:8080/"
        }
      },
      "outputs": [
        {
          "output_type": "execute_result",
          "data": {
            "text/plain": [
              "array([ 0,  1,  2,  3,  4,  5,  6,  7,  8,  9, 10, 11, 12, 13, 14, 15])"
            ]
          },
          "metadata": {},
          "execution_count": 15
        }
      ],
      "source": [
        "# Flattening y\n",
        "y.reshape(-1)\n",
        "\n",
        "\n"
      ]
    },
    {
      "cell_type": "markdown",
      "metadata": {
        "id": "ZdXFadQfYulF"
      },
      "source": [
        "Awesome work!\n",
        "\n",
        "## NumPy Array Indexing\n",
        "\n",
        "### Reference: **`Video 4: Numpy Array Indexing`**\n",
        "\n",
        "Array indexing is the same as accessing an array element. You can access an array element by referring to its index number.\n",
        "\n",
        "The indexes in NumPy arrays start with 0, meaning that the first element has index 0, and the second has index 1 etc."
      ]
    },
    {
      "cell_type": "code",
      "execution_count": 4,
      "metadata": {
        "id": "liRM5zN0YulF",
        "outputId": "2c6850af-b4a7-49b5-f43c-36df6fc54806",
        "colab": {
          "base_uri": "https://localhost:8080/"
        }
      },
      "outputs": [
        {
          "output_type": "stream",
          "name": "stdout",
          "text": [
            "[ 2  4  6  8 10 12 14 16]\n"
          ]
        }
      ],
      "source": [
        "# Create an array a with all even numbers between 1 to 17\n",
        "import numpy as np\n",
        "a = np.arange(2,17,2)\n",
        "\n",
        "print (a)\n"
      ]
    },
    {
      "cell_type": "code",
      "execution_count": 7,
      "metadata": {
        "id": "GysmjjOQYulF",
        "outputId": "c4465f28-6b80-4edb-c618-8708dc316883",
        "colab": {
          "base_uri": "https://localhost:8080/"
        }
      },
      "outputs": [
        {
          "output_type": "execute_result",
          "data": {
            "text/plain": [
              "6"
            ]
          },
          "metadata": {},
          "execution_count": 7
        }
      ],
      "source": [
        "# Get third element in array a\n",
        "a[2]"
      ]
    },
    {
      "cell_type": "code",
      "execution_count": 13,
      "metadata": {
        "id": "QJDw7E2VYulF",
        "outputId": "1fb59592-fce6-4b83-90b5-c5210b67cf1a",
        "colab": {
          "base_uri": "https://localhost:8080/"
        }
      },
      "outputs": [
        {
          "output_type": "stream",
          "name": "stdout",
          "text": [
            "6\n",
            "10\n",
            "14\n"
          ]
        }
      ],
      "source": [
        "#Print 3rd, 5th, and 7th element in array a\n",
        "print(a[2])\n",
        "print(a[4])\n",
        "print(a[6])\n",
        "\n",
        "\n"
      ]
    },
    {
      "cell_type": "markdown",
      "metadata": {
        "id": "6FauyJCQYulF"
      },
      "source": [
        "Lets check the same for 2 D array"
      ]
    },
    {
      "cell_type": "code",
      "execution_count": 16,
      "metadata": {
        "id": "yomRzY6aYulF",
        "colab": {
          "base_uri": "https://localhost:8080/"
        },
        "outputId": "c51475cb-5d58-44be-a91e-0c4ed8f346d5"
      },
      "outputs": [
        {
          "output_type": "stream",
          "name": "stdout",
          "text": [
            "[[1 2 3]\n",
            " [4 5 6]\n",
            " [7 8 9]]\n"
          ]
        }
      ],
      "source": [
        "# Define an array 2-D a with [[1,2,3],[4,5,6],[7,8,9]] as its elements.\n",
        "a = np.array([[1,2,3],[4,5,6],[7,8,9]])\n",
        "print(a)"
      ]
    },
    {
      "cell_type": "code",
      "execution_count": 21,
      "metadata": {
        "id": "VTGpLidrYulF",
        "outputId": "e2817e09-15bd-471b-8330-03eb56b78a3d",
        "colab": {
          "base_uri": "https://localhost:8080/"
        }
      },
      "outputs": [
        {
          "output_type": "execute_result",
          "data": {
            "text/plain": [
              "9"
            ]
          },
          "metadata": {},
          "execution_count": 21
        }
      ],
      "source": [
        "# print the 3rd element from the 3rd row of a\n",
        "a[2,2]\n"
      ]
    },
    {
      "cell_type": "markdown",
      "metadata": {
        "id": "-fPw_4ZBYulF"
      },
      "source": [
        "Well done!\n",
        "\n",
        "Now lets check indexing for 3 D array"
      ]
    },
    {
      "cell_type": "code",
      "execution_count": 23,
      "metadata": {
        "id": "VISPaw3PYulG",
        "colab": {
          "base_uri": "https://localhost:8080/"
        },
        "outputId": "a436c0de-bcc3-4bdc-d06c-c7707b20bbaa"
      },
      "outputs": [
        {
          "output_type": "stream",
          "name": "stdout",
          "text": [
            "[[[ 1  2  3]\n",
            "  [ 4  5  6]]\n",
            "\n",
            " [[ 7  8  9]\n",
            "  [10 11 12]]]\n"
          ]
        }
      ],
      "source": [
        "# Define an array b again with [[[1, 2, 3], [4, 5, 6]], [[7, 8, 9], [10, 11, 12]]] as its elements.\n",
        "b =np.array([[[1, 2, 3], [4, 5, 6]], [[7, 8, 9], [10, 11, 12]]])\n",
        "print(b)\n",
        "\n"
      ]
    },
    {
      "cell_type": "code",
      "execution_count": 24,
      "metadata": {
        "id": "UrFj656mYulG",
        "outputId": "78060ab4-3e32-4c55-b77d-0347e5c6e033",
        "colab": {
          "base_uri": "https://localhost:8080/"
        }
      },
      "outputs": [
        {
          "output_type": "execute_result",
          "data": {
            "text/plain": [
              "6"
            ]
          },
          "metadata": {},
          "execution_count": 24
        }
      ],
      "source": [
        "# Print 3rd element from 2nd list which is 1st list in nested list passed. Confusing right? 'a' have nested array.Understand the braket differences.\n",
        "a[1,2]\n",
        "\n"
      ]
    },
    {
      "cell_type": "markdown",
      "metadata": {
        "id": "2KH9uUABYulG"
      },
      "source": [
        "Well done.!\n",
        "\n",
        "Have you heared about **negative indexing?**\n",
        "\n",
        "\n",
        "We can use negative indexing to access an array from the end."
      ]
    },
    {
      "cell_type": "code",
      "execution_count": 26,
      "metadata": {
        "id": "a_5YgcInYulG",
        "outputId": "016d12ae-0c99-446e-cb8c-f5fa5db7ed3d",
        "colab": {
          "base_uri": "https://localhost:8080/"
        }
      },
      "outputs": [
        {
          "output_type": "execute_result",
          "data": {
            "text/plain": [
              "5"
            ]
          },
          "metadata": {},
          "execution_count": 26
        }
      ],
      "source": [
        "# Print the second last element from the 2nd dim using negative indexing\n",
        "a[-2,-2]\n"
      ]
    },
    {
      "cell_type": "markdown",
      "metadata": {
        "id": "vbmm4pVzYulG"
      },
      "source": [
        "Great job!\n",
        "So now you have learned how to to indexing on various dimentions of numpy array.\n",
        "\n",
        "## NumPy Array Slicing\n",
        "\n",
        "### Reference: **`Video 5: Numpy Slicing Operations`**\n",
        "\n",
        "Slicing in python means taking elements from one given index to another given index.\n",
        "\n",
        "    1. We pass slice instead of index like this: [start:end].\n",
        "    2. We can also define the step, like this: [start:end:step].\n",
        "    3. If we don't pass start its considered 0\n",
        "    4. If we don't pass end its considered length of array in that dimension\n",
        "    5. If we don't pass step its considered 1\n",
        "    \n",
        "1. **Array slicing in 1-D array.**"
      ]
    },
    {
      "cell_type": "code",
      "execution_count": 28,
      "metadata": {
        "id": "9ZadW42fYulG",
        "outputId": "7a144c59-026e-4b2e-a20d-e83a1bc502e3",
        "colab": {
          "base_uri": "https://localhost:8080/"
        }
      },
      "outputs": [
        {
          "output_type": "execute_result",
          "data": {
            "text/plain": [
              "array([ 1,  2,  3,  4,  5,  6,  7,  8,  9, 10])"
            ]
          },
          "metadata": {},
          "execution_count": 28
        }
      ],
      "source": [
        "arr=np.arange(1,11)\n",
        "arr\n",
        "\n"
      ]
    },
    {
      "cell_type": "code",
      "execution_count": 29,
      "metadata": {
        "id": "fm2dtL6EYulG",
        "outputId": "31d3c841-c9ff-4335-bced-cefa90e80889",
        "colab": {
          "base_uri": "https://localhost:8080/"
        }
      },
      "outputs": [
        {
          "output_type": "execute_result",
          "data": {
            "text/plain": [
              "array([1, 2, 3, 4, 5])"
            ]
          },
          "metadata": {},
          "execution_count": 29
        }
      ],
      "source": [
        "# Slice elements from 1st to 5th element from the following array:\n",
        "arr[0:5]\n",
        "\n"
      ]
    },
    {
      "cell_type": "markdown",
      "metadata": {
        "id": "ghqluYgMYulG"
      },
      "source": [
        "Note: The result includes the start index, but excludes the end index.\n",
        "\n"
      ]
    },
    {
      "cell_type": "code",
      "execution_count": 30,
      "metadata": {
        "id": "g4uVBo1oYulH",
        "outputId": "580741cc-32df-44b9-9218-49fcd79e4b3e",
        "colab": {
          "base_uri": "https://localhost:8080/"
        }
      },
      "outputs": [
        {
          "output_type": "execute_result",
          "data": {
            "text/plain": [
              "array([ 6,  7,  8,  9, 10])"
            ]
          },
          "metadata": {},
          "execution_count": 30
        }
      ],
      "source": [
        "# Slice elements from index 5 to the end of the array:\n",
        "arr[5:]\n",
        "\n",
        "\n"
      ]
    },
    {
      "cell_type": "code",
      "execution_count": 31,
      "metadata": {
        "id": "1t4V3OSaYulH",
        "outputId": "a8d25ff2-ae92-4ba3-978d-67d88b5dd5bd",
        "colab": {
          "base_uri": "https://localhost:8080/"
        }
      },
      "outputs": [
        {
          "output_type": "execute_result",
          "data": {
            "text/plain": [
              "array([1, 2, 3, 4, 5])"
            ]
          },
          "metadata": {},
          "execution_count": 31
        }
      ],
      "source": [
        "# Slice elements from the beginning to index 5 (not included):\n",
        "arr[:5]\n",
        "\n",
        "\n",
        "\n"
      ]
    },
    {
      "cell_type": "markdown",
      "metadata": {
        "id": "o8csRulLYulH"
      },
      "source": [
        "Have you heared about **Negative Slicing?**\n",
        "\n",
        "We can use the minus operator to refer to an index from the end:\n",
        "\n"
      ]
    },
    {
      "cell_type": "code",
      "execution_count": 32,
      "metadata": {
        "id": "p8rngJgxYulH",
        "outputId": "3649c508-9212-4ee3-f4af-5740ca301bb0",
        "colab": {
          "base_uri": "https://localhost:8080/"
        }
      },
      "outputs": [
        {
          "output_type": "execute_result",
          "data": {
            "text/plain": [
              "array([8, 9])"
            ]
          },
          "metadata": {},
          "execution_count": 32
        }
      ],
      "source": [
        "# Slice from the index 3 from the end to index 1 from the end:\n",
        "arr[-3:-1]\n"
      ]
    },
    {
      "cell_type": "markdown",
      "metadata": {
        "id": "_sk9yNamYulH"
      },
      "source": [
        "**STEP**\n",
        "\n",
        "Use the step value to determine the step of the slicing:"
      ]
    },
    {
      "cell_type": "code",
      "execution_count": 33,
      "metadata": {
        "id": "1OXANncfYulH",
        "outputId": "356b9329-61ff-4749-ac2a-1ab809deef29",
        "colab": {
          "base_uri": "https://localhost:8080/"
        }
      },
      "outputs": [
        {
          "output_type": "execute_result",
          "data": {
            "text/plain": [
              "array([2, 4, 6])"
            ]
          },
          "metadata": {},
          "execution_count": 33
        }
      ],
      "source": [
        "# Print every other element from index 1 to index 7:\n",
        "arr[1:7:2]\n"
      ]
    },
    {
      "cell_type": "markdown",
      "metadata": {
        "id": "mpk1-Nd2YulH"
      },
      "source": [
        "Did you see? using step you were able to get alternate elements within specified index numbers."
      ]
    },
    {
      "cell_type": "code",
      "execution_count": 36,
      "metadata": {
        "id": "HxPLcXudYulH",
        "outputId": "554d9d7a-89d5-4531-93bc-a8b8ab175524",
        "colab": {
          "base_uri": "https://localhost:8080/"
        }
      },
      "outputs": [
        {
          "output_type": "execute_result",
          "data": {
            "text/plain": [
              "array([1, 3, 5, 7, 9])"
            ]
          },
          "metadata": {},
          "execution_count": 36
        }
      ],
      "source": [
        "# Return every other element from the entire array arr:\n",
        "arr[::2]\n"
      ]
    },
    {
      "cell_type": "markdown",
      "metadata": {
        "id": "d3m3TAVKYulH"
      },
      "source": [
        "well done!\n",
        "\n",
        "Lets do some slicing on 2-D array also. We already have 'a' as our 2-D array. We will use it here.\n",
        "\n",
        "**2. Array slicing in 2-D array.**"
      ]
    },
    {
      "cell_type": "code",
      "execution_count": 37,
      "metadata": {
        "id": "rPVvZ707YulI",
        "outputId": "670c0819-d6d6-4d6c-a4c1-981059a57c3b",
        "colab": {
          "base_uri": "https://localhost:8080/"
        }
      },
      "outputs": [
        {
          "output_type": "stream",
          "name": "stdout",
          "text": [
            "[[1 2 3]\n",
            " [4 5 6]\n",
            " [7 8 9]]\n"
          ]
        }
      ],
      "source": [
        "# Print array a\n",
        "print(a)\n"
      ]
    },
    {
      "cell_type": "code",
      "execution_count": 43,
      "metadata": {
        "id": "uGHClMHiYulI",
        "outputId": "fb77cd58-c50c-4697-fd00-2b08dadb0f21",
        "colab": {
          "base_uri": "https://localhost:8080/"
        }
      },
      "outputs": [
        {
          "output_type": "execute_result",
          "data": {
            "text/plain": [
              "array([6, 9])"
            ]
          },
          "metadata": {},
          "execution_count": 43
        }
      ],
      "source": [
        "# From the third element, slice elements from index 1 to index 5 (not included) from array 'a'\n",
        "a[2,1:5]"
      ]
    },
    {
      "cell_type": "code",
      "execution_count": 44,
      "metadata": {
        "id": "mApmbts7YulI",
        "outputId": "736b94cf-6120-4343-e69a-ec05d9ef501a",
        "colab": {
          "base_uri": "https://localhost:8080/"
        }
      },
      "outputs": [
        {
          "output_type": "execute_result",
          "data": {
            "text/plain": [
              "array([3, 6, 9])"
            ]
          },
          "metadata": {},
          "execution_count": 44
        }
      ],
      "source": [
        "# In array 'a' print index 2 from all the elements :\n",
        "a[:,2]\n"
      ]
    },
    {
      "cell_type": "code",
      "execution_count": 47,
      "metadata": {
        "id": "XupmT4oLYulI",
        "outputId": "c7c27c37-a7b3-4d09-ccb2-8f31f6fe263d",
        "colab": {
          "base_uri": "https://localhost:8080/"
        }
      },
      "outputs": [
        {
          "output_type": "execute_result",
          "data": {
            "text/plain": [
              "array([[2, 3],\n",
              "       [5, 6],\n",
              "       [8, 9]])"
            ]
          },
          "metadata": {},
          "execution_count": 47
        }
      ],
      "source": [
        "# From all the elements in 'a', slice index 1 till end, this will return a 2-D array:\n",
        "a[:,1:]\n",
        "\n",
        "\n"
      ]
    },
    {
      "cell_type": "markdown",
      "metadata": {
        "id": "3-YDc-LnYulI"
      },
      "source": [
        "Hurray! You have learned Slicing in Numpy array. Now you know to access any numpy array."
      ]
    },
    {
      "cell_type": "markdown",
      "metadata": {
        "id": "kCiQoJ7DYulI"
      },
      "source": [
        "## Numpy copy vs view\n",
        "\n",
        "### Reference: **`Video 6: Numpy  View Vs Copy`**"
      ]
    },
    {
      "cell_type": "code",
      "execution_count": 54,
      "metadata": {
        "id": "qMAPlnpnYulI",
        "colab": {
          "base_uri": "https://localhost:8080/"
        },
        "outputId": "a93c536f-6271-452f-ef3a-2f979c3b6085"
      },
      "outputs": [
        {
          "output_type": "execute_result",
          "data": {
            "text/plain": [
              "array([1, 2, 3, 4, 5])"
            ]
          },
          "metadata": {},
          "execution_count": 54
        }
      ],
      "source": [
        "x1=np.arange(1,6)\n",
        "x1\n"
      ]
    },
    {
      "cell_type": "code",
      "execution_count": 55,
      "metadata": {
        "id": "Fjjpvmw4YulI",
        "colab": {
          "base_uri": "https://localhost:8080/"
        },
        "outputId": "a377bb74-0a75-4c34-da91-b1a85ccfffd4"
      },
      "outputs": [
        {
          "output_type": "execute_result",
          "data": {
            "text/plain": [
              "array([1, 2, 3, 4, 5])"
            ]
          },
          "metadata": {},
          "execution_count": 55
        }
      ],
      "source": [
        "# assign x2 = x1\n",
        "x2=x1\n",
        "x2\n",
        "\n"
      ]
    },
    {
      "cell_type": "code",
      "execution_count": 56,
      "metadata": {
        "id": "CZ8h9KxSYulI",
        "outputId": "012f440a-d6fd-46e3-d1b0-bd167eadc2a0",
        "colab": {
          "base_uri": "https://localhost:8080/"
        }
      },
      "outputs": [
        {
          "output_type": "stream",
          "name": "stdout",
          "text": [
            "[1 2 3 4 5]\n",
            "[1 2 3 4 5]\n"
          ]
        }
      ],
      "source": [
        "#print x1 and x2\n",
        "print(x1)\n",
        "print(x2)\n",
        "\n",
        "\n"
      ]
    },
    {
      "cell_type": "markdown",
      "metadata": {
        "id": "CAOn1lSVYulI"
      },
      "source": [
        "Ok now you have seen that both of them are same"
      ]
    },
    {
      "cell_type": "code",
      "execution_count": 57,
      "metadata": {
        "id": "H12TCKrSYulJ",
        "colab": {
          "base_uri": "https://localhost:8080/"
        },
        "outputId": "53a701db-cfa2-46b3-fa20-ae25b506b6be"
      },
      "outputs": [
        {
          "output_type": "execute_result",
          "data": {
            "text/plain": [
              "array([4, 2, 3, 4, 5])"
            ]
          },
          "metadata": {},
          "execution_count": 57
        }
      ],
      "source": [
        "# change 1st element of x2 as 10\n",
        "x2[0]=x2[3]\n",
        "x2\n",
        "\n",
        "\n"
      ]
    },
    {
      "cell_type": "code",
      "execution_count": 58,
      "metadata": {
        "id": "jO5qSqZVYulJ",
        "outputId": "e282a3ba-ccb4-4d40-f3e0-30e1f061e5ce",
        "colab": {
          "base_uri": "https://localhost:8080/"
        }
      },
      "outputs": [
        {
          "output_type": "stream",
          "name": "stdout",
          "text": [
            "[4 2 3 4 5]\n",
            "[4 2 3 4 5]\n"
          ]
        }
      ],
      "source": [
        "#Again print x1 and x2\n",
        "print(x1)\n",
        "print(x2)\n"
      ]
    },
    {
      "cell_type": "markdown",
      "metadata": {
        "id": "I6f78s_QYulJ"
      },
      "source": [
        "Wait a minute. Just check your above result on change of x2, x1 also got changed. Why?\n",
        "\n",
        "Lets check if both the variables shares memory. Use numpy shares_memory() function to check if both x1 and x2 shares a  memory.\n",
        "\n",
        "Refer: https://numpy.org/doc/stable/reference/generated/numpy.shares_memory.html"
      ]
    },
    {
      "cell_type": "code",
      "execution_count": 59,
      "metadata": {
        "id": "wruaMhObYulJ",
        "outputId": "4e30359a-dbdc-418b-d336-79fed021c03a",
        "colab": {
          "base_uri": "https://localhost:8080/"
        }
      },
      "outputs": [
        {
          "output_type": "execute_result",
          "data": {
            "text/plain": [
              "True"
            ]
          },
          "metadata": {},
          "execution_count": 59
        }
      ],
      "source": [
        "# Check memory share between x1 and x2\n",
        "np.shares_memory(x1,x2)\n"
      ]
    },
    {
      "cell_type": "markdown",
      "metadata": {
        "id": "8FfiAWw_YulJ"
      },
      "source": [
        "Hey It's True they both share memory\n",
        "\n",
        "Shall we try **view()** function also likwise."
      ]
    },
    {
      "cell_type": "code",
      "execution_count": 60,
      "metadata": {
        "id": "ylweEJUtYulJ",
        "colab": {
          "base_uri": "https://localhost:8080/"
        },
        "outputId": "0d3f1da4-3dec-4bc9-c101-76af546b4160"
      },
      "outputs": [
        {
          "output_type": "execute_result",
          "data": {
            "text/plain": [
              "array([4, 2, 3, 4, 5])"
            ]
          },
          "metadata": {},
          "execution_count": 60
        }
      ],
      "source": [
        "# Create a view of x1 and store it in x3.\n",
        "x3 = x1.view()\n",
        "x3\n"
      ]
    },
    {
      "cell_type": "code",
      "execution_count": 61,
      "metadata": {
        "id": "La-iF23VYulJ",
        "outputId": "31a9a1a7-2acc-4d94-8265-9e2c4652d8cc",
        "colab": {
          "base_uri": "https://localhost:8080/"
        }
      },
      "outputs": [
        {
          "output_type": "execute_result",
          "data": {
            "text/plain": [
              "True"
            ]
          },
          "metadata": {},
          "execution_count": 61
        }
      ],
      "source": [
        "# Again check memory share between x1 and x3\n",
        "np.shares_memory(x1,x3)\n"
      ]
    },
    {
      "cell_type": "markdown",
      "metadata": {
        "id": "vkE_1h-5YulJ"
      },
      "source": [
        "Woh! simple assignment is similar to view. That means\n",
        "The view does not own the data and any changes made to the view will affect the original array, and any changes made to the original array will affect the view.\n",
        "\n",
        "Don't agree? ok lets change x3 and see if original array i.e. x1 also changes"
      ]
    },
    {
      "cell_type": "code",
      "execution_count": 62,
      "metadata": {
        "id": "34UnXXvwYulJ",
        "colab": {
          "base_uri": "https://localhost:8080/"
        },
        "outputId": "5ecde5a6-d343-47ac-a803-91f240dd5e67"
      },
      "outputs": [
        {
          "output_type": "execute_result",
          "data": {
            "text/plain": [
              "array([100,   2,   3,   4,   5])"
            ]
          },
          "metadata": {},
          "execution_count": 62
        }
      ],
      "source": [
        "#Change 1st element of x3=100\n",
        "x3[0]=100\n",
        "x3\n",
        "\n"
      ]
    },
    {
      "cell_type": "code",
      "execution_count": 63,
      "metadata": {
        "id": "p64U7WsGYulJ",
        "outputId": "bd76ed1b-27ff-4640-ff20-eac2acf2e562",
        "colab": {
          "base_uri": "https://localhost:8080/"
        }
      },
      "outputs": [
        {
          "output_type": "stream",
          "name": "stdout",
          "text": [
            "[100   2   3   4   5]\n",
            "[100   2   3   4   5]\n"
          ]
        }
      ],
      "source": [
        "#print x1 and x3 to check if changes reflected in both\n",
        "print(x1)\n",
        "print(x3)\n"
      ]
    },
    {
      "cell_type": "markdown",
      "metadata": {
        "id": "aPgZUErOYulK"
      },
      "source": [
        "Now its proved.\n",
        "\n",
        "Lets see how **Copy()** function works"
      ]
    },
    {
      "cell_type": "code",
      "execution_count": 64,
      "metadata": {
        "id": "AB_dXmMrYulK",
        "colab": {
          "base_uri": "https://localhost:8080/"
        },
        "outputId": "e324b32e-af33-432e-e3b0-fbdf9346366b"
      },
      "outputs": [
        {
          "output_type": "execute_result",
          "data": {
            "text/plain": [
              "array([100,   2,   3,   4,   5])"
            ]
          },
          "metadata": {},
          "execution_count": 64
        }
      ],
      "source": [
        "# Now create an array x4 which is copy of x1\n",
        "x4=x1.copy()\n",
        "x4\n"
      ]
    },
    {
      "cell_type": "code",
      "execution_count": 65,
      "metadata": {
        "id": "8_Ub7cuZYulK",
        "colab": {
          "base_uri": "https://localhost:8080/"
        },
        "outputId": "c3c5d237-8c32-4919-ffe9-584f7eae8b5d"
      },
      "outputs": [
        {
          "output_type": "execute_result",
          "data": {
            "text/plain": [
              "array([100,   2,   3,   4, 900])"
            ]
          },
          "metadata": {},
          "execution_count": 65
        }
      ],
      "source": [
        "# Change the last element of x4 as 900\n",
        "x4[-1]=900\n",
        "x4\n",
        "\n"
      ]
    },
    {
      "cell_type": "code",
      "execution_count": 66,
      "metadata": {
        "id": "xEUDBraHYulK",
        "outputId": "487baf63-921b-4afa-a667-564eaa8ff1df",
        "colab": {
          "base_uri": "https://localhost:8080/"
        }
      },
      "outputs": [
        {
          "output_type": "stream",
          "name": "stdout",
          "text": [
            "[100   2   3   4   5]\n",
            "[100   2   3   4 900]\n"
          ]
        }
      ],
      "source": [
        "# print both x1 and x4 to check if changes reflected in both\n",
        "print(x1)\n",
        "print(x4)\n",
        "\n"
      ]
    },
    {
      "cell_type": "markdown",
      "metadata": {
        "id": "uMfFQMlNYulK"
      },
      "source": [
        "Hey! such an intresting output. You noticed buddy! your original array didn't get changed on change of its copy ie. x4.\n",
        "\n",
        "Still not convinced? Ok lets see if they both share memory or not"
      ]
    },
    {
      "cell_type": "code",
      "execution_count": 67,
      "metadata": {
        "id": "VZbJx19hYulK",
        "outputId": "d0703c00-315c-4e28-bb65-21a41a3f9255",
        "colab": {
          "base_uri": "https://localhost:8080/"
        }
      },
      "outputs": [
        {
          "output_type": "execute_result",
          "data": {
            "text/plain": [
              "False"
            ]
          },
          "metadata": {},
          "execution_count": 67
        }
      ],
      "source": [
        "#Check memory share between x1 and x4\n",
        "np.shares_memory(x1,x4)\n"
      ]
    },
    {
      "cell_type": "markdown",
      "metadata": {
        "id": "RJ3WXKIjYulK"
      },
      "source": [
        "You see! x1 and x4 don't share its memory.\n",
        "\n",
        "So with all our outputs we can takeaway few points:\n",
        "\n",
        "    1. The main difference between a copy and a view of an array is that the copy is a new array, and the view is just a view of the original array.\n",
        "\n",
        "    2. The copy owns the data and any changes made to the copy will not affect original array, and any changes made to the original array will not affect the copy.\n",
        "\n",
        "    3. The view does not own the data and any changes made to the view will affect the original array, and any changes made to the original array will affect the view."
      ]
    },
    {
      "cell_type": "markdown",
      "metadata": {
        "id": "ByEnSeiBYulL"
      },
      "source": [
        "## More operations on Numpy\n",
        "\n",
        "**1. Applying conditions**\n",
        "\n",
        "Reference: https://thispointer.com/python-numpy-select-elements-or-indices-by-conditions-from-numpy-array/"
      ]
    },
    {
      "cell_type": "code",
      "execution_count": 68,
      "metadata": {
        "id": "XQJuDfwNYulL",
        "outputId": "bb6878fd-b275-49f8-83b6-c5ed610ddd7e",
        "colab": {
          "base_uri": "https://localhost:8080/"
        }
      },
      "outputs": [
        {
          "output_type": "stream",
          "name": "stdout",
          "text": [
            "[[1 2 3]\n",
            " [4 5 6]\n",
            " [7 8 9]]\n"
          ]
        }
      ],
      "source": [
        "#print a\n",
        "print(a)\n"
      ]
    },
    {
      "cell_type": "markdown",
      "metadata": {
        "id": "2YTPBtyxYulL"
      },
      "source": [
        "We are going to use 'a' array for all our array condition operations.\n"
      ]
    },
    {
      "cell_type": "code",
      "execution_count": 73,
      "metadata": {
        "id": "JQSbD9JZYulL",
        "outputId": "334c367c-6762-4b46-9a05-27580047d7c9",
        "colab": {
          "base_uri": "https://localhost:8080/"
        }
      },
      "outputs": [
        {
          "output_type": "stream",
          "name": "stdout",
          "text": [
            "False\n",
            "[[False False False]\n",
            " [ True  True  True]\n",
            " [ True  True  True]]\n"
          ]
        }
      ],
      "source": [
        "# Check if every element in array a greater than 3 or not Using '>' notation\n",
        "print((a>3).all())    #to check for complete array at a time\n",
        "result = a > 3       # for individual element in array\n",
        "print(result)\n"
      ]
    },
    {
      "cell_type": "code",
      "execution_count": 74,
      "metadata": {
        "id": "TpfwOR_yYulL",
        "outputId": "6c9ab00e-096f-4632-db1e-970ca8680085",
        "colab": {
          "base_uri": "https://localhost:8080/"
        }
      },
      "outputs": [
        {
          "output_type": "stream",
          "name": "stdout",
          "text": [
            "[4, 5, 6, 7, 8, 9]\n"
          ]
        }
      ],
      "source": [
        "# Get a list with all elements of array 'a' grater than 3\n",
        "s=list(a[a>3])\n",
        "print(s)\n",
        "\n"
      ]
    },
    {
      "cell_type": "code",
      "execution_count": 79,
      "metadata": {
        "id": "2GYqOEcBYulL",
        "outputId": "271afcdd-18e5-4b67-a0f1-7fc61987b5d5",
        "colab": {
          "base_uri": "https://localhost:8080/"
        }
      },
      "outputs": [
        {
          "output_type": "stream",
          "name": "stdout",
          "text": [
            "[4, 5]\n"
          ]
        }
      ],
      "source": [
        "# Get a list with all elements of array 'a' greater than 3 but less than 6\n",
        "L=list(a[(a>3)&(a<6)])\n",
        "print(L)\n"
      ]
    },
    {
      "cell_type": "code",
      "execution_count": 80,
      "metadata": {
        "id": "x7Aa1gSQYulL",
        "outputId": "68c19fb3-f56a-448b-a5dc-1e02296cc809",
        "colab": {
          "base_uri": "https://localhost:8080/"
        }
      },
      "outputs": [
        {
          "output_type": "stream",
          "name": "stdout",
          "text": [
            "[ True  True  True  True False]\n"
          ]
        }
      ],
      "source": [
        "# check if each elements in array 'x1' equals array 'x4' using '==' notation\n",
        "print(x1==x4)\n"
      ]
    },
    {
      "cell_type": "markdown",
      "metadata": {
        "id": "TdNqXx9WYulM"
      },
      "source": [
        "You can see in above output that the last element is not same in both x1 and x4\n",
        "\n",
        "Well done so far.\n",
        "\n",
        "Lets check how to transpose an array\n",
        "\n",
        "**2. Transposing array**\n",
        "\n",
        "Reference: https://www.geeksforgeeks.org/python-numpy-numpy-transpose/\n",
        "           https://numpy.org/doc/stable/reference/generated/numpy.transpose.html\n",
        "           https://numpy.org/doc/stable/reference/generated/numpy.ndarray.T.html"
      ]
    },
    {
      "cell_type": "code",
      "execution_count": 81,
      "metadata": {
        "id": "grdPKy65YulM",
        "outputId": "93815164-1a7c-4895-be41-3fcecbae9d8d",
        "colab": {
          "base_uri": "https://localhost:8080/"
        }
      },
      "outputs": [
        {
          "output_type": "stream",
          "name": "stdout",
          "text": [
            "[[1 4 7]\n",
            " [2 5 8]\n",
            " [3 6 9]]\n",
            "-----------------\n",
            "[[1 2 3]\n",
            " [4 5 6]\n",
            " [7 8 9]]\n"
          ]
        }
      ],
      "source": [
        "# Print Transpose of array 'a'\n",
        "print(a.T)\n",
        "\n",
        "#print array 'a'\n",
        "print(\"-----------------\")\n",
        "\n",
        "print(a)\n",
        "\n"
      ]
    },
    {
      "cell_type": "markdown",
      "metadata": {
        "id": "i8NBkK3OYulM"
      },
      "source": [
        "In above output all the rows became columns by transposing"
      ]
    },
    {
      "cell_type": "markdown",
      "metadata": {
        "id": "1vgtMyk8YulM"
      },
      "source": [
        "**3. hstack vs vstack function**\n",
        "\n",
        "### Reference: **`Video 7 : Numpy  Hstack Vs Vstack`**\n",
        "\n",
        "Stacking is same as concatenation, the only difference is that stacking is done along a new axis.\n",
        "\n",
        "NumPy provides a helper function:\n",
        "\n",
        "1. hstack() to stack along rows.\n",
        "2. vstack()  to stack along columns\n",
        "\n",
        "You wanna see how? Then here we go...!\n",
        "\n",
        "reference doc: https://scipython.com/book/chapter-6-numpy/examples/vstack-and-hstack/"
      ]
    },
    {
      "cell_type": "code",
      "execution_count": 83,
      "metadata": {
        "id": "8iXSmEsmYulM",
        "outputId": "f26882a6-f08f-46cb-a044-d772b09a8cc3",
        "colab": {
          "base_uri": "https://localhost:8080/"
        }
      },
      "outputs": [
        {
          "output_type": "stream",
          "name": "stdout",
          "text": [
            "[[100   2   3   4   5]\n",
            " [100   2   3   4 900]]\n"
          ]
        }
      ],
      "source": [
        "# stack x1 and x4 along columns.\n",
        "print(np.vstack((x1,x4)))\n",
        "\n"
      ]
    },
    {
      "cell_type": "code",
      "execution_count": 85,
      "metadata": {
        "id": "VQpItcdCYulM",
        "outputId": "cae15be1-e334-4688-d7eb-76e697450a88",
        "colab": {
          "base_uri": "https://localhost:8080/"
        }
      },
      "outputs": [
        {
          "output_type": "stream",
          "name": "stdout",
          "text": [
            "[100   2   3   4   5 100   2   3   4 900]\n"
          ]
        }
      ],
      "source": [
        "#stack x1 and x4 along rows\n",
        "print(np.hstack((x1,x4)))\n",
        "\n"
      ]
    },
    {
      "cell_type": "markdown",
      "metadata": {
        "id": "YJD_N7B_YulM"
      },
      "source": [
        "We hope now you saw the difference between them.\n",
        "\n",
        "Fun fact! you can even use concatenate() function to join 2 arrays along with the axis. If axis is not explicitly passed, it is taken as 0 ie. along column\n",
        "\n",
        "Lets try this function as well\n",
        "\n",
        "### Reference: **`Video 8: Numpy Concatenation`**"
      ]
    },
    {
      "cell_type": "code",
      "execution_count": 87,
      "metadata": {
        "id": "P2SNMvTaYulM",
        "outputId": "83e63ae6-882d-4752-b6a1-f3f3fb08c038",
        "colab": {
          "base_uri": "https://localhost:8080/"
        }
      },
      "outputs": [
        {
          "output_type": "stream",
          "name": "stdout",
          "text": [
            "[21, 22, 23, 24, 25, 26]\n",
            "[41, 42, 43, 44, 45, 46]\n",
            "[21 22 23 24 25 26 41 42 43 44 45 46]\n"
          ]
        }
      ],
      "source": [
        "arr1 =[21,22,23,24,25,26]\n",
        "\n",
        "print(arr1)\n",
        "\n",
        "arr2 =[41,42,43,44,45,46]\n",
        "\n",
        "print(arr2)\n",
        "\n",
        "\n",
        "##join arr1 and arr2 along rows using concatenate() function\n",
        "con=np.concatenate((arr1,arr2),axis=0)\n",
        "print(con)\n",
        "\n"
      ]
    },
    {
      "cell_type": "code",
      "execution_count": 94,
      "metadata": {
        "id": "dbf1xSfeYulN",
        "outputId": "e7b9ec7e-b809-43b1-f65f-43131e505e92",
        "colab": {
          "base_uri": "https://localhost:8080/"
        }
      },
      "outputs": [
        {
          "output_type": "stream",
          "name": "stdout",
          "text": [
            "[[21]\n",
            " [22]\n",
            " [23]\n",
            " [24]\n",
            " [25]\n",
            " [26]\n",
            " [41]\n",
            " [42]\n",
            " [43]\n",
            " [44]\n",
            " [45]\n",
            " [46]]\n"
          ]
        }
      ],
      "source": [
        "##join arr1 and arr2 along columns using concatenate() function\n",
        "con = np.vstack((np.array((arr1, arr2))).flatten())\n",
        "print(con)\n",
        "\n",
        "\n",
        "\n"
      ]
    },
    {
      "cell_type": "markdown",
      "metadata": {
        "id": "WKy9Lu4vYulN"
      },
      "source": [
        "## Adding, Insert and delete Numpy array\n",
        "\n",
        "### Reference: **`Video 9: Numpy  Insert Append Delete`**"
      ]
    },
    {
      "cell_type": "markdown",
      "metadata": {
        "id": "_W4bZ70AYulN"
      },
      "source": [
        "You can also add 2 arrays using append() function also. This function appends values to end of array\n",
        "\n",
        "Lets see how"
      ]
    },
    {
      "cell_type": "code",
      "execution_count": 95,
      "metadata": {
        "id": "yC1yIKfPYulN",
        "outputId": "c2fa451b-48e5-440d-b847-937aaeedd086",
        "colab": {
          "base_uri": "https://localhost:8080/"
        }
      },
      "outputs": [
        {
          "output_type": "execute_result",
          "data": {
            "text/plain": [
              "array([21, 22, 23, 24, 25, 26, 41, 42, 43, 44, 45, 46])"
            ]
          },
          "metadata": {},
          "execution_count": 95
        }
      ],
      "source": [
        "# append arr2 to arr1\n",
        "np.append(arr1,arr2)\n",
        "\n"
      ]
    },
    {
      "cell_type": "markdown",
      "metadata": {
        "id": "Jb4EPxL4YulN"
      },
      "source": [
        "Lets use insert() function which Inserts values into array before specified index value"
      ]
    },
    {
      "cell_type": "code",
      "source": [
        "print(x1,x2)"
      ],
      "metadata": {
        "colab": {
          "base_uri": "https://localhost:8080/"
        },
        "id": "25emdZR1QsNQ",
        "outputId": "3431d544-ddae-42b1-9214-bdf7515d9acf"
      },
      "execution_count": 98,
      "outputs": [
        {
          "output_type": "stream",
          "name": "stdout",
          "text": [
            "[100   2   3   4   5] [100   2   3   4   5]\n"
          ]
        }
      ]
    },
    {
      "cell_type": "code",
      "execution_count": 96,
      "metadata": {
        "id": "2pF_KctFYulN",
        "outputId": "db598d2b-6962-4fa9-cffd-5aab0abefb0c",
        "colab": {
          "base_uri": "https://localhost:8080/"
        }
      },
      "outputs": [
        {
          "output_type": "execute_result",
          "data": {
            "text/plain": [
              "array([100,   2,   3,   4, 100,   2,   3,   4, 900,   5])"
            ]
          },
          "metadata": {},
          "execution_count": 96
        }
      ],
      "source": [
        "# Inserts values into array x1 before index 4 with elements of x4\n",
        "np.insert(x1,4,x4)\n",
        "\n"
      ]
    },
    {
      "cell_type": "markdown",
      "metadata": {
        "id": "uTDcvWAPYulN"
      },
      "source": [
        "You can see in above output we have inserted all the elements of x4 before index 4 in array x1."
      ]
    },
    {
      "cell_type": "code",
      "execution_count": 97,
      "metadata": {
        "id": "btEqORsVYulN",
        "outputId": "0006f081-dbb2-4e82-ea47-48b7989d57f6",
        "colab": {
          "base_uri": "https://localhost:8080/"
        }
      },
      "outputs": [
        {
          "output_type": "execute_result",
          "data": {
            "text/plain": [
              "array([100,   2,   4,   5])"
            ]
          },
          "metadata": {},
          "execution_count": 97
        }
      ],
      "source": [
        "# delete 2nd element from array x2\n",
        "np.delete(x2,2)\n",
        "\n",
        "\n"
      ]
    },
    {
      "cell_type": "markdown",
      "metadata": {
        "id": "HcSC-kfxYulO"
      },
      "source": [
        "Did you see? 2 value is deleted from x2 which was at index position 2"
      ]
    },
    {
      "cell_type": "markdown",
      "metadata": {
        "id": "4pOQseKpYulO"
      },
      "source": [
        "## Mathmatical operations on Numpy array\n",
        "\n",
        "Reference doc for Numpy Mathmatical functions: https://numpy.org/doc/stable/reference/routines.math.html"
      ]
    },
    {
      "cell_type": "code",
      "execution_count": 106,
      "metadata": {
        "id": "bNI8S0McYulO",
        "colab": {
          "base_uri": "https://localhost:8080/"
        },
        "outputId": "0a6068ca-601e-4213-db7b-a520ab9b56e0"
      },
      "outputs": [
        {
          "output_type": "execute_result",
          "data": {
            "text/plain": [
              "array([[1, 2, 3],\n",
              "       [4, 5, 6],\n",
              "       [7, 8, 9]])"
            ]
          },
          "metadata": {},
          "execution_count": 106
        }
      ],
      "source": [
        "a=np.array([[1,2,3],[4,5,6],[7,8,9]])\n",
        "a\n"
      ]
    },
    {
      "cell_type": "code",
      "execution_count": 107,
      "metadata": {
        "id": "Zr_V_3txYulO",
        "outputId": "608eb749-d1be-4f0e-cc7f-d086bbc7bc9c",
        "colab": {
          "base_uri": "https://localhost:8080/"
        }
      },
      "outputs": [
        {
          "output_type": "execute_result",
          "data": {
            "text/plain": [
              "array([[ 0.84147098,  0.90929743,  0.14112001],\n",
              "       [-0.7568025 , -0.95892427, -0.2794155 ],\n",
              "       [ 0.6569866 ,  0.98935825,  0.41211849]])"
            ]
          },
          "metadata": {},
          "execution_count": 107
        }
      ],
      "source": [
        "# print trigonometric sin value of each element of a\n",
        "np.sin(a)\n",
        "\n"
      ]
    },
    {
      "cell_type": "code",
      "execution_count": 108,
      "metadata": {
        "id": "PC1Tbwj9YulO",
        "outputId": "d4bb8160-b1af-4df3-8236-ffd04f3fb08f",
        "colab": {
          "base_uri": "https://localhost:8080/"
        }
      },
      "outputs": [
        {
          "output_type": "execute_result",
          "data": {
            "text/plain": [
              "array([[ 0.54030231, -0.41614684, -0.9899925 ],\n",
              "       [-0.65364362,  0.28366219,  0.96017029],\n",
              "       [ 0.75390225, -0.14550003, -0.91113026]])"
            ]
          },
          "metadata": {},
          "execution_count": 108
        }
      ],
      "source": [
        "# print trigonometric cos value of each element of a\n",
        "\n",
        "np.cos(a)\n"
      ]
    },
    {
      "cell_type": "code",
      "execution_count": 109,
      "metadata": {
        "id": "63iIO3f9YulO",
        "outputId": "627d545a-893b-490f-f229-81c560c78fa7",
        "colab": {
          "base_uri": "https://localhost:8080/"
        }
      },
      "outputs": [
        {
          "output_type": "execute_result",
          "data": {
            "text/plain": [
              "array([[2.71828183e+00, 7.38905610e+00, 2.00855369e+01],\n",
              "       [5.45981500e+01, 1.48413159e+02, 4.03428793e+02],\n",
              "       [1.09663316e+03, 2.98095799e+03, 8.10308393e+03]])"
            ]
          },
          "metadata": {},
          "execution_count": 109
        }
      ],
      "source": [
        "# Print exponential value of each elements of a\n",
        "np.exp(a)\n",
        "\n"
      ]
    },
    {
      "cell_type": "markdown",
      "metadata": {
        "id": "wm0g6ThYYulO"
      },
      "source": [
        "Referal: https://numpy.org/doc/stable/reference/generated/numpy.sum.html"
      ]
    },
    {
      "cell_type": "code",
      "execution_count": 110,
      "metadata": {
        "id": "s3B4bFujYulO",
        "outputId": "942fcd1e-7e02-49ac-e543-cf69a1ef86c1",
        "colab": {
          "base_uri": "https://localhost:8080/"
        }
      },
      "outputs": [
        {
          "output_type": "execute_result",
          "data": {
            "text/plain": [
              "45"
            ]
          },
          "metadata": {},
          "execution_count": 110
        }
      ],
      "source": [
        "# print total sum of elements of a\n",
        "np.sum(a)\n"
      ]
    },
    {
      "cell_type": "code",
      "execution_count": 112,
      "metadata": {
        "id": "dUTtv9SqYulO",
        "outputId": "93d682b1-5d2c-4b88-be0b-dee8c1bf5934",
        "colab": {
          "base_uri": "https://localhost:8080/"
        }
      },
      "outputs": [
        {
          "output_type": "execute_result",
          "data": {
            "text/plain": [
              "array([ 6, 15, 24])"
            ]
          },
          "metadata": {},
          "execution_count": 112
        }
      ],
      "source": [
        "# Print sum in array a column wise\n",
        "\n",
        "np.sum(a,axis=1)\n",
        "\n"
      ]
    },
    {
      "cell_type": "code",
      "execution_count": 113,
      "metadata": {
        "id": "x0lJolWRYulP",
        "outputId": "c19b4f93-3ebf-4fab-870a-744e32923c3b",
        "colab": {
          "base_uri": "https://localhost:8080/"
        }
      },
      "outputs": [
        {
          "output_type": "execute_result",
          "data": {
            "text/plain": [
              "array([12, 15, 18])"
            ]
          },
          "metadata": {},
          "execution_count": 113
        }
      ],
      "source": [
        "# Print sum in array a row wise\n",
        "\n",
        "np.sum(a,axis=0)\n",
        "\n"
      ]
    },
    {
      "cell_type": "markdown",
      "metadata": {
        "id": "TXULCGQyYulP"
      },
      "source": [
        "Refrence doc: https://numpy.org/doc/stable/reference/generated/numpy.median.html"
      ]
    },
    {
      "cell_type": "code",
      "execution_count": 114,
      "metadata": {
        "id": "xOUP_dbpYulP",
        "outputId": "73199117-c419-49f1-91d4-dfb673563636",
        "colab": {
          "base_uri": "https://localhost:8080/"
        }
      },
      "outputs": [
        {
          "output_type": "execute_result",
          "data": {
            "text/plain": [
              "5.0"
            ]
          },
          "metadata": {},
          "execution_count": 114
        }
      ],
      "source": [
        "# print median of array a\n",
        "\n",
        "np.median(a)\n"
      ]
    },
    {
      "cell_type": "markdown",
      "metadata": {
        "id": "6tnsJXeMYulP"
      },
      "source": [
        "Refrence doc: https://numpy.org/doc/stable/reference/generated/numpy.std.html"
      ]
    },
    {
      "cell_type": "code",
      "execution_count": 115,
      "metadata": {
        "id": "ThkUIu5GYulP",
        "outputId": "e1ff6f69-c683-4862-89b8-aca954a8bfc8",
        "colab": {
          "base_uri": "https://localhost:8080/"
        }
      },
      "outputs": [
        {
          "output_type": "execute_result",
          "data": {
            "text/plain": [
              "2.581988897471611"
            ]
          },
          "metadata": {},
          "execution_count": 115
        }
      ],
      "source": [
        "# print standard deviation of array a\n",
        "np.std(a)\n"
      ]
    },
    {
      "cell_type": "markdown",
      "metadata": {
        "id": "ehT4vuIWYulP"
      },
      "source": [
        "Refrence doc: https://numpy.org/doc/stable/reference/generated/numpy.linalg.det.html"
      ]
    },
    {
      "cell_type": "code",
      "execution_count": 119,
      "metadata": {
        "id": "aDaeOUNxYulQ",
        "outputId": "48c7814a-e92f-4da6-f226-5a4c07a2289b",
        "colab": {
          "base_uri": "https://localhost:8080/"
        }
      },
      "outputs": [
        {
          "output_type": "execute_result",
          "data": {
            "text/plain": [
              "0.0"
            ]
          },
          "metadata": {},
          "execution_count": 119
        }
      ],
      "source": [
        "# print the determinant of array a\n",
        "np.linalg.det(a)\n",
        "\n",
        "\n"
      ]
    },
    {
      "cell_type": "markdown",
      "metadata": {
        "id": "iLO4Wqjvi81-"
      },
      "source": [
        "### **`Note: If your output is zero, it's correct. Our value is negligible too.`**"
      ]
    },
    {
      "cell_type": "markdown",
      "metadata": {
        "id": "FCKIlHTLYulQ"
      },
      "source": [
        "reference doc: https://numpy.org/doc/stable/reference/generated/numpy.linalg.inv.html"
      ]
    },
    {
      "cell_type": "code",
      "execution_count": 120,
      "metadata": {
        "id": "x3O3hN-GYulQ",
        "outputId": "fa7f7adb-e115-45db-c0e1-e5d7951268fa",
        "colab": {
          "base_uri": "https://localhost:8080/",
          "height": 321
        }
      },
      "outputs": [
        {
          "output_type": "error",
          "ename": "LinAlgError",
          "evalue": "Singular matrix",
          "traceback": [
            "\u001b[0;31m---------------------------------------------------------------------------\u001b[0m",
            "\u001b[0;31mLinAlgError\u001b[0m                               Traceback (most recent call last)",
            "\u001b[0;32m<ipython-input-120-2302cf2a1f3a>\u001b[0m in \u001b[0;36m<cell line: 2>\u001b[0;34m()\u001b[0m\n\u001b[1;32m      1\u001b[0m \u001b[0;31m# print the (multiplicative) inverse of array a\u001b[0m\u001b[0;34m\u001b[0m\u001b[0;34m\u001b[0m\u001b[0m\n\u001b[0;32m----> 2\u001b[0;31m \u001b[0mnp\u001b[0m\u001b[0;34m.\u001b[0m\u001b[0mlinalg\u001b[0m\u001b[0;34m.\u001b[0m\u001b[0minv\u001b[0m\u001b[0;34m(\u001b[0m\u001b[0ma\u001b[0m\u001b[0;34m)\u001b[0m\u001b[0;34m\u001b[0m\u001b[0;34m\u001b[0m\u001b[0m\n\u001b[0m\u001b[1;32m      3\u001b[0m \u001b[0;34m\u001b[0m\u001b[0m\n",
            "\u001b[0;32m/usr/local/lib/python3.10/dist-packages/numpy/linalg/linalg.py\u001b[0m in \u001b[0;36minv\u001b[0;34m(a)\u001b[0m\n\u001b[1;32m    559\u001b[0m     \u001b[0msignature\u001b[0m \u001b[0;34m=\u001b[0m \u001b[0;34m'D->D'\u001b[0m \u001b[0;32mif\u001b[0m \u001b[0misComplexType\u001b[0m\u001b[0;34m(\u001b[0m\u001b[0mt\u001b[0m\u001b[0;34m)\u001b[0m \u001b[0;32melse\u001b[0m \u001b[0;34m'd->d'\u001b[0m\u001b[0;34m\u001b[0m\u001b[0;34m\u001b[0m\u001b[0m\n\u001b[1;32m    560\u001b[0m     \u001b[0mextobj\u001b[0m \u001b[0;34m=\u001b[0m \u001b[0mget_linalg_error_extobj\u001b[0m\u001b[0;34m(\u001b[0m\u001b[0m_raise_linalgerror_singular\u001b[0m\u001b[0;34m)\u001b[0m\u001b[0;34m\u001b[0m\u001b[0;34m\u001b[0m\u001b[0m\n\u001b[0;32m--> 561\u001b[0;31m     \u001b[0mainv\u001b[0m \u001b[0;34m=\u001b[0m \u001b[0m_umath_linalg\u001b[0m\u001b[0;34m.\u001b[0m\u001b[0minv\u001b[0m\u001b[0;34m(\u001b[0m\u001b[0ma\u001b[0m\u001b[0;34m,\u001b[0m \u001b[0msignature\u001b[0m\u001b[0;34m=\u001b[0m\u001b[0msignature\u001b[0m\u001b[0;34m,\u001b[0m \u001b[0mextobj\u001b[0m\u001b[0;34m=\u001b[0m\u001b[0mextobj\u001b[0m\u001b[0;34m)\u001b[0m\u001b[0;34m\u001b[0m\u001b[0;34m\u001b[0m\u001b[0m\n\u001b[0m\u001b[1;32m    562\u001b[0m     \u001b[0;32mreturn\u001b[0m \u001b[0mwrap\u001b[0m\u001b[0;34m(\u001b[0m\u001b[0mainv\u001b[0m\u001b[0;34m.\u001b[0m\u001b[0mastype\u001b[0m\u001b[0;34m(\u001b[0m\u001b[0mresult_t\u001b[0m\u001b[0;34m,\u001b[0m \u001b[0mcopy\u001b[0m\u001b[0;34m=\u001b[0m\u001b[0;32mFalse\u001b[0m\u001b[0;34m)\u001b[0m\u001b[0;34m)\u001b[0m\u001b[0;34m\u001b[0m\u001b[0;34m\u001b[0m\u001b[0m\n\u001b[1;32m    563\u001b[0m \u001b[0;34m\u001b[0m\u001b[0m\n",
            "\u001b[0;32m/usr/local/lib/python3.10/dist-packages/numpy/linalg/linalg.py\u001b[0m in \u001b[0;36m_raise_linalgerror_singular\u001b[0;34m(err, flag)\u001b[0m\n\u001b[1;32m    110\u001b[0m \u001b[0;34m\u001b[0m\u001b[0m\n\u001b[1;32m    111\u001b[0m \u001b[0;32mdef\u001b[0m \u001b[0m_raise_linalgerror_singular\u001b[0m\u001b[0;34m(\u001b[0m\u001b[0merr\u001b[0m\u001b[0;34m,\u001b[0m \u001b[0mflag\u001b[0m\u001b[0;34m)\u001b[0m\u001b[0;34m:\u001b[0m\u001b[0;34m\u001b[0m\u001b[0;34m\u001b[0m\u001b[0m\n\u001b[0;32m--> 112\u001b[0;31m     \u001b[0;32mraise\u001b[0m \u001b[0mLinAlgError\u001b[0m\u001b[0;34m(\u001b[0m\u001b[0;34m\"Singular matrix\"\u001b[0m\u001b[0;34m)\u001b[0m\u001b[0;34m\u001b[0m\u001b[0;34m\u001b[0m\u001b[0m\n\u001b[0m\u001b[1;32m    113\u001b[0m \u001b[0;34m\u001b[0m\u001b[0m\n\u001b[1;32m    114\u001b[0m \u001b[0;32mdef\u001b[0m \u001b[0m_raise_linalgerror_nonposdef\u001b[0m\u001b[0;34m(\u001b[0m\u001b[0merr\u001b[0m\u001b[0;34m,\u001b[0m \u001b[0mflag\u001b[0m\u001b[0;34m)\u001b[0m\u001b[0;34m:\u001b[0m\u001b[0;34m\u001b[0m\u001b[0;34m\u001b[0m\u001b[0m\n",
            "\u001b[0;31mLinAlgError\u001b[0m: Singular matrix"
          ]
        }
      ],
      "source": [
        "# print the (multiplicative) inverse of array a\n",
        "np.linalg.inv(a)\n",
        "\n"
      ]
    },
    {
      "cell_type": "markdown",
      "metadata": {
        "id": "PSdNwhMCjG_8"
      },
      "source": [
        "### **`Note: If your output is throwing error, it's correct. Once determinant is zero, it's inverse does not exist. Our value is negligible too.`**"
      ]
    },
    {
      "cell_type": "markdown",
      "metadata": {
        "id": "8QDcUvZaYulQ"
      },
      "source": [
        "Reference doc: https://numpy.org/doc/stable/reference/generated/numpy.linalg.eig.html"
      ]
    },
    {
      "cell_type": "code",
      "execution_count": 121,
      "metadata": {
        "id": "pSsF337GYulQ",
        "outputId": "608dc123-d18c-421e-a005-4d670876575f",
        "colab": {
          "base_uri": "https://localhost:8080/"
        }
      },
      "outputs": [
        {
          "output_type": "execute_result",
          "data": {
            "text/plain": [
              "EigResult(eigenvalues=array([ 1.61168440e+01, -1.11684397e+00, -1.30367773e-15]), eigenvectors=array([[-0.23197069, -0.78583024,  0.40824829],\n",
              "       [-0.52532209, -0.08675134, -0.81649658],\n",
              "       [-0.8186735 ,  0.61232756,  0.40824829]]))"
            ]
          },
          "metadata": {},
          "execution_count": 121
        }
      ],
      "source": [
        "# Print the eigenvalues and right eigenvectors of array a.\n",
        "np.linalg.eig(a)\n",
        "\n"
      ]
    },
    {
      "cell_type": "markdown",
      "metadata": {
        "id": "90M-qatlYulQ"
      },
      "source": [
        "Reference doc: https://numpy.org/doc/stable/reference/generated/numpy.dot.html"
      ]
    },
    {
      "cell_type": "code",
      "execution_count": 122,
      "metadata": {
        "id": "YvK35W7xYulQ",
        "outputId": "5dde5f6b-bf46-45cb-f0c2-543cdf2079fc",
        "colab": {
          "base_uri": "https://localhost:8080/"
        }
      },
      "outputs": [
        {
          "output_type": "execute_result",
          "data": {
            "text/plain": [
              "6151"
            ]
          },
          "metadata": {},
          "execution_count": 122
        }
      ],
      "source": [
        "# compute dot product of arr1 and arr2\n",
        "np.dot(arr1,arr2)\n",
        "\n",
        "\n"
      ]
    },
    {
      "cell_type": "markdown",
      "metadata": {
        "id": "7FtPtN2RYulR"
      },
      "source": [
        "reference doc: https://numpy.org/doc/stable/reference/generated/numpy.ndarray.max.html"
      ]
    },
    {
      "cell_type": "code",
      "execution_count": 123,
      "metadata": {
        "id": "puuomFoWYulR",
        "outputId": "3e5700ba-b18a-4953-92b9-7b72f0317d3c",
        "colab": {
          "base_uri": "https://localhost:8080/"
        }
      },
      "outputs": [
        {
          "output_type": "stream",
          "name": "stdout",
          "text": [
            "9\n"
          ]
        }
      ],
      "source": [
        "#print largest element present in array a\n",
        "print(np.max(a))\n",
        "\n"
      ]
    },
    {
      "cell_type": "markdown",
      "metadata": {
        "id": "idjVls_yYulR"
      },
      "source": [
        "Reference doc: https://numpy.org/doc/stable/reference/generated/numpy.argmax.html"
      ]
    },
    {
      "cell_type": "code",
      "execution_count": 124,
      "metadata": {
        "id": "iPerydXGYulR",
        "outputId": "730a799e-2705-4d86-8988-e132948a00ae",
        "colab": {
          "base_uri": "https://localhost:8080/"
        }
      },
      "outputs": [
        {
          "output_type": "stream",
          "name": "stdout",
          "text": [
            "8\n"
          ]
        }
      ],
      "source": [
        "#print index of largest element present in array a\n",
        "print(np.argmax(a))\n",
        "\n"
      ]
    },
    {
      "cell_type": "markdown",
      "metadata": {
        "id": "rdIfEac-YulR"
      },
      "source": [
        "Reference doc: https://numpy.org/doc/stable/reference/generated/numpy.sort.html"
      ]
    },
    {
      "cell_type": "code",
      "execution_count": 125,
      "metadata": {
        "id": "JgVZXhepYulR",
        "outputId": "0caa229b-9590-44a5-93ae-e68953a83a15",
        "colab": {
          "base_uri": "https://localhost:8080/"
        }
      },
      "outputs": [
        {
          "output_type": "stream",
          "name": "stdout",
          "text": [
            "[  2   3   4 100 900]\n"
          ]
        }
      ],
      "source": [
        "# print sorted x4 array\n",
        "print(np.sort(x4))\n",
        "\n"
      ]
    },
    {
      "cell_type": "markdown",
      "metadata": {
        "id": "1GXRAgFaYulR"
      },
      "source": [
        "Reference doc: https://numpy.org/doc/stable/reference/generated/numpy.argsort.html"
      ]
    },
    {
      "cell_type": "code",
      "execution_count": 126,
      "metadata": {
        "id": "cYG_VojYYulR",
        "outputId": "3e75272e-26e4-4a02-92b2-b128831ad02b",
        "colab": {
          "base_uri": "https://localhost:8080/"
        }
      },
      "outputs": [
        {
          "output_type": "stream",
          "name": "stdout",
          "text": [
            "[1 2 3 0 4]\n"
          ]
        }
      ],
      "source": [
        "# print indices of each sorted element in x4 array\n",
        "print(np.argsort(x4))\n",
        "\n",
        "\n"
      ]
    },
    {
      "cell_type": "markdown",
      "metadata": {
        "id": "UqIBFqzqYulR"
      },
      "source": [
        "## Searching Arrays\n",
        "\n",
        "Reference:\n",
        "- https://www.geeksforgeeks.org/numpy-where-in-python/\n",
        "- https://numpy.org/doc/stable/reference/generated/numpy.where.html\n",
        "\n",
        "You can search an array for a certain value, and return the indexes that get a match.\n",
        "\n",
        "To search an array, use the where() method."
      ]
    },
    {
      "cell_type": "code",
      "execution_count": 127,
      "metadata": {
        "id": "Os0xU99BYulS",
        "outputId": "ecdb0a63-fcf1-4176-cd0e-512d07f83be6",
        "colab": {
          "base_uri": "https://localhost:8080/"
        }
      },
      "outputs": [
        {
          "output_type": "execute_result",
          "data": {
            "text/plain": [
              "(array([3]),)"
            ]
          },
          "metadata": {},
          "execution_count": 127
        }
      ],
      "source": [
        "# print the indexes where the value is 4 in array x1\n",
        "np.where(x1==4)\n",
        "\n",
        "\n"
      ]
    },
    {
      "cell_type": "markdown",
      "metadata": {
        "id": "WzPpYWvJYulS"
      },
      "source": [
        "Which means that the value 4 is present at index 4\n",
        "\n",
        "You can check it by printing array x1"
      ]
    },
    {
      "cell_type": "code",
      "execution_count": 128,
      "metadata": {
        "id": "DnoJA3iQYulS",
        "outputId": "d704a2f5-765b-464b-9622-aaeaca853910",
        "colab": {
          "base_uri": "https://localhost:8080/"
        }
      },
      "outputs": [
        {
          "output_type": "stream",
          "name": "stdout",
          "text": [
            "[100   2   3   4   5]\n"
          ]
        }
      ],
      "source": [
        "#print array x1\n",
        "print(x1)\n",
        "\n"
      ]
    },
    {
      "cell_type": "code",
      "execution_count": 129,
      "metadata": {
        "id": "GGOLxwKAYulS",
        "outputId": "8ce463bb-17b3-48e7-97f6-dbabe1a12b54",
        "colab": {
          "base_uri": "https://localhost:8080/"
        }
      },
      "outputs": [
        {
          "output_type": "execute_result",
          "data": {
            "text/plain": [
              "(array([0, 1, 3]),)"
            ]
          },
          "metadata": {},
          "execution_count": 129
        }
      ],
      "source": [
        "# Print the indexes where the values are even in array x1\n",
        "np.where(x1%2==0)\n",
        "\n",
        "\n"
      ]
    },
    {
      "cell_type": "code",
      "execution_count": 130,
      "metadata": {
        "id": "ZVjXEAYQYulS",
        "outputId": "3a05d646-7406-4a61-b669-848192ce9286",
        "colab": {
          "base_uri": "https://localhost:8080/"
        }
      },
      "outputs": [
        {
          "output_type": "execute_result",
          "data": {
            "text/plain": [
              "array([100,   0,   0,   0,   0])"
            ]
          },
          "metadata": {},
          "execution_count": 130
        }
      ],
      "source": [
        "# Print x1 where x1 is greater than 5, also if number is less than 5 then replace it with 0\n",
        "np.where(x1>5,x1,0)\n",
        "\n"
      ]
    },
    {
      "cell_type": "markdown",
      "metadata": {
        "id": "3XDGaMkZYulS"
      },
      "source": [
        "Good Job learner!\n",
        "\n",
        "---------------------\n",
        "# Bam! Congratulations You have completed your 4th milestone challenge too!\n",
        "\n",
        "----------------------\n",
        "\n",
        "# FeedBack\n",
        "We hope you’ve enjoyed this course so far. We’re committed to help you use \"AI for All\" course to its full potential, so that you have a great learning experience. And that’s why we need your help in form of a feedback here.\n",
        "\n",
        "Please fill this feedback form https://docs.google.com/forms/d/e/1FAIpQLSfjBmH0yJSSA34IhSVx4h2eDMgOAeG4Dk-yHid__NMTk3Hq5g/viewform"
      ]
    }
  ],
  "metadata": {
    "colab": {
      "provenance": []
    },
    "kernelspec": {
      "display_name": "Python 3",
      "language": "python",
      "name": "python3"
    },
    "language_info": {
      "codemirror_mode": {
        "name": "ipython",
        "version": 3
      },
      "file_extension": ".py",
      "mimetype": "text/x-python",
      "name": "python",
      "nbconvert_exporter": "python",
      "pygments_lexer": "ipython3",
      "version": "3.8.5"
    }
  },
  "nbformat": 4,
  "nbformat_minor": 0
}